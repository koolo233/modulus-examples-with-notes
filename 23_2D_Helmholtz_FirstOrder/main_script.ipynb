{
 "cells": [
  {
   "cell_type": "markdown",
   "id": "d787cdb7",
   "metadata": {},
   "source": [
    "## 问题定义\n",
    "\n",
    "本问题为求解2D Helmholtz方程。其形式可以参考案例18中的PDE定义。\n",
    "\n",
    "\n",
    "### 求解目标\n",
    "\n",
    "要求求解给定区域内的Helmholtz方程\n",
    "\n",
    "## First Order\n",
    "\n",
    "对于高阶导数，可以拆解为两步低阶。在一些特殊方法以及PDE求解问题中，高阶导数项会带来不稳定，通过引入额外的约束项能够缓解这一问题。\n",
    "\n",
    "具体而言，对于Helmholtz有如下拆解：\n",
    "\n",
    "![First Order](./resource/first_order.png)\n"
   ]
  },
  {
   "cell_type": "markdown",
   "id": "77b4e6a5",
   "metadata": {},
   "source": [
    "## 求解"
   ]
  },
  {
   "cell_type": "code",
   "execution_count": 1,
   "id": "b1f223f4",
   "metadata": {},
   "outputs": [],
   "source": [
    "import os\n",
    "import warnings\n",
    "\n",
    "# optional\n",
    "# set appropriate GPU in case of multi-GPU machine\n",
    "os.environ[\"CUDA_DEVICE_ORDER\"]=\"PCI_BUS_ID\"\n",
    "os.environ[\"CUDA_VISIBLE_DEVICES\"]=\"7\""
   ]
  },
  {
   "cell_type": "code",
   "execution_count": 2,
   "id": "12011ac4",
   "metadata": {},
   "outputs": [],
   "source": [
    "from modulus.sym.hydra import to_yaml\n",
    "from modulus.sym.hydra.utils import compose\n",
    "from modulus.sym.utils.io.plotter import ValidatorPlotter, InferencerPlotter"
   ]
  },
  {
   "cell_type": "code",
   "execution_count": 3,
   "id": "dd0cf1b9",
   "metadata": {},
   "outputs": [],
   "source": [
    "import torch\n",
    "import numpy as np\n",
    "from sympy import Symbol, pi, sin\n",
    "from typing import List, Tuple, Dict\n",
    "\n",
    "import modulus.sym\n",
    "from modulus.sym.hydra import to_absolute_path, instantiate_arch, ModulusConfig\n",
    "from modulus.sym.utils.io import csv_to_dict\n",
    "from modulus.sym.solver import Solver\n",
    "from modulus.sym.domain import Domain\n",
    "from modulus.sym.geometry.primitives_2d import Rectangle\n",
    "from modulus.sym.domain.constraint import (\n",
    "    PointwiseBoundaryConstraint,\n",
    "    PointwiseInteriorConstraint,\n",
    ")\n",
    "from modulus.sym.domain.validator import PointwiseValidator\n",
    "from modulus.sym.key import Key\n",
    "from modulus.sym.node import Node\n",
    "from modulus.sym.geometry.adf import ADF\n",
    "from modulus.sym.eq.pdes.wave_equation import HelmholtzEquation"
   ]
  },
  {
   "cell_type": "code",
   "execution_count": 4,
   "id": "613f5d80",
   "metadata": {
    "scrolled": true
   },
   "outputs": [
    {
     "name": "stderr",
     "output_type": "stream",
     "text": [
      "/usr/local/lib/python3.10/dist-packages/modulus/sym/hydra/utils.py:148: UserWarning: \n",
      "The version_base parameter is not specified.\n",
      "Please specify a compatability version level, or None.\n",
      "Will assume defaults for version 1.1\n",
      "  hydra.initialize(\n"
     ]
    },
    {
     "name": "stdout",
     "output_type": "stream",
     "text": [
      "training:\n",
      "  max_steps: 20000\n",
      "  grad_agg_freq: 1\n",
      "  rec_results_freq: 1000\n",
      "  rec_validation_freq: ${training.rec_results_freq}\n",
      "  rec_inference_freq: ${training.rec_results_freq}\n",
      "  rec_monitor_freq: ${training.rec_results_freq}\n",
      "  rec_constraint_freq: 2000\n",
      "  save_network_freq: 1000\n",
      "  print_stats_freq: 100\n",
      "  summary_freq: 1000\n",
      "  amp: false\n",
      "  amp_dtype: float16\n",
      "  ntk:\n",
      "    use_ntk: false\n",
      "    save_name: null\n",
      "    run_freq: 1000\n",
      "graph:\n",
      "  func_arch: false\n",
      "  func_arch_allow_partial_hessian: true\n",
      "stop_criterion:\n",
      "  metric: null\n",
      "  min_delta: null\n",
      "  patience: 50000\n",
      "  mode: min\n",
      "  freq: 1000\n",
      "  strict: false\n",
      "profiler:\n",
      "  profile: false\n",
      "  start_step: 0\n",
      "  end_step: 100\n",
      "  name: nvtx\n",
      "network_dir: outputs\n",
      "initialization_network_dir: ''\n",
      "save_filetypes: vtk,npz\n",
      "summary_histograms: false\n",
      "jit: true\n",
      "jit_use_nvfuser: true\n",
      "jit_arch_mode: only_activation\n",
      "jit_autograd_nodes: false\n",
      "cuda_graphs: false\n",
      "cuda_graph_warmup: 20\n",
      "find_unused_parameters: false\n",
      "broadcast_buffers: false\n",
      "device: ''\n",
      "debug: false\n",
      "run_mode: train\n",
      "arch:\n",
      "  fully_connected:\n",
      "    arch_type: fully_connected\n",
      "    input_keys: ???\n",
      "    output_keys: ???\n",
      "    detach_keys: ???\n",
      "    scaling: null\n",
      "    layer_size: 512\n",
      "    nr_layers: 6\n",
      "    skip_connections: false\n",
      "    activation_fn: silu\n",
      "    adaptive_activations: false\n",
      "    weight_norm: true\n",
      "models: ???\n",
      "loss:\n",
      "  _target_: modulus.sym.loss.aggregator.Sum\n",
      "  weights: null\n",
      "optimizer:\n",
      "  _params_:\n",
      "    compute_gradients: adam_compute_gradients\n",
      "    apply_gradients: adam_apply_gradients\n",
      "  _target_: torch.optim.Adam\n",
      "  lr: 0.001\n",
      "  betas:\n",
      "  - 0.9\n",
      "  - 0.999\n",
      "  eps: 1.0e-08\n",
      "  weight_decay: 0.0\n",
      "  amsgrad: false\n",
      "scheduler:\n",
      "  _target_: custom\n",
      "  _name_: tf.ExponentialLR\n",
      "  decay_rate: 0.95\n",
      "  decay_steps: 200\n",
      "batch_size:\n",
      "  wall: 800\n",
      "  interior: 4000\n",
      "custom: ???\n",
      "\n"
     ]
    }
   ],
   "source": [
    "cfg = compose(config_path=\"conf\", config_name=\"config\")\n",
    "cfg.network_dir = 'outputs'    # Set the network directory for checkpoints\n",
    "print(to_yaml(cfg))"
   ]
  },
  {
   "cell_type": "markdown",
   "id": "14d70fc0",
   "metadata": {},
   "source": [
    "### 定义必要组件"
   ]
  },
  {
   "cell_type": "markdown",
   "id": "76b3f58b",
   "metadata": {},
   "source": [
    "#### Geo"
   ]
  },
  {
   "cell_type": "code",
   "execution_count": 5,
   "id": "c001b667",
   "metadata": {},
   "outputs": [],
   "source": [
    "x, y = Symbol(\"x\"), Symbol(\"y\")\n",
    "height = 2\n",
    "width = 2\n",
    "rec = Rectangle((-width / 2, -height / 2), (width / 2, height / 2))"
   ]
  },
  {
   "cell_type": "markdown",
   "id": "e575f4c2",
   "metadata": {},
   "source": [
    "#### PDE"
   ]
  },
  {
   "cell_type": "code",
   "execution_count": 6,
   "id": "e3ab702f",
   "metadata": {},
   "outputs": [],
   "source": [
    "wave = HelmholtzEquation(u=\"u\", k=1.0, dim=2, mixed_form=True)  # 亥姆霍兹方程，注意这里需要定义mixed_form=True，从而启用first order method"
   ]
  },
  {
   "cell_type": "markdown",
   "id": "2ee27a28",
   "metadata": {},
   "source": [
    "#### Model"
   ]
  },
  {
   "cell_type": "code",
   "execution_count": 7,
   "id": "5a3af9d3",
   "metadata": {},
   "outputs": [],
   "source": [
    "# 定义简单的全连接网络\n",
    "# 输入为空间坐标\n",
    "# 输出为模型预测结果以及对应的一阶项（关于此，请参考官方文档中的first order method）\n",
    "# https://docs.nvidia.com/deeplearning/modulus/modulus-sym/user_guide/theory/advanced_schemes.html#exact-boundary-condition-imposition\n",
    "wave_net = instantiate_arch(\n",
    "    input_keys=[Key(\"x\"), Key(\"y\")],\n",
    "    output_keys=[Key(\"u\"), Key(\"u_x\"), Key(\"u_y\")],\n",
    "    cfg=cfg.arch.fully_connected,\n",
    ")"
   ]
  },
  {
   "cell_type": "markdown",
   "id": "41bab61b",
   "metadata": {},
   "source": [
    "#### Node"
   ]
  },
  {
   "cell_type": "code",
   "execution_count": 8,
   "id": "a4593125",
   "metadata": {},
   "outputs": [],
   "source": [
    "nodes = (\n",
    "    wave.make_nodes()  # PDE\n",
    "    + [wave_net.make_node(name=\"wave_network\")]  # model\n",
    ")"
   ]
  },
  {
   "cell_type": "markdown",
   "id": "f52efd6c",
   "metadata": {},
   "source": [
    "#### Domain"
   ]
  },
  {
   "cell_type": "code",
   "execution_count": 9,
   "id": "2c7f0404",
   "metadata": {},
   "outputs": [],
   "source": [
    "domain = Domain()"
   ]
  },
  {
   "cell_type": "markdown",
   "id": "5d3e7143",
   "metadata": {},
   "source": [
    "#### ABC边界"
   ]
  },
  {
   "cell_type": "code",
   "execution_count": 10,
   "id": "28260396",
   "metadata": {
    "scrolled": true
   },
   "outputs": [],
   "source": [
    "wall = PointwiseBoundaryConstraint(\n",
    "    nodes=nodes,\n",
    "    geometry=rec,\n",
    "    outvar={\"u\": 0},\n",
    "    batch_size=cfg.batch_size.wall,\n",
    ")\n",
    "domain.add_constraint(wall, \"wall\")"
   ]
  },
  {
   "cell_type": "markdown",
   "id": "9388e9e1",
   "metadata": {},
   "source": [
    "#### PDE约束"
   ]
  },
  {
   "cell_type": "code",
   "execution_count": 11,
   "id": "6a15c4e7",
   "metadata": {},
   "outputs": [],
   "source": [
    "interior = PointwiseInteriorConstraint(\n",
    "    nodes=nodes,\n",
    "    geometry=rec,\n",
    "    outvar={\n",
    "        \"helmholtz\": -(\n",
    "            -((pi) ** 2) * sin(pi * x) * sin(4 * pi * y)\n",
    "            - ((4 * pi) ** 2) * sin(pi * x) * sin(4 * pi * y)\n",
    "            + 1 * sin(pi * x) * sin(4 * pi * y)\n",
    "        ),  # PDE约束\n",
    "        \"compatibility_u_x\": 0,  # 一阶项预测约束\n",
    "        \"compatibility_u_y\": 0,  # 一阶项预测约束\n",
    "    },\n",
    "    batch_size=cfg.batch_size.interior,\n",
    "    bounds={x: (-width / 2, width / 2), y: (-height / 2, height / 2)},\n",
    "    lambda_weighting={\n",
    "        \"helmholtz\": Symbol(\"sdf\"),\n",
    "        \"compatibility_u_x\": 0.5,\n",
    "        \"compatibility_u_y\": 0.5,\n",
    "    },\n",
    ")\n",
    "domain.add_constraint(interior, \"interior\")"
   ]
  },
  {
   "cell_type": "markdown",
   "id": "33c0e57c",
   "metadata": {},
   "source": [
    "#### 验证器以及其他必要组件"
   ]
  },
  {
   "cell_type": "code",
   "execution_count": 12,
   "id": "2a81d5dd",
   "metadata": {},
   "outputs": [],
   "source": [
    "file_path = \"openfoam/helmholtz.csv\"\n",
    "if os.path.exists(to_absolute_path(file_path)):\n",
    "    mapping = {\"x\": \"x\", \"y\": \"y\", \"z\": \"u\"}\n",
    "    openfoam_var = csv_to_dict(to_absolute_path(file_path), mapping)\n",
    "    openfoam_invar_numpy = {\n",
    "        key: value for key, value in openfoam_var.items() if key in [\"x\", \"y\"]\n",
    "    }\n",
    "    openfoam_outvar_numpy = {\n",
    "        key: value for key, value in openfoam_var.items() if key in [\"u\"]\n",
    "    }\n",
    "\n",
    "    openfoam_validator = PointwiseValidator(\n",
    "        nodes=nodes,\n",
    "        invar=openfoam_invar_numpy,\n",
    "        true_outvar=openfoam_outvar_numpy,\n",
    "        batch_size=1024,\n",
    "        plotter=ValidatorPlotter(),\n",
    "    )\n",
    "    domain.add_validator(openfoam_validator)\n",
    "else:\n",
    "    warnings.warn(\n",
    "        f\"Directory {file_path} does not exist. Will skip adding validators. Please download the additional files from NGC https://catalog.ngc.nvidia.com/orgs/nvidia/teams/modulus/resources/modulus_sym_examples_supplemental_materials\"\n",
    "    )"
   ]
  },
  {
   "cell_type": "markdown",
   "id": "473c37fb",
   "metadata": {},
   "source": [
    "### 求解器以及求解"
   ]
  },
  {
   "cell_type": "code",
   "execution_count": 13,
   "id": "97b90486",
   "metadata": {},
   "outputs": [],
   "source": [
    "# 定义求解器\n",
    "slv = Solver(cfg, domain)"
   ]
  },
  {
   "cell_type": "markdown",
   "id": "ef9af551",
   "metadata": {},
   "source": [
    "手动加载日志系统"
   ]
  },
  {
   "cell_type": "code",
   "execution_count": 14,
   "id": "39932aa9",
   "metadata": {},
   "outputs": [],
   "source": [
    "import logging\n",
    "# logging.getLogger().addHandler(logging.StreamHandler())\n",
    "logger = logging.getLogger()\n",
    "logger.setLevel(logging.INFO)\n",
    "\n",
    "# create console handler and set level to debug\n",
    "ch = logging.StreamHandler()\n",
    "ch.setLevel(logging.INFO)\n",
    "\n",
    "# create formatter\n",
    "formatter = logging.Formatter('%(asctime)s - %(levelname)s - %(message)s')\n",
    "\n",
    "# add formatter to ch\n",
    "ch.setFormatter(formatter)\n",
    "\n",
    "# add ch to logger\n",
    "logger.addHandler(ch)"
   ]
  },
  {
   "cell_type": "markdown",
   "id": "bd8adfbd",
   "metadata": {},
   "source": [
    "启动求解"
   ]
  },
  {
   "cell_type": "code",
   "execution_count": 15,
   "id": "c9b2fdb2",
   "metadata": {
    "scrolled": true
   },
   "outputs": [
    {
     "name": "stderr",
     "output_type": "stream",
     "text": [
      "2024-03-03 08:32:50,927 - WARNING - Installed PyTorch version 2.2.0a0+81ea7a4 is not TorchScript supported in Modulus. Version 2.1.0a0+4136153 is officially supported.\n",
      "2024-03-03 08:32:50,938 - INFO - attempting to restore from: /workspace/23_2D_Helmholtz_FirstOrder/outputs\n",
      "2024-03-03 08:32:50,939 - WARNING - optimizer checkpoint not found\n",
      "2024-03-03 08:32:50,940 - WARNING - model wave_network.0.pth not found\n",
      "2024-03-03 08:32:51,965 - INFO - [step:          0] record constraint batch time:  5.973e-02s\n",
      "2024-03-03 08:33:03,915 - INFO - [step:          0] record validators time:  1.195e+01s\n",
      "2024-03-03 08:33:04,006 - INFO - [step:          0] saved checkpoint to /workspace/23_2D_Helmholtz_FirstOrder/outputs\n",
      "2024-03-03 08:33:04,008 - INFO - [step:          0] loss:  1.050e+04\n",
      "2024-03-03 08:33:08,897 - INFO - [step:        100] loss:  9.863e+03, time/iteration:  4.889e+01 ms\n",
      "2024-03-03 08:33:13,665 - INFO - [step:        200] loss:  2.970e+03, time/iteration:  4.766e+01 ms\n",
      "2024-03-03 08:33:19,112 - INFO - [step:        300] loss:  4.522e+01, time/iteration:  5.446e+01 ms\n",
      "2024-03-03 08:33:24,205 - INFO - [step:        400] loss:  1.434e+01, time/iteration:  5.091e+01 ms\n",
      "2024-03-03 08:33:29,702 - INFO - [step:        500] loss:  2.717e+01, time/iteration:  5.495e+01 ms\n",
      "2024-03-03 08:33:34,544 - INFO - [step:        600] loss:  5.988e+00, time/iteration:  4.840e+01 ms\n",
      "2024-03-03 08:33:39,543 - INFO - [step:        700] loss:  4.423e+00, time/iteration:  4.997e+01 ms\n",
      "2024-03-03 08:33:44,540 - INFO - [step:        800] loss:  9.213e+00, time/iteration:  4.995e+01 ms\n",
      "2024-03-03 08:33:49,166 - INFO - [step:        900] loss:  3.845e+00, time/iteration:  4.624e+01 ms\n",
      "2024-03-03 08:34:05,883 - INFO - [step:       1000] record validators time:  1.169e+01s\n",
      "2024-03-03 08:34:05,925 - INFO - [step:       1000] saved checkpoint to /workspace/23_2D_Helmholtz_FirstOrder/outputs\n",
      "2024-03-03 08:34:05,927 - INFO - [step:       1000] loss:  2.898e+00, time/iteration:  1.676e+02 ms\n",
      "2024-03-03 08:34:10,734 - INFO - [step:       1100] loss:  1.272e+00, time/iteration:  4.806e+01 ms\n",
      "2024-03-03 08:34:15,206 - INFO - [step:       1200] loss:  1.211e+00, time/iteration:  4.471e+01 ms\n",
      "2024-03-03 08:34:19,963 - INFO - [step:       1300] loss:  5.868e+00, time/iteration:  4.755e+01 ms\n",
      "2024-03-03 08:34:24,798 - INFO - [step:       1400] loss:  5.871e-01, time/iteration:  4.833e+01 ms\n",
      "2024-03-03 08:34:29,902 - INFO - [step:       1500] loss:  5.925e-01, time/iteration:  5.103e+01 ms\n",
      "2024-03-03 08:34:35,819 - INFO - [step:       1600] loss:  5.103e-01, time/iteration:  5.916e+01 ms\n",
      "2024-03-03 08:34:40,762 - INFO - [step:       1700] loss:  2.522e+01, time/iteration:  4.940e+01 ms\n",
      "2024-03-03 08:34:45,656 - INFO - [step:       1800] loss:  3.758e-01, time/iteration:  4.891e+01 ms\n",
      "2024-03-03 08:34:50,765 - INFO - [step:       1900] loss:  3.876e-01, time/iteration:  5.107e+01 ms\n",
      "2024-03-03 08:34:56,461 - INFO - [step:       2000] record constraint batch time:  4.401e-02s\n",
      "2024-03-03 08:35:08,523 - INFO - [step:       2000] record validators time:  1.206e+01s\n",
      "2024-03-03 08:35:08,614 - INFO - [step:       2000] saved checkpoint to /workspace/23_2D_Helmholtz_FirstOrder/outputs\n",
      "2024-03-03 08:35:08,616 - INFO - [step:       2000] loss:  3.679e+00, time/iteration:  1.785e+02 ms\n",
      "2024-03-03 08:35:14,015 - INFO - [step:       2100] loss:  1.805e+00, time/iteration:  5.399e+01 ms\n",
      "2024-03-03 08:35:19,251 - INFO - [step:       2200] loss:  2.530e-01, time/iteration:  5.234e+01 ms\n",
      "2024-03-03 08:35:23,851 - INFO - [step:       2300] loss:  2.373e-01, time/iteration:  4.597e+01 ms\n",
      "2024-03-03 08:35:29,251 - INFO - [step:       2400] loss:  1.076e+00, time/iteration:  5.399e+01 ms\n",
      "2024-03-03 08:35:34,399 - INFO - [step:       2500] loss:  3.297e-01, time/iteration:  5.146e+01 ms\n",
      "2024-03-03 08:35:39,264 - INFO - [step:       2600] loss:  5.829e-01, time/iteration:  4.862e+01 ms\n",
      "2024-03-03 08:35:44,098 - INFO - [step:       2700] loss:  5.294e-01, time/iteration:  4.833e+01 ms\n",
      "2024-03-03 08:35:48,835 - INFO - [step:       2800] loss:  2.248e+00, time/iteration:  4.735e+01 ms\n",
      "2024-03-03 08:35:54,460 - INFO - [step:       2900] loss:  2.586e-01, time/iteration:  5.622e+01 ms\n",
      "2024-03-03 08:36:13,451 - INFO - [step:       3000] record validators time:  1.172e+01s\n",
      "2024-03-03 08:36:13,571 - INFO - [step:       3000] saved checkpoint to /workspace/23_2D_Helmholtz_FirstOrder/outputs\n",
      "2024-03-03 08:36:13,573 - INFO - [step:       3000] loss:  1.478e-01, time/iteration:  1.911e+02 ms\n",
      "2024-03-03 08:36:19,080 - INFO - [step:       3100] loss:  9.592e-01, time/iteration:  5.505e+01 ms\n",
      "2024-03-03 08:36:24,567 - INFO - [step:       3200] loss:  3.727e-01, time/iteration:  5.484e+01 ms\n",
      "2024-03-03 08:36:29,761 - INFO - [step:       3300] loss:  7.028e-01, time/iteration:  5.192e+01 ms\n",
      "2024-03-03 08:36:35,082 - INFO - [step:       3400] loss:  2.053e-01, time/iteration:  5.320e+01 ms\n",
      "2024-03-03 08:36:40,502 - INFO - [step:       3500] loss:  1.400e-01, time/iteration:  5.418e+01 ms\n",
      "2024-03-03 08:36:44,867 - INFO - [step:       3600] loss:  6.710e+00, time/iteration:  4.363e+01 ms\n",
      "2024-03-03 08:36:49,623 - INFO - [step:       3700] loss:  5.358e-01, time/iteration:  4.755e+01 ms\n",
      "2024-03-03 08:36:55,370 - INFO - [step:       3800] loss:  2.760e-01, time/iteration:  5.745e+01 ms\n",
      "2024-03-03 08:37:00,810 - INFO - [step:       3900] loss:  3.482e+00, time/iteration:  5.436e+01 ms\n",
      "2024-03-03 08:37:06,154 - INFO - [step:       4000] record constraint batch time:  6.650e-02s\n",
      "2024-03-03 08:37:17,710 - INFO - [step:       4000] record validators time:  1.155e+01s\n",
      "2024-03-03 08:37:17,811 - INFO - [step:       4000] saved checkpoint to /workspace/23_2D_Helmholtz_FirstOrder/outputs\n",
      "2024-03-03 08:37:17,813 - INFO - [step:       4000] loss:  6.740e-01, time/iteration:  1.700e+02 ms\n",
      "2024-03-03 08:37:23,131 - INFO - [step:       4100] loss:  1.285e+00, time/iteration:  5.317e+01 ms\n",
      "2024-03-03 08:37:29,280 - INFO - [step:       4200] loss:  1.140e-01, time/iteration:  6.148e+01 ms\n",
      "2024-03-03 08:37:34,762 - INFO - [step:       4300] loss:  1.433e-01, time/iteration:  5.480e+01 ms\n",
      "2024-03-03 08:37:39,670 - INFO - [step:       4400] loss:  1.623e+00, time/iteration:  4.905e+01 ms\n",
      "2024-03-03 08:37:44,715 - INFO - [step:       4500] loss:  1.628e-01, time/iteration:  5.043e+01 ms\n",
      "2024-03-03 08:37:49,774 - INFO - [step:       4600] loss:  8.379e-01, time/iteration:  5.057e+01 ms\n",
      "2024-03-03 08:37:54,946 - INFO - [step:       4700] loss:  2.337e-01, time/iteration:  5.170e+01 ms\n",
      "2024-03-03 08:38:00,005 - INFO - [step:       4800] loss:  3.468e+00, time/iteration:  5.057e+01 ms\n",
      "2024-03-03 08:38:04,450 - INFO - [step:       4900] loss:  8.727e-02, time/iteration:  4.443e+01 ms\n",
      "2024-03-03 08:38:22,913 - INFO - [step:       5000] record validators time:  1.234e+01s\n",
      "2024-03-03 08:38:23,003 - INFO - [step:       5000] saved checkpoint to /workspace/23_2D_Helmholtz_FirstOrder/outputs\n",
      "2024-03-03 08:38:23,005 - INFO - [step:       5000] loss:  2.753e-01, time/iteration:  1.855e+02 ms\n",
      "2024-03-03 08:38:27,883 - INFO - [step:       5100] loss:  9.711e-02, time/iteration:  4.876e+01 ms\n",
      "2024-03-03 08:38:33,084 - INFO - [step:       5200] loss:  2.676e-01, time/iteration:  5.198e+01 ms\n",
      "2024-03-03 08:38:38,484 - INFO - [step:       5300] loss:  4.821e-01, time/iteration:  5.398e+01 ms\n",
      "2024-03-03 08:38:43,815 - INFO - [step:       5400] loss:  1.065e-01, time/iteration:  5.328e+01 ms\n",
      "2024-03-03 08:38:48,885 - INFO - [step:       5500] loss:  1.998e-01, time/iteration:  5.067e+01 ms\n",
      "2024-03-03 08:38:54,374 - INFO - [step:       5600] loss:  7.949e-01, time/iteration:  5.487e+01 ms\n",
      "2024-03-03 08:39:00,300 - INFO - [step:       5700] loss:  1.180e-01, time/iteration:  5.924e+01 ms\n",
      "2024-03-03 08:39:05,790 - INFO - [step:       5800] loss:  4.059e-01, time/iteration:  5.487e+01 ms\n",
      "2024-03-03 08:39:11,481 - INFO - [step:       5900] loss:  4.116e-01, time/iteration:  5.690e+01 ms\n",
      "2024-03-03 08:39:17,773 - INFO - [step:       6000] record constraint batch time:  5.714e-02s\n",
      "2024-03-03 08:39:28,608 - INFO - [step:       6000] record validators time:  1.083e+01s\n",
      "2024-03-03 08:39:28,714 - INFO - [step:       6000] saved checkpoint to /workspace/23_2D_Helmholtz_FirstOrder/outputs\n"
     ]
    },
    {
     "name": "stderr",
     "output_type": "stream",
     "text": [
      "2024-03-03 08:39:28,716 - INFO - [step:       6000] loss:  6.006e-02, time/iteration:  1.723e+02 ms\n",
      "2024-03-03 08:39:34,111 - INFO - [step:       6100] loss:  2.005e-01, time/iteration:  5.395e+01 ms\n",
      "2024-03-03 08:39:39,782 - INFO - [step:       6200] loss:  1.781e-01, time/iteration:  5.667e+01 ms\n",
      "2024-03-03 08:39:45,645 - INFO - [step:       6300] loss:  1.430e-01, time/iteration:  5.862e+01 ms\n",
      "2024-03-03 08:39:51,524 - INFO - [step:       6400] loss:  6.306e-02, time/iteration:  5.878e+01 ms\n",
      "2024-03-03 08:39:57,343 - INFO - [step:       6500] loss:  3.494e-01, time/iteration:  5.819e+01 ms\n",
      "2024-03-03 08:40:02,931 - INFO - [step:       6600] loss:  8.866e-01, time/iteration:  5.586e+01 ms\n",
      "2024-03-03 08:40:08,724 - INFO - [step:       6700] loss:  6.045e-02, time/iteration:  5.790e+01 ms\n",
      "2024-03-03 08:40:14,488 - INFO - [step:       6800] loss:  9.466e-02, time/iteration:  5.762e+01 ms\n",
      "2024-03-03 08:40:20,032 - INFO - [step:       6900] loss:  2.369e-01, time/iteration:  5.543e+01 ms\n",
      "2024-03-03 08:40:37,476 - INFO - [step:       7000] record validators time:  1.130e+01s\n",
      "2024-03-03 08:40:37,508 - INFO - [step:       7000] saved checkpoint to /workspace/23_2D_Helmholtz_FirstOrder/outputs\n",
      "2024-03-03 08:40:37,510 - INFO - [step:       7000] loss:  2.499e-01, time/iteration:  1.748e+02 ms\n",
      "2024-03-03 08:40:42,580 - INFO - [step:       7100] loss:  2.606e-01, time/iteration:  5.069e+01 ms\n",
      "2024-03-03 08:40:48,442 - INFO - [step:       7200] loss:  1.962e-01, time/iteration:  5.861e+01 ms\n",
      "2024-03-03 08:40:54,370 - INFO - [step:       7300] loss:  5.466e-01, time/iteration:  5.925e+01 ms\n",
      "2024-03-03 08:41:00,173 - INFO - [step:       7400] loss:  1.016e-01, time/iteration:  5.801e+01 ms\n",
      "2024-03-03 08:41:06,184 - INFO - [step:       7500] loss:  9.077e-02, time/iteration:  6.009e+01 ms\n",
      "2024-03-03 08:41:11,892 - INFO - [step:       7600] loss:  6.045e-02, time/iteration:  5.707e+01 ms\n",
      "2024-03-03 08:41:17,786 - INFO - [step:       7700] loss:  7.063e-01, time/iteration:  5.892e+01 ms\n",
      "2024-03-03 08:41:23,294 - INFO - [step:       7800] loss:  1.892e-01, time/iteration:  5.507e+01 ms\n",
      "2024-03-03 08:41:28,652 - INFO - [step:       7900] loss:  8.774e-02, time/iteration:  5.356e+01 ms\n",
      "2024-03-03 08:41:35,081 - INFO - [step:       8000] record constraint batch time:  5.512e-02s\n",
      "2024-03-03 08:41:46,384 - INFO - [step:       8000] record validators time:  1.130e+01s\n",
      "2024-03-03 08:41:46,472 - INFO - [step:       8000] saved checkpoint to /workspace/23_2D_Helmholtz_FirstOrder/outputs\n",
      "2024-03-03 08:41:46,474 - INFO - [step:       8000] loss:  1.053e-01, time/iteration:  1.782e+02 ms\n",
      "2024-03-03 08:41:51,984 - INFO - [step:       8100] loss:  6.266e-02, time/iteration:  5.508e+01 ms\n",
      "2024-03-03 08:41:57,426 - INFO - [step:       8200] loss:  1.359e-01, time/iteration:  5.441e+01 ms\n",
      "2024-03-03 08:42:01,292 - INFO - [step:       8300] loss:  1.027e-01, time/iteration:  3.865e+01 ms\n",
      "2024-03-03 08:42:06,249 - INFO - [step:       8400] loss:  7.245e-02, time/iteration:  4.955e+01 ms\n",
      "2024-03-03 08:42:12,028 - INFO - [step:       8500] loss:  6.831e-02, time/iteration:  5.776e+01 ms\n",
      "2024-03-03 08:42:17,755 - INFO - [step:       8600] loss:  7.196e-02, time/iteration:  5.725e+01 ms\n",
      "2024-03-03 08:42:23,483 - INFO - [step:       8700] loss:  3.334e-01, time/iteration:  5.727e+01 ms\n",
      "2024-03-03 08:42:28,406 - INFO - [step:       8800] loss:  1.237e-01, time/iteration:  4.921e+01 ms\n",
      "2024-03-03 08:42:33,993 - INFO - [step:       8900] loss:  1.687e-01, time/iteration:  5.586e+01 ms\n",
      "2024-03-03 08:42:49,996 - INFO - [step:       9000] record validators time:  1.133e+01s\n",
      "2024-03-03 08:42:50,030 - INFO - [step:       9000] saved checkpoint to /workspace/23_2D_Helmholtz_FirstOrder/outputs\n",
      "2024-03-03 08:42:50,031 - INFO - [step:       9000] loss:  5.573e-02, time/iteration:  1.604e+02 ms\n",
      "2024-03-03 08:42:55,286 - INFO - [step:       9100] loss:  7.061e-01, time/iteration:  5.255e+01 ms\n",
      "2024-03-03 08:42:59,934 - INFO - [step:       9200] loss:  4.772e-02, time/iteration:  4.645e+01 ms\n",
      "2024-03-03 08:43:05,414 - INFO - [step:       9300] loss:  6.244e-02, time/iteration:  5.479e+01 ms\n",
      "2024-03-03 08:43:10,947 - INFO - [step:       9400] loss:  1.393e-01, time/iteration:  5.531e+01 ms\n",
      "2024-03-03 08:43:16,868 - INFO - [step:       9500] loss:  5.292e-02, time/iteration:  5.919e+01 ms\n",
      "2024-03-03 08:43:22,780 - INFO - [step:       9600] loss:  7.098e-02, time/iteration:  5.910e+01 ms\n",
      "2024-03-03 08:43:28,642 - INFO - [step:       9700] loss:  1.804e-01, time/iteration:  5.860e+01 ms\n",
      "2024-03-03 08:43:34,595 - INFO - [step:       9800] loss:  4.210e-02, time/iteration:  5.952e+01 ms\n",
      "2024-03-03 08:43:40,510 - INFO - [step:       9900] loss:  4.331e-02, time/iteration:  5.913e+01 ms\n",
      "2024-03-03 08:43:46,994 - INFO - [step:      10000] record constraint batch time:  9.574e-02s\n",
      "2024-03-03 08:43:58,371 - INFO - [step:      10000] record validators time:  1.138e+01s\n",
      "2024-03-03 08:43:58,406 - INFO - [step:      10000] saved checkpoint to /workspace/23_2D_Helmholtz_FirstOrder/outputs\n",
      "2024-03-03 08:43:58,408 - INFO - [step:      10000] loss:  9.531e-02, time/iteration:  1.789e+02 ms\n",
      "2024-03-03 08:44:03,974 - INFO - [step:      10100] loss:  5.975e-02, time/iteration:  5.565e+01 ms\n",
      "2024-03-03 08:44:09,851 - INFO - [step:      10200] loss:  6.958e-02, time/iteration:  5.874e+01 ms\n",
      "2024-03-03 08:44:15,423 - INFO - [step:      10300] loss:  7.092e-02, time/iteration:  5.570e+01 ms\n",
      "2024-03-03 08:44:20,661 - INFO - [step:      10400] loss:  1.847e-01, time/iteration:  5.237e+01 ms\n",
      "2024-03-03 08:44:26,123 - INFO - [step:      10500] loss:  7.167e-02, time/iteration:  5.460e+01 ms\n",
      "2024-03-03 08:44:31,817 - INFO - [step:      10600] loss:  7.618e-02, time/iteration:  5.693e+01 ms\n",
      "2024-03-03 08:44:37,382 - INFO - [step:      10700] loss:  7.478e-02, time/iteration:  5.564e+01 ms\n",
      "2024-03-03 08:44:42,816 - INFO - [step:      10800] loss:  5.430e-02, time/iteration:  5.432e+01 ms\n",
      "2024-03-03 08:44:48,083 - INFO - [step:      10900] loss:  9.772e-02, time/iteration:  5.266e+01 ms\n",
      "2024-03-03 08:45:05,426 - INFO - [step:      11000] record validators time:  1.096e+01s\n",
      "2024-03-03 08:45:05,508 - INFO - [step:      11000] saved checkpoint to /workspace/23_2D_Helmholtz_FirstOrder/outputs\n",
      "2024-03-03 08:45:05,510 - INFO - [step:      11000] loss:  8.508e-02, time/iteration:  1.743e+02 ms\n",
      "2024-03-03 08:45:10,020 - INFO - [step:      11100] loss:  4.673e-02, time/iteration:  4.509e+01 ms\n",
      "2024-03-03 08:45:14,129 - INFO - [step:      11200] loss:  3.929e-02, time/iteration:  4.108e+01 ms\n",
      "2024-03-03 08:45:19,470 - INFO - [step:      11300] loss:  5.103e-02, time/iteration:  5.339e+01 ms\n",
      "2024-03-03 08:45:24,887 - INFO - [step:      11400] loss:  4.900e-02, time/iteration:  5.415e+01 ms\n",
      "2024-03-03 08:45:30,731 - INFO - [step:      11500] loss:  3.845e-02, time/iteration:  5.842e+01 ms\n",
      "2024-03-03 08:45:36,199 - INFO - [step:      11600] loss:  3.647e-02, time/iteration:  5.467e+01 ms\n",
      "2024-03-03 08:45:42,043 - INFO - [step:      11700] loss:  3.673e-02, time/iteration:  5.842e+01 ms\n",
      "2024-03-03 08:45:47,947 - INFO - [step:      11800] loss:  9.498e-02, time/iteration:  5.901e+01 ms\n",
      "2024-03-03 08:45:53,345 - INFO - [step:      11900] loss:  4.230e-02, time/iteration:  5.397e+01 ms\n",
      "2024-03-03 08:45:59,743 - INFO - [step:      12000] record constraint batch time:  5.492e-02s\n",
      "2024-03-03 08:46:10,366 - INFO - [step:      12000] record validators time:  1.062e+01s\n",
      "2024-03-03 08:46:10,452 - INFO - [step:      12000] saved checkpoint to /workspace/23_2D_Helmholtz_FirstOrder/outputs\n",
      "2024-03-03 08:46:10,453 - INFO - [step:      12000] loss:  4.777e-02, time/iteration:  1.711e+02 ms\n",
      "2024-03-03 08:46:15,990 - INFO - [step:      12100] loss:  4.393e-02, time/iteration:  5.535e+01 ms\n",
      "2024-03-03 08:46:21,010 - INFO - [step:      12200] loss:  6.629e-02, time/iteration:  5.020e+01 ms\n",
      "2024-03-03 08:46:25,827 - INFO - [step:      12300] loss:  6.796e-02, time/iteration:  4.814e+01 ms\n",
      "2024-03-03 08:46:31,480 - INFO - [step:      12400] loss:  3.405e-02, time/iteration:  5.651e+01 ms\n",
      "2024-03-03 08:46:37,082 - INFO - [step:      12500] loss:  3.237e-02, time/iteration:  5.601e+01 ms\n",
      "2024-03-03 08:46:42,076 - INFO - [step:      12600] loss:  3.982e-02, time/iteration:  4.992e+01 ms\n"
     ]
    },
    {
     "name": "stderr",
     "output_type": "stream",
     "text": [
      "2024-03-03 08:46:47,517 - INFO - [step:      12700] loss:  3.324e-02, time/iteration:  5.440e+01 ms\n",
      "2024-03-03 08:46:53,253 - INFO - [step:      12800] loss:  6.092e-02, time/iteration:  5.734e+01 ms\n",
      "2024-03-03 08:46:59,113 - INFO - [step:      12900] loss:  3.860e-02, time/iteration:  5.859e+01 ms\n",
      "2024-03-03 08:47:16,853 - INFO - [step:      13000] record validators time:  1.126e+01s\n",
      "2024-03-03 08:47:16,932 - INFO - [step:      13000] saved checkpoint to /workspace/23_2D_Helmholtz_FirstOrder/outputs\n",
      "2024-03-03 08:47:16,934 - INFO - [step:      13000] loss:  3.245e-02, time/iteration:  1.782e+02 ms\n",
      "2024-03-03 08:47:22,496 - INFO - [step:      13100] loss:  4.174e-02, time/iteration:  5.560e+01 ms\n",
      "2024-03-03 08:47:28,256 - INFO - [step:      13200] loss:  4.364e-02, time/iteration:  5.759e+01 ms\n",
      "2024-03-03 08:47:34,154 - INFO - [step:      13300] loss:  3.873e-02, time/iteration:  5.895e+01 ms\n",
      "2024-03-03 08:47:39,956 - INFO - [step:      13400] loss:  3.496e-02, time/iteration:  5.801e+01 ms\n",
      "2024-03-03 08:47:45,670 - INFO - [step:      13500] loss:  6.720e-02, time/iteration:  5.713e+01 ms\n",
      "2024-03-03 08:47:51,079 - INFO - [step:      13600] loss:  4.351e-02, time/iteration:  5.407e+01 ms\n",
      "2024-03-03 08:47:56,899 - INFO - [step:      13700] loss:  4.205e-02, time/iteration:  5.818e+01 ms\n",
      "2024-03-03 08:48:02,830 - INFO - [step:      13800] loss:  3.412e-02, time/iteration:  5.929e+01 ms\n",
      "2024-03-03 08:48:07,333 - INFO - [step:      13900] loss:  2.895e-02, time/iteration:  4.500e+01 ms\n",
      "2024-03-03 08:48:12,808 - INFO - [step:      14000] record constraint batch time:  5.699e-02s\n",
      "2024-03-03 08:48:24,096 - INFO - [step:      14000] record validators time:  1.128e+01s\n",
      "2024-03-03 08:48:24,149 - INFO - [step:      14000] saved checkpoint to /workspace/23_2D_Helmholtz_FirstOrder/outputs\n",
      "2024-03-03 08:48:24,151 - INFO - [step:      14000] loss:  3.538e-02, time/iteration:  1.682e+02 ms\n",
      "2024-03-03 08:48:29,634 - INFO - [step:      14100] loss:  3.412e-02, time/iteration:  5.482e+01 ms\n",
      "2024-03-03 08:48:34,350 - INFO - [step:      14200] loss:  4.109e-02, time/iteration:  4.714e+01 ms\n",
      "2024-03-03 08:48:39,752 - INFO - [step:      14300] loss:  3.572e-02, time/iteration:  5.400e+01 ms\n",
      "2024-03-03 08:48:45,596 - INFO - [step:      14400] loss:  2.875e-02, time/iteration:  5.842e+01 ms\n",
      "2024-03-03 08:48:51,140 - INFO - [step:      14500] loss:  3.347e-02, time/iteration:  5.542e+01 ms\n",
      "2024-03-03 08:48:56,757 - INFO - [step:      14600] loss:  3.787e-02, time/iteration:  5.615e+01 ms\n",
      "2024-03-03 08:49:02,341 - INFO - [step:      14700] loss:  3.041e-02, time/iteration:  5.583e+01 ms\n",
      "2024-03-03 08:49:08,008 - INFO - [step:      14800] loss:  3.289e-02, time/iteration:  5.665e+01 ms\n",
      "2024-03-03 08:49:13,764 - INFO - [step:      14900] loss:  3.001e-02, time/iteration:  5.754e+01 ms\n",
      "2024-03-03 08:49:31,553 - INFO - [step:      15000] record validators time:  1.142e+01s\n",
      "2024-03-03 08:49:31,622 - INFO - [step:      15000] saved checkpoint to /workspace/23_2D_Helmholtz_FirstOrder/outputs\n",
      "2024-03-03 08:49:31,624 - INFO - [step:      15000] loss:  2.978e-02, time/iteration:  1.786e+02 ms\n",
      "2024-03-03 08:49:37,513 - INFO - [step:      15100] loss:  2.829e-02, time/iteration:  5.888e+01 ms\n",
      "2024-03-03 08:49:43,430 - INFO - [step:      15200] loss:  2.771e-02, time/iteration:  5.915e+01 ms\n",
      "2024-03-03 08:49:49,319 - INFO - [step:      15300] loss:  3.294e-02, time/iteration:  5.886e+01 ms\n",
      "2024-03-03 08:49:54,620 - INFO - [step:      15400] loss:  2.932e-02, time/iteration:  5.300e+01 ms\n",
      "2024-03-03 08:50:00,446 - INFO - [step:      15500] loss:  3.036e-02, time/iteration:  5.825e+01 ms\n",
      "2024-03-03 08:50:06,166 - INFO - [step:      15600] loss:  3.426e-02, time/iteration:  5.718e+01 ms\n",
      "2024-03-03 08:50:11,910 - INFO - [step:      15700] loss:  3.174e-02, time/iteration:  5.742e+01 ms\n",
      "2024-03-03 08:50:17,771 - INFO - [step:      15800] loss:  3.036e-02, time/iteration:  5.861e+01 ms\n",
      "2024-03-03 08:50:23,083 - INFO - [step:      15900] loss:  2.769e-02, time/iteration:  5.310e+01 ms\n",
      "2024-03-03 08:50:29,661 - INFO - [step:      16000] record constraint batch time:  6.185e-02s\n",
      "2024-03-03 08:50:41,120 - INFO - [step:      16000] record validators time:  1.146e+01s\n",
      "2024-03-03 08:50:41,212 - INFO - [step:      16000] saved checkpoint to /workspace/23_2D_Helmholtz_FirstOrder/outputs\n",
      "2024-03-03 08:50:41,217 - INFO - [step:      16000] loss:  3.013e-02, time/iteration:  1.813e+02 ms\n",
      "2024-03-03 08:50:46,334 - INFO - [step:      16100] loss:  2.868e-02, time/iteration:  5.116e+01 ms\n",
      "2024-03-03 08:50:51,976 - INFO - [step:      16200] loss:  2.916e-02, time/iteration:  5.642e+01 ms\n",
      "2024-03-03 08:50:57,759 - INFO - [step:      16300] loss:  2.608e-02, time/iteration:  5.780e+01 ms\n",
      "2024-03-03 08:51:03,572 - INFO - [step:      16400] loss:  2.583e-02, time/iteration:  5.812e+01 ms\n",
      "2024-03-03 08:51:09,461 - INFO - [step:      16500] loss:  3.015e-02, time/iteration:  5.887e+01 ms\n",
      "2024-03-03 08:51:14,992 - INFO - [step:      16600] loss:  2.912e-02, time/iteration:  5.529e+01 ms\n",
      "2024-03-03 08:51:20,057 - INFO - [step:      16700] loss:  2.680e-02, time/iteration:  5.063e+01 ms\n",
      "2024-03-03 08:51:25,549 - INFO - [step:      16800] loss:  3.029e-02, time/iteration:  5.490e+01 ms\n",
      "2024-03-03 08:51:30,733 - INFO - [step:      16900] loss:  2.893e-02, time/iteration:  5.183e+01 ms\n",
      "2024-03-03 08:51:48,122 - INFO - [step:      17000] record validators time:  1.137e+01s\n",
      "2024-03-03 08:51:48,204 - INFO - [step:      17000] saved checkpoint to /workspace/23_2D_Helmholtz_FirstOrder/outputs\n",
      "2024-03-03 08:51:48,206 - INFO - [step:      17000] loss:  2.749e-02, time/iteration:  1.747e+02 ms\n",
      "2024-03-03 08:51:53,876 - INFO - [step:      17100] loss:  2.568e-02, time/iteration:  5.669e+01 ms\n",
      "2024-03-03 08:51:59,727 - INFO - [step:      17200] loss:  2.915e-02, time/iteration:  5.848e+01 ms\n",
      "2024-03-03 08:52:05,344 - INFO - [step:      17300] loss:  2.715e-02, time/iteration:  5.615e+01 ms\n",
      "2024-03-03 08:52:11,131 - INFO - [step:      17400] loss:  2.841e-02, time/iteration:  5.785e+01 ms\n",
      "2024-03-03 08:52:16,807 - INFO - [step:      17500] loss:  2.806e-02, time/iteration:  5.674e+01 ms\n",
      "2024-03-03 08:52:22,746 - INFO - [step:      17600] loss:  2.708e-02, time/iteration:  5.938e+01 ms\n",
      "2024-03-03 08:52:28,108 - INFO - [step:      17700] loss:  2.806e-02, time/iteration:  5.360e+01 ms\n",
      "2024-03-03 08:52:33,259 - INFO - [step:      17800] loss:  2.744e-02, time/iteration:  5.149e+01 ms\n",
      "2024-03-03 08:52:38,892 - INFO - [step:      17900] loss:  2.613e-02, time/iteration:  5.631e+01 ms\n",
      "2024-03-03 08:52:45,161 - INFO - [step:      18000] record constraint batch time:  5.541e-02s\n",
      "2024-03-03 08:52:56,428 - INFO - [step:      18000] record validators time:  1.126e+01s\n",
      "2024-03-03 08:52:56,508 - INFO - [step:      18000] saved checkpoint to /workspace/23_2D_Helmholtz_FirstOrder/outputs\n",
      "2024-03-03 08:52:56,510 - INFO - [step:      18000] loss:  2.785e-02, time/iteration:  1.762e+02 ms\n",
      "2024-03-03 08:53:01,243 - INFO - [step:      18100] loss:  2.617e-02, time/iteration:  4.732e+01 ms\n",
      "2024-03-03 08:53:06,630 - INFO - [step:      18200] loss:  2.653e-02, time/iteration:  5.385e+01 ms\n",
      "2024-03-03 08:53:12,112 - INFO - [step:      18300] loss:  2.496e-02, time/iteration:  5.480e+01 ms\n",
      "2024-03-03 08:53:17,939 - INFO - [step:      18400] loss:  2.637e-02, time/iteration:  5.825e+01 ms\n",
      "2024-03-03 08:53:23,312 - INFO - [step:      18500] loss:  2.575e-02, time/iteration:  5.372e+01 ms\n",
      "2024-03-03 08:53:29,297 - INFO - [step:      18600] loss:  2.472e-02, time/iteration:  5.983e+01 ms\n",
      "2024-03-03 08:53:35,008 - INFO - [step:      18700] loss:  2.535e-02, time/iteration:  5.709e+01 ms\n",
      "2024-03-03 08:53:40,289 - INFO - [step:      18800] loss:  2.429e-02, time/iteration:  5.279e+01 ms\n",
      "2024-03-03 08:53:46,077 - INFO - [step:      18900] loss:  2.445e-02, time/iteration:  5.786e+01 ms\n",
      "2024-03-03 08:54:04,171 - INFO - [step:      19000] record validators time:  1.161e+01s\n",
      "2024-03-03 08:54:04,210 - INFO - [step:      19000] saved checkpoint to /workspace/23_2D_Helmholtz_FirstOrder/outputs\n",
      "2024-03-03 08:54:04,212 - INFO - [step:      19000] loss:  2.519e-02, time/iteration:  1.813e+02 ms\n",
      "2024-03-03 08:54:10,035 - INFO - [step:      19100] loss:  2.444e-02, time/iteration:  5.822e+01 ms\n"
     ]
    },
    {
     "name": "stderr",
     "output_type": "stream",
     "text": [
      "2024-03-03 08:54:15,005 - INFO - [step:      19200] loss:  2.644e-02, time/iteration:  4.968e+01 ms\n",
      "2024-03-03 08:54:20,773 - INFO - [step:      19300] loss:  2.577e-02, time/iteration:  5.767e+01 ms\n",
      "2024-03-03 08:54:26,654 - INFO - [step:      19400] loss:  2.466e-02, time/iteration:  5.879e+01 ms\n",
      "2024-03-03 08:54:32,303 - INFO - [step:      19500] loss:  2.617e-02, time/iteration:  5.647e+01 ms\n",
      "2024-03-03 08:54:38,220 - INFO - [step:      19600] loss:  2.467e-02, time/iteration:  5.915e+01 ms\n",
      "2024-03-03 08:54:44,103 - INFO - [step:      19700] loss:  2.595e-02, time/iteration:  5.881e+01 ms\n",
      "2024-03-03 08:54:49,271 - INFO - [step:      19800] loss:  2.511e-02, time/iteration:  5.167e+01 ms\n",
      "2024-03-03 08:54:55,100 - INFO - [step:      19900] loss:  2.421e-02, time/iteration:  5.827e+01 ms\n",
      "2024-03-03 08:55:01,515 - INFO - [step:      20000] record constraint batch time:  6.141e-02s\n",
      "2024-03-03 08:55:12,907 - INFO - [step:      20000] record validators time:  1.139e+01s\n",
      "2024-03-03 08:55:12,990 - INFO - [step:      20000] saved checkpoint to /workspace/23_2D_Helmholtz_FirstOrder/outputs\n",
      "2024-03-03 08:55:12,993 - INFO - [step:      20000] loss:  2.538e-02, time/iteration:  1.789e+02 ms\n",
      "2024-03-03 08:55:12,994 - INFO - [step:      20000] reached maximum training steps, finished training!\n"
     ]
    }
   ],
   "source": [
    "slv.solve()"
   ]
  },
  {
   "cell_type": "markdown",
   "id": "556674b9",
   "metadata": {},
   "source": [
    "### 后处理以及可视化\n",
    "\n",
    "对于jupyter，比较方便的方法是使用matplotlib\n",
    "\n",
    "此外，还可以使用tensorboard以及Paraview\n",
    "\n",
    "![u](./outputs/validators/validator_u.png)"
   ]
  }
 ],
 "metadata": {
  "kernelspec": {
   "display_name": "Python 3 (ipykernel)",
   "language": "python",
   "name": "python3"
  },
  "language_info": {
   "codemirror_mode": {
    "name": "ipython",
    "version": 3
   },
   "file_extension": ".py",
   "mimetype": "text/x-python",
   "name": "python",
   "nbconvert_exporter": "python",
   "pygments_lexer": "ipython3",
   "version": "3.10.12"
  }
 },
 "nbformat": 4,
 "nbformat_minor": 5
}
