{
 "cells": [
  {
   "cell_type": "markdown",
   "id": "d787cdb7",
   "metadata": {},
   "source": [
    "## 问题定义\n",
    "\n",
    "本问题为求解2D Helmholtz方程。其形式可以参考案例18中的PDE定义。\n",
    "\n",
    "\n",
    "### 求解目标\n",
    "\n",
    "要求求解给定区域内的Helmholtz方程\n",
    "\n",
    "## NTK\n",
    "\n",
    "参考论文：Wang, S., Yu, X. and Perdikaris, P., 2022. When and why PINNs fail to train: A neural tangent kernel perspective. Journal of Computational Physics, 449, p.110768.\n",
    "\n",
    "基于NTK分析的自动损失权重。\n",
    "\n",
    "假设具有如下形式的损失函数：\n",
    "\n",
    "![equation](./resource/equation.png)\n",
    "\n",
    "则其NTK定义为各项雅可比矩阵的函数：\n",
    "\n",
    "![ntk](./resource/ntk.png)\n",
    "\n",
    "其中$J_r$和$J_b$分别为$\\mathcal{L}_r$和$\\mathcal{L}_b$的雅可比矩阵\n",
    "\n",
    "基于上述的参考论文，有如下的损失权重定义\n",
    "\n",
    "![loss weights](./resource/loss_weight.png)\n",
    "\n",
    "上述定义的核心逻辑在于：对于每一个损失项，其收敛速度可以由其对应NTK的特征值反映。因此能够通过NTK进行配平，从而使得各损失项有基本相同的收敛速度。"
   ]
  },
  {
   "cell_type": "markdown",
   "id": "77b4e6a5",
   "metadata": {},
   "source": [
    "## 求解"
   ]
  },
  {
   "cell_type": "code",
   "execution_count": 1,
   "id": "b1f223f4",
   "metadata": {},
   "outputs": [],
   "source": [
    "import os\n",
    "import warnings\n",
    "\n",
    "# optional\n",
    "# set appropriate GPU in case of multi-GPU machine\n",
    "os.environ[\"CUDA_DEVICE_ORDER\"]=\"PCI_BUS_ID\"\n",
    "os.environ[\"CUDA_VISIBLE_DEVICES\"]=\"3\""
   ]
  },
  {
   "cell_type": "code",
   "execution_count": 2,
   "id": "12011ac4",
   "metadata": {},
   "outputs": [],
   "source": [
    "from modulus.sym.hydra import to_yaml\n",
    "from modulus.sym.hydra.utils import compose\n",
    "from modulus.sym.utils.io.plotter import ValidatorPlotter, InferencerPlotter"
   ]
  },
  {
   "cell_type": "code",
   "execution_count": 3,
   "id": "dd0cf1b9",
   "metadata": {},
   "outputs": [],
   "source": [
    "from sympy import Symbol, pi, sin\n",
    "\n",
    "import modulus.sym\n",
    "from modulus.sym.hydra import to_absolute_path, instantiate_arch, ModulusConfig\n",
    "from modulus.sym.utils.io import csv_to_dict\n",
    "from modulus.sym.solver import Solver\n",
    "from modulus.sym.domain import Domain\n",
    "from modulus.sym.geometry.primitives_2d import Rectangle\n",
    "from modulus.sym.domain.constraint import (\n",
    "    PointwiseBoundaryConstraint,\n",
    "    PointwiseInteriorConstraint,\n",
    ")\n",
    "from modulus.sym.domain.validator import PointwiseValidator\n",
    "from modulus.sym.domain.inferencer import PointwiseInferencer\n",
    "from modulus.sym.key import Key\n",
    "from modulus.sym.node import Node\n",
    "from modulus.sym.eq.pdes.wave_equation import HelmholtzEquation\n",
    "from modulus.sym.utils.io.plotter import ValidatorPlotter"
   ]
  },
  {
   "cell_type": "code",
   "execution_count": 4,
   "id": "613f5d80",
   "metadata": {
    "scrolled": true
   },
   "outputs": [
    {
     "name": "stderr",
     "output_type": "stream",
     "text": [
      "/usr/local/lib/python3.10/dist-packages/modulus/sym/hydra/utils.py:148: UserWarning: \n",
      "The version_base parameter is not specified.\n",
      "Please specify a compatability version level, or None.\n",
      "Will assume defaults for version 1.1\n",
      "  hydra.initialize(\n"
     ]
    },
    {
     "name": "stdout",
     "output_type": "stream",
     "text": [
      "training:\n",
      "  max_steps: 20000\n",
      "  grad_agg_freq: 1\n",
      "  rec_results_freq: 1000\n",
      "  rec_validation_freq: ${training.rec_results_freq}\n",
      "  rec_inference_freq: ${training.rec_results_freq}\n",
      "  rec_monitor_freq: ${training.rec_results_freq}\n",
      "  rec_constraint_freq: 2000\n",
      "  save_network_freq: 1000\n",
      "  print_stats_freq: 100\n",
      "  summary_freq: 1000\n",
      "  amp: false\n",
      "  amp_dtype: float16\n",
      "  ntk:\n",
      "    use_ntk: true\n",
      "    save_name: ntk\n",
      "    run_freq: 10\n",
      "graph:\n",
      "  func_arch: false\n",
      "  func_arch_allow_partial_hessian: true\n",
      "stop_criterion:\n",
      "  metric: null\n",
      "  min_delta: null\n",
      "  patience: 50000\n",
      "  mode: min\n",
      "  freq: 1000\n",
      "  strict: false\n",
      "profiler:\n",
      "  profile: false\n",
      "  start_step: 0\n",
      "  end_step: 100\n",
      "  name: nvtx\n",
      "network_dir: outputs\n",
      "initialization_network_dir: ''\n",
      "save_filetypes: vtk,npz\n",
      "summary_histograms: false\n",
      "jit: true\n",
      "jit_use_nvfuser: true\n",
      "jit_arch_mode: only_activation\n",
      "jit_autograd_nodes: false\n",
      "cuda_graphs: false\n",
      "cuda_graph_warmup: 20\n",
      "find_unused_parameters: false\n",
      "broadcast_buffers: false\n",
      "device: ''\n",
      "debug: false\n",
      "run_mode: train\n",
      "arch:\n",
      "  fully_connected:\n",
      "    arch_type: fully_connected\n",
      "    input_keys: ???\n",
      "    output_keys: ???\n",
      "    detach_keys: ???\n",
      "    scaling: null\n",
      "    layer_size: 512\n",
      "    nr_layers: 6\n",
      "    skip_connections: false\n",
      "    activation_fn: silu\n",
      "    adaptive_activations: false\n",
      "    weight_norm: true\n",
      "models: ???\n",
      "loss:\n",
      "  _target_: modulus.sym.loss.aggregator.Sum\n",
      "  weights: null\n",
      "optimizer:\n",
      "  _params_:\n",
      "    compute_gradients: adam_compute_gradients\n",
      "    apply_gradients: adam_apply_gradients\n",
      "  _target_: torch.optim.Adam\n",
      "  lr: 0.001\n",
      "  betas:\n",
      "  - 0.9\n",
      "  - 0.999\n",
      "  eps: 1.0e-08\n",
      "  weight_decay: 0.0\n",
      "  amsgrad: false\n",
      "scheduler:\n",
      "  _target_: custom\n",
      "  _name_: tf.ExponentialLR\n",
      "  decay_rate: 0.95\n",
      "  decay_steps: 200\n",
      "batch_size:\n",
      "  wall: 800\n",
      "  interior: 4000\n",
      "custom: ???\n",
      "\n"
     ]
    }
   ],
   "source": [
    "cfg = compose(config_path=\"conf\", config_name=\"config\")\n",
    "cfg.network_dir = 'outputs'    # Set the network directory for checkpoints\n",
    "print(to_yaml(cfg))"
   ]
  },
  {
   "cell_type": "markdown",
   "id": "14d70fc0",
   "metadata": {},
   "source": [
    "### 定义必要组件"
   ]
  },
  {
   "cell_type": "markdown",
   "id": "76b3f58b",
   "metadata": {},
   "source": [
    "#### Geo"
   ]
  },
  {
   "cell_type": "code",
   "execution_count": 5,
   "id": "c001b667",
   "metadata": {},
   "outputs": [],
   "source": [
    "x, y = Symbol(\"x\"), Symbol(\"y\")\n",
    "height = 2\n",
    "width = 2\n",
    "rec = Rectangle((-width / 2, -height / 2), (width / 2, height / 2))"
   ]
  },
  {
   "cell_type": "markdown",
   "id": "e575f4c2",
   "metadata": {},
   "source": [
    "#### PDE"
   ]
  },
  {
   "cell_type": "code",
   "execution_count": 6,
   "id": "e3ab702f",
   "metadata": {},
   "outputs": [],
   "source": [
    "wave = HelmholtzEquation(u=\"u\", k=1.0, dim=2)  # 亥姆霍兹方程"
   ]
  },
  {
   "cell_type": "markdown",
   "id": "2ee27a28",
   "metadata": {},
   "source": [
    "#### Model"
   ]
  },
  {
   "cell_type": "code",
   "execution_count": 7,
   "id": "5a3af9d3",
   "metadata": {},
   "outputs": [],
   "source": [
    "# 定义简单的全连接网络\n",
    "# 输入为空间坐标和\n",
    "# 输出为E_z(x, y)\n",
    "wave_net = instantiate_arch(\n",
    "    input_keys=[Key(\"x\"), Key(\"y\")],\n",
    "    output_keys=[Key(\"u\")],\n",
    "    cfg=cfg.arch.fully_connected,\n",
    ")"
   ]
  },
  {
   "cell_type": "markdown",
   "id": "41bab61b",
   "metadata": {},
   "source": [
    "#### Node"
   ]
  },
  {
   "cell_type": "code",
   "execution_count": 8,
   "id": "a4593125",
   "metadata": {},
   "outputs": [],
   "source": [
    "nodes = wave.make_nodes() + [wave_net.make_node(name=\"wave_network\")]"
   ]
  },
  {
   "cell_type": "markdown",
   "id": "f52efd6c",
   "metadata": {},
   "source": [
    "#### Domain"
   ]
  },
  {
   "cell_type": "code",
   "execution_count": 9,
   "id": "2c7f0404",
   "metadata": {},
   "outputs": [],
   "source": [
    "domain = Domain()"
   ]
  },
  {
   "cell_type": "markdown",
   "id": "5d3e7143",
   "metadata": {},
   "source": [
    "#### ABC边界"
   ]
  },
  {
   "cell_type": "code",
   "execution_count": 10,
   "id": "c5f565d4",
   "metadata": {},
   "outputs": [],
   "source": [
    "wall = PointwiseBoundaryConstraint(\n",
    "    nodes=nodes,\n",
    "    geometry=rec,\n",
    "    outvar={\"u\": 0},\n",
    "    batch_size=cfg.batch_size.wall,\n",
    "    lambda_weighting={\"u\": 1.0},\n",
    ")\n",
    "domain.add_constraint(wall, \"wall\")"
   ]
  },
  {
   "cell_type": "markdown",
   "id": "9388e9e1",
   "metadata": {},
   "source": [
    "#### PDE约束"
   ]
  },
  {
   "cell_type": "code",
   "execution_count": 11,
   "id": "6a15c4e7",
   "metadata": {},
   "outputs": [],
   "source": [
    "interior = PointwiseInteriorConstraint(\n",
    "    nodes=nodes,\n",
    "    geometry=rec,\n",
    "    outvar={\n",
    "        \"helmholtz\": -(\n",
    "            -((pi) ** 2) * sin(pi * x) * sin(4 * pi * y)\n",
    "            - ((4 * pi) ** 2) * sin(pi * x) * sin(4 * pi * y)\n",
    "            + 1 * sin(pi * x) * sin(4 * pi * y)\n",
    "        )\n",
    "    },\n",
    "    batch_size=cfg.batch_size.interior,\n",
    "    bounds={x: (-width / 2, width / 2), y: (-height / 2, height / 2)},\n",
    "    lambda_weighting={\n",
    "        \"helmholtz\": 1.0,\n",
    "    },\n",
    ")\n",
    "domain.add_constraint(interior, \"interior\")"
   ]
  },
  {
   "cell_type": "markdown",
   "id": "33c0e57c",
   "metadata": {},
   "source": [
    "#### 验证器以及其他必要组件"
   ]
  },
  {
   "cell_type": "code",
   "execution_count": 12,
   "id": "2a81d5dd",
   "metadata": {},
   "outputs": [],
   "source": [
    "file_path = \"openfoam/helmholtz.csv\"\n",
    "if os.path.exists(to_absolute_path(file_path)):\n",
    "    mapping = {\"x\": \"x\", \"y\": \"y\", \"z\": \"u\"}\n",
    "    openfoam_var = csv_to_dict(to_absolute_path(file_path), mapping)\n",
    "    openfoam_invar_numpy = {\n",
    "        key: value for key, value in openfoam_var.items() if key in [\"x\", \"y\"]\n",
    "    }\n",
    "    openfoam_outvar_numpy = {\n",
    "        key: value for key, value in openfoam_var.items() if key in [\"u\"]\n",
    "    }\n",
    "\n",
    "    openfoam_validator = PointwiseValidator(\n",
    "        nodes=nodes,\n",
    "        invar=openfoam_invar_numpy,\n",
    "        true_outvar=openfoam_outvar_numpy,\n",
    "        batch_size=1024,\n",
    "        plotter=ValidatorPlotter(),\n",
    "    )\n",
    "    domain.add_validator(openfoam_validator)\n",
    "else:\n",
    "    warnings.warn(\n",
    "        f\"Directory {file_path} does not exist. Will skip adding validators. Please download the additional files from NGC https://catalog.ngc.nvidia.com/orgs/nvidia/teams/modulus/resources/modulus_sym_examples_supplemental_materials\"\n",
    "    )"
   ]
  },
  {
   "cell_type": "markdown",
   "id": "473c37fb",
   "metadata": {},
   "source": [
    "### 求解器以及求解"
   ]
  },
  {
   "cell_type": "code",
   "execution_count": 13,
   "id": "97b90486",
   "metadata": {},
   "outputs": [],
   "source": [
    "# 定义求解器\n",
    "slv = Solver(cfg, domain)"
   ]
  },
  {
   "cell_type": "markdown",
   "id": "ef9af551",
   "metadata": {},
   "source": [
    "手动加载日志系统"
   ]
  },
  {
   "cell_type": "code",
   "execution_count": 14,
   "id": "39932aa9",
   "metadata": {},
   "outputs": [],
   "source": [
    "import logging\n",
    "# logging.getLogger().addHandler(logging.StreamHandler())\n",
    "logger = logging.getLogger()\n",
    "logger.setLevel(logging.INFO)\n",
    "\n",
    "# create console handler and set level to debug\n",
    "ch = logging.StreamHandler()\n",
    "ch.setLevel(logging.INFO)\n",
    "\n",
    "# create formatter\n",
    "formatter = logging.Formatter('%(asctime)s - %(levelname)s - %(message)s')\n",
    "\n",
    "# add formatter to ch\n",
    "ch.setFormatter(formatter)\n",
    "\n",
    "# add ch to logger\n",
    "logger.addHandler(ch)"
   ]
  },
  {
   "cell_type": "markdown",
   "id": "bd8adfbd",
   "metadata": {},
   "source": [
    "启动求解"
   ]
  },
  {
   "cell_type": "code",
   "execution_count": 15,
   "id": "c9b2fdb2",
   "metadata": {
    "scrolled": true
   },
   "outputs": [
    {
     "name": "stderr",
     "output_type": "stream",
     "text": [
      "2024-03-01 14:13:01,889 - WARNING - Installed PyTorch version 2.2.0a0+81ea7a4 is not TorchScript supported in Modulus. Version 2.1.0a0+4136153 is officially supported.\n",
      "2024-03-01 14:13:01,897 - INFO - attempting to restore from: /workspace/21_2D_Helmholtz_NTK/outputs\n",
      "2024-03-01 14:13:01,898 - WARNING - optimizer checkpoint not found\n",
      "2024-03-01 14:13:01,899 - WARNING - model wave_network.0.pth not found\n",
      "2024-03-01 14:13:03,429 - INFO - [step:          0] record constraint batch time:  1.994e-01s\n",
      "2024-03-01 14:13:17,257 - INFO - [step:          0] record validators time:  1.383e+01s\n",
      "2024-03-01 14:13:17,285 - INFO - [step:          0] saved checkpoint to /workspace/21_2D_Helmholtz_NTK/outputs\n",
      "2024-03-01 14:13:17,287 - INFO - [step:          0] loss:  2.851e+04\n",
      "2024-03-01 14:13:30,074 - INFO - [step:        100] loss:  1.171e+04, time/iteration:  1.279e+02 ms\n",
      "2024-03-01 14:13:43,465 - INFO - [step:        200] loss:  7.367e+01, time/iteration:  1.339e+02 ms\n",
      "2024-03-01 14:13:55,795 - INFO - [step:        300] loss:  2.521e+02, time/iteration:  1.233e+02 ms\n",
      "2024-03-01 14:14:08,317 - INFO - [step:        400] loss:  2.470e+01, time/iteration:  1.252e+02 ms\n",
      "2024-03-01 14:14:20,794 - INFO - [step:        500] loss:  1.224e+01, time/iteration:  1.247e+02 ms\n",
      "2024-03-01 14:14:32,420 - INFO - [step:        600] loss:  1.389e+01, time/iteration:  1.162e+02 ms\n",
      "2024-03-01 14:14:40,640 - INFO - [step:        700] loss:  1.294e+01, time/iteration:  8.218e+01 ms\n",
      "2024-03-01 14:14:49,578 - INFO - [step:        800] loss:  5.068e+00, time/iteration:  8.936e+01 ms\n",
      "2024-03-01 14:15:03,210 - INFO - [step:        900] loss:  3.976e+00, time/iteration:  1.363e+02 ms\n",
      "2024-03-01 14:15:30,721 - INFO - [step:       1000] record validators time:  1.332e+01s\n",
      "2024-03-01 14:15:30,795 - INFO - [step:       1000] saved checkpoint to /workspace/21_2D_Helmholtz_NTK/outputs\n",
      "2024-03-01 14:15:30,797 - INFO - [step:       1000] loss:  6.201e+00, time/iteration:  2.758e+02 ms\n",
      "2024-03-01 14:15:43,184 - INFO - [step:       1100] loss:  2.987e+00, time/iteration:  1.239e+02 ms\n",
      "2024-03-01 14:15:56,201 - INFO - [step:       1200] loss:  2.057e+00, time/iteration:  1.302e+02 ms\n",
      "2024-03-01 14:16:08,525 - INFO - [step:       1300] loss:  2.032e+00, time/iteration:  1.232e+02 ms\n",
      "2024-03-01 14:16:20,913 - INFO - [step:       1400] loss:  2.276e+01, time/iteration:  1.239e+02 ms\n",
      "2024-03-01 14:16:29,989 - INFO - [step:       1500] loss:  1.619e+01, time/iteration:  9.072e+01 ms\n",
      "2024-03-01 14:16:38,198 - INFO - [step:       1600] loss:  4.540e+02, time/iteration:  8.206e+01 ms\n",
      "2024-03-01 14:16:49,100 - INFO - [step:       1700] loss:  2.103e+01, time/iteration:  1.090e+02 ms\n",
      "2024-03-01 14:17:01,363 - INFO - [step:       1800] loss:  8.875e+00, time/iteration:  1.226e+02 ms\n",
      "2024-03-01 14:17:13,830 - INFO - [step:       1900] loss:  4.533e+00, time/iteration:  1.247e+02 ms\n",
      "2024-03-01 14:17:26,854 - INFO - [step:       2000] record constraint batch time:  2.040e-01s\n",
      "2024-03-01 14:17:41,372 - INFO - [step:       2000] record validators time:  1.452e+01s\n",
      "2024-03-01 14:17:41,423 - INFO - [step:       2000] saved checkpoint to /workspace/21_2D_Helmholtz_NTK/outputs\n",
      "2024-03-01 14:17:41,425 - INFO - [step:       2000] loss:  4.010e+00, time/iteration:  2.759e+02 ms\n",
      "2024-03-01 14:17:54,746 - INFO - [step:       2100] loss:  2.726e+00, time/iteration:  1.332e+02 ms\n",
      "2024-03-01 14:18:07,784 - INFO - [step:       2200] loss:  1.935e+00, time/iteration:  1.304e+02 ms\n",
      "2024-03-01 14:18:16,231 - INFO - [step:       2300] loss:  1.503e+00, time/iteration:  8.445e+01 ms\n",
      "2024-03-01 14:18:25,477 - INFO - [step:       2400] loss:  1.224e+00, time/iteration:  9.243e+01 ms\n",
      "2024-03-01 14:18:37,936 - INFO - [step:       2500] loss:  1.194e+00, time/iteration:  1.246e+02 ms\n",
      "2024-03-01 14:18:49,668 - INFO - [step:       2600] loss:  1.901e+00, time/iteration:  1.173e+02 ms\n",
      "2024-03-01 14:19:01,874 - INFO - [step:       2700] loss:  9.876e-01, time/iteration:  1.220e+02 ms\n",
      "2024-03-01 14:19:15,054 - INFO - [step:       2800] loss:  2.749e+01, time/iteration:  1.318e+02 ms\n",
      "2024-03-01 14:19:27,389 - INFO - [step:       2900] loss:  1.684e+00, time/iteration:  1.233e+02 ms\n",
      "2024-03-01 14:19:54,093 - INFO - [step:       3000] record validators time:  1.421e+01s\n",
      "2024-03-01 14:19:54,132 - INFO - [step:       3000] saved checkpoint to /workspace/21_2D_Helmholtz_NTK/outputs\n",
      "2024-03-01 14:19:54,133 - INFO - [step:       3000] loss:  9.065e-01, time/iteration:  2.674e+02 ms\n",
      "2024-03-01 14:20:02,712 - INFO - [step:       3100] loss:  7.488e-01, time/iteration:  8.577e+01 ms\n",
      "2024-03-01 14:20:10,880 - INFO - [step:       3200] loss:  6.099e+01, time/iteration:  8.167e+01 ms\n",
      "2024-03-01 14:20:18,764 - INFO - [step:       3300] loss:  1.338e+00, time/iteration:  7.882e+01 ms\n",
      "2024-03-01 14:20:27,296 - INFO - [step:       3400] loss:  5.037e-01, time/iteration:  8.531e+01 ms\n",
      "2024-03-01 14:20:34,982 - INFO - [step:       3500] loss:  1.039e+00, time/iteration:  7.683e+01 ms\n",
      "2024-03-01 14:20:42,746 - INFO - [step:       3600] loss:  1.199e+00, time/iteration:  7.761e+01 ms\n",
      "2024-03-01 14:20:51,020 - INFO - [step:       3700] loss:  1.289e+00, time/iteration:  8.273e+01 ms\n",
      "2024-03-01 14:20:58,918 - INFO - [step:       3800] loss:  6.449e-01, time/iteration:  7.895e+01 ms\n",
      "2024-03-01 14:21:06,980 - INFO - [step:       3900] loss:  4.298e-01, time/iteration:  8.059e+01 ms\n",
      "2024-03-01 14:21:16,381 - INFO - [step:       4000] record constraint batch time:  7.913e-02s\n",
      "2024-03-01 14:21:29,317 - INFO - [step:       4000] record validators time:  1.293e+01s\n",
      "2024-03-01 14:21:29,410 - INFO - [step:       4000] saved checkpoint to /workspace/21_2D_Helmholtz_NTK/outputs\n",
      "2024-03-01 14:21:29,413 - INFO - [step:       4000] loss:  5.462e-01, time/iteration:  2.243e+02 ms\n",
      "2024-03-01 14:21:37,405 - INFO - [step:       4100] loss:  4.281e-01, time/iteration:  7.991e+01 ms\n",
      "2024-03-01 14:21:45,251 - INFO - [step:       4200] loss:  1.589e+00, time/iteration:  7.843e+01 ms\n",
      "2024-03-01 14:21:52,714 - INFO - [step:       4300] loss:  4.050e-01, time/iteration:  7.461e+01 ms\n",
      "2024-03-01 14:22:01,125 - INFO - [step:       4400] loss:  3.818e-01, time/iteration:  8.409e+01 ms\n",
      "2024-03-01 14:22:09,441 - INFO - [step:       4500] loss:  4.223e-01, time/iteration:  8.314e+01 ms\n",
      "2024-03-01 14:22:17,543 - INFO - [step:       4600] loss:  4.487e-01, time/iteration:  8.099e+01 ms\n",
      "2024-03-01 14:22:25,867 - INFO - [step:       4700] loss:  5.622e-01, time/iteration:  8.321e+01 ms\n",
      "2024-03-01 14:22:34,243 - INFO - [step:       4800] loss:  6.830e-01, time/iteration:  8.375e+01 ms\n",
      "2024-03-01 14:22:42,492 - INFO - [step:       4900] loss:  5.604e-01, time/iteration:  8.247e+01 ms\n",
      "2024-03-01 14:23:05,934 - INFO - [step:       5000] record validators time:  1.454e+01s\n",
      "2024-03-01 14:23:06,001 - INFO - [step:       5000] saved checkpoint to /workspace/21_2D_Helmholtz_NTK/outputs\n",
      "2024-03-01 14:23:06,004 - INFO - [step:       5000] loss:  3.100e+00, time/iteration:  2.351e+02 ms\n",
      "2024-03-01 14:23:13,522 - INFO - [step:       5100] loss:  4.120e-01, time/iteration:  7.516e+01 ms\n",
      "2024-03-01 14:23:21,737 - INFO - [step:       5200] loss:  5.400e+00, time/iteration:  8.213e+01 ms\n",
      "2024-03-01 14:23:29,744 - INFO - [step:       5300] loss:  6.453e-01, time/iteration:  8.004e+01 ms\n",
      "2024-03-01 14:23:37,691 - INFO - [step:       5400] loss:  3.849e-01, time/iteration:  7.945e+01 ms\n",
      "2024-03-01 14:23:46,079 - INFO - [step:       5500] loss:  3.436e-01, time/iteration:  8.387e+01 ms\n",
      "2024-03-01 14:23:54,764 - INFO - [step:       5600] loss:  2.607e-01, time/iteration:  8.681e+01 ms\n",
      "2024-03-01 14:24:03,146 - INFO - [step:       5700] loss:  2.638e-01, time/iteration:  8.380e+01 ms\n",
      "2024-03-01 14:24:11,231 - INFO - [step:       5800] loss:  2.870e-01, time/iteration:  8.083e+01 ms\n",
      "2024-03-01 14:24:19,389 - INFO - [step:       5900] loss:  2.538e-01, time/iteration:  8.155e+01 ms\n",
      "2024-03-01 14:24:28,383 - INFO - [step:       6000] record constraint batch time:  5.607e-02s\n",
      "2024-03-01 14:24:42,445 - INFO - [step:       6000] record validators time:  1.406e+01s\n",
      "2024-03-01 14:24:42,521 - INFO - [step:       6000] saved checkpoint to /workspace/21_2D_Helmholtz_NTK/outputs\n",
      "2024-03-01 14:24:42,522 - INFO - [step:       6000] loss:  2.180e-01, time/iteration:  2.313e+02 ms\n"
     ]
    },
    {
     "name": "stderr",
     "output_type": "stream",
     "text": [
      "2024-03-01 14:24:50,877 - INFO - [step:       6100] loss:  2.993e-01, time/iteration:  8.353e+01 ms\n",
      "2024-03-01 14:24:58,795 - INFO - [step:       6200] loss:  2.459e-01, time/iteration:  7.915e+01 ms\n",
      "2024-03-01 14:25:07,285 - INFO - [step:       6300] loss:  2.576e-01, time/iteration:  8.486e+01 ms\n",
      "2024-03-01 14:25:15,533 - INFO - [step:       6400] loss:  3.428e-01, time/iteration:  8.246e+01 ms\n",
      "2024-03-01 14:25:23,433 - INFO - [step:       6500] loss:  4.658e+00, time/iteration:  7.898e+01 ms\n",
      "2024-03-01 14:25:31,447 - INFO - [step:       6600] loss:  2.367e-01, time/iteration:  8.011e+01 ms\n",
      "2024-03-01 14:25:39,557 - INFO - [step:       6700] loss:  2.827e-01, time/iteration:  8.109e+01 ms\n",
      "2024-03-01 14:25:47,232 - INFO - [step:       6800] loss:  2.342e-01, time/iteration:  7.672e+01 ms\n",
      "2024-03-01 14:25:54,807 - INFO - [step:       6900] loss:  2.384e-01, time/iteration:  7.573e+01 ms\n",
      "2024-03-01 14:26:17,360 - INFO - [step:       7000] record validators time:  1.374e+01s\n",
      "2024-03-01 14:26:17,407 - INFO - [step:       7000] saved checkpoint to /workspace/21_2D_Helmholtz_NTK/outputs\n",
      "2024-03-01 14:26:17,409 - INFO - [step:       7000] loss:  1.897e-01, time/iteration:  2.260e+02 ms\n",
      "2024-03-01 14:26:25,677 - INFO - [step:       7100] loss:  2.027e-01, time/iteration:  8.267e+01 ms\n",
      "2024-03-01 14:26:33,565 - INFO - [step:       7200] loss:  2.539e-01, time/iteration:  7.886e+01 ms\n",
      "2024-03-01 14:26:41,880 - INFO - [step:       7300] loss:  7.071e-01, time/iteration:  8.312e+01 ms\n",
      "2024-03-01 14:26:49,688 - INFO - [step:       7400] loss:  3.136e-01, time/iteration:  7.807e+01 ms\n",
      "2024-03-01 14:26:57,859 - INFO - [step:       7500] loss:  7.991e-01, time/iteration:  8.169e+01 ms\n",
      "2024-03-01 14:27:05,849 - INFO - [step:       7600] loss:  2.055e+00, time/iteration:  7.988e+01 ms\n",
      "2024-03-01 14:27:13,768 - INFO - [step:       7700] loss:  8.434e-01, time/iteration:  7.916e+01 ms\n",
      "2024-03-01 14:27:21,969 - INFO - [step:       7800] loss:  2.126e-01, time/iteration:  8.199e+01 ms\n",
      "2024-03-01 14:27:29,935 - INFO - [step:       7900] loss:  2.125e-01, time/iteration:  7.962e+01 ms\n",
      "2024-03-01 14:27:38,993 - INFO - [step:       8000] record constraint batch time:  8.011e-02s\n",
      "2024-03-01 14:27:53,282 - INFO - [step:       8000] record validators time:  1.429e+01s\n",
      "2024-03-01 14:27:53,351 - INFO - [step:       8000] saved checkpoint to /workspace/21_2D_Helmholtz_NTK/outputs\n",
      "2024-03-01 14:27:53,358 - INFO - [step:       8000] loss:  1.642e-01, time/iteration:  2.342e+02 ms\n",
      "2024-03-01 14:28:07,892 - INFO - [step:       8100] loss:  1.905e-01, time/iteration:  1.453e+02 ms\n",
      "2024-03-01 14:28:15,266 - INFO - [step:       8200] loss:  2.552e-01, time/iteration:  7.372e+01 ms\n",
      "2024-03-01 14:28:23,242 - INFO - [step:       8300] loss:  3.245e-01, time/iteration:  7.975e+01 ms\n",
      "2024-03-01 14:28:30,874 - INFO - [step:       8400] loss:  1.378e+00, time/iteration:  7.630e+01 ms\n",
      "2024-03-01 14:28:39,042 - INFO - [step:       8500] loss:  2.339e-01, time/iteration:  8.166e+01 ms\n",
      "2024-03-01 14:28:47,143 - INFO - [step:       8600] loss:  1.426e+00, time/iteration:  8.098e+01 ms\n",
      "2024-03-01 14:28:55,214 - INFO - [step:       8700] loss:  2.275e-01, time/iteration:  8.070e+01 ms\n",
      "2024-03-01 14:29:03,636 - INFO - [step:       8800] loss:  3.672e-01, time/iteration:  8.421e+01 ms\n",
      "2024-03-01 14:29:11,881 - INFO - [step:       8900] loss:  1.746e-01, time/iteration:  8.243e+01 ms\n",
      "2024-03-01 14:29:34,320 - INFO - [step:       9000] record validators time:  1.387e+01s\n",
      "2024-03-01 14:29:34,400 - INFO - [step:       9000] saved checkpoint to /workspace/21_2D_Helmholtz_NTK/outputs\n",
      "2024-03-01 14:29:34,403 - INFO - [step:       9000] loss:  1.539e-01, time/iteration:  2.252e+02 ms\n",
      "2024-03-01 14:29:42,788 - INFO - [step:       9100] loss:  1.514e-01, time/iteration:  8.384e+01 ms\n",
      "2024-03-01 14:29:50,420 - INFO - [step:       9200] loss:  2.092e-01, time/iteration:  7.630e+01 ms\n",
      "2024-03-01 14:29:59,055 - INFO - [step:       9300] loss:  1.529e-01, time/iteration:  8.634e+01 ms\n",
      "2024-03-01 14:30:07,193 - INFO - [step:       9400] loss:  1.673e-01, time/iteration:  8.135e+01 ms\n",
      "2024-03-01 14:30:15,369 - INFO - [step:       9500] loss:  1.539e-01, time/iteration:  8.174e+01 ms\n",
      "2024-03-01 14:30:23,607 - INFO - [step:       9600] loss:  2.167e-01, time/iteration:  8.236e+01 ms\n",
      "2024-03-01 14:30:31,803 - INFO - [step:       9700] loss:  1.475e-01, time/iteration:  8.193e+01 ms\n",
      "2024-03-01 14:30:39,993 - INFO - [step:       9800] loss:  1.511e-01, time/iteration:  8.188e+01 ms\n",
      "2024-03-01 14:30:48,027 - INFO - [step:       9900] loss:  1.592e-01, time/iteration:  8.033e+01 ms\n",
      "2024-03-01 14:30:56,815 - INFO - [step:      10000] record constraint batch time:  5.933e-02s\n",
      "2024-03-01 14:31:10,301 - INFO - [step:      10000] record validators time:  1.348e+01s\n",
      "2024-03-01 14:31:10,331 - INFO - [step:      10000] saved checkpoint to /workspace/21_2D_Helmholtz_NTK/outputs\n",
      "2024-03-01 14:31:10,333 - INFO - [step:      10000] loss:  1.737e-01, time/iteration:  2.230e+02 ms\n",
      "2024-03-01 14:31:18,515 - INFO - [step:      10100] loss:  2.391e-01, time/iteration:  8.182e+01 ms\n",
      "2024-03-01 14:31:26,928 - INFO - [step:      10200] loss:  1.716e-01, time/iteration:  8.408e+01 ms\n",
      "2024-03-01 14:31:34,717 - INFO - [step:      10300] loss:  1.410e-01, time/iteration:  7.788e+01 ms\n",
      "2024-03-01 14:31:42,427 - INFO - [step:      10400] loss:  1.355e-01, time/iteration:  7.707e+01 ms\n",
      "2024-03-01 14:31:50,408 - INFO - [step:      10500] loss:  1.365e-01, time/iteration:  7.979e+01 ms\n",
      "2024-03-01 14:31:58,323 - INFO - [step:      10600] loss:  1.878e-01, time/iteration:  7.913e+01 ms\n",
      "2024-03-01 14:32:06,684 - INFO - [step:      10700] loss:  1.410e-01, time/iteration:  8.359e+01 ms\n",
      "2024-03-01 14:32:14,634 - INFO - [step:      10800] loss:  1.490e-01, time/iteration:  7.949e+01 ms\n",
      "2024-03-01 14:32:22,845 - INFO - [step:      10900] loss:  1.500e-01, time/iteration:  8.208e+01 ms\n",
      "2024-03-01 14:32:46,887 - INFO - [step:      11000] record validators time:  1.569e+01s\n",
      "2024-03-01 14:32:46,991 - INFO - [step:      11000] saved checkpoint to /workspace/21_2D_Helmholtz_NTK/outputs\n",
      "2024-03-01 14:32:46,994 - INFO - [step:      11000] loss:  1.730e-01, time/iteration:  2.415e+02 ms\n",
      "2024-03-01 14:32:55,403 - INFO - [step:      11100] loss:  1.326e-01, time/iteration:  8.407e+01 ms\n",
      "2024-03-01 14:33:03,838 - INFO - [step:      11200] loss:  1.889e-01, time/iteration:  8.433e+01 ms\n",
      "2024-03-01 14:33:11,947 - INFO - [step:      11300] loss:  1.282e-01, time/iteration:  8.107e+01 ms\n",
      "2024-03-01 14:33:20,549 - INFO - [step:      11400] loss:  1.806e-01, time/iteration:  8.601e+01 ms\n",
      "2024-03-01 14:33:29,140 - INFO - [step:      11500] loss:  2.031e-01, time/iteration:  8.589e+01 ms\n",
      "2024-03-01 14:33:37,352 - INFO - [step:      11600] loss:  2.228e-01, time/iteration:  8.210e+01 ms\n",
      "2024-03-01 14:33:45,061 - INFO - [step:      11700] loss:  1.695e-01, time/iteration:  7.707e+01 ms\n",
      "2024-03-01 14:33:52,518 - INFO - [step:      11800] loss:  1.382e-01, time/iteration:  7.455e+01 ms\n",
      "2024-03-01 14:34:00,541 - INFO - [step:      11900] loss:  4.447e-01, time/iteration:  8.021e+01 ms\n",
      "2024-03-01 14:34:09,851 - INFO - [step:      12000] record constraint batch time:  1.248e-01s\n",
      "2024-03-01 14:34:25,079 - INFO - [step:      12000] record validators time:  1.523e+01s\n",
      "2024-03-01 14:34:25,120 - INFO - [step:      12000] saved checkpoint to /workspace/21_2D_Helmholtz_NTK/outputs\n",
      "2024-03-01 14:34:25,123 - INFO - [step:      12000] loss:  2.311e-01, time/iteration:  2.458e+02 ms\n",
      "2024-03-01 14:34:33,885 - INFO - [step:      12100] loss:  1.827e-01, time/iteration:  8.761e+01 ms\n",
      "2024-03-01 14:34:42,764 - INFO - [step:      12200] loss:  1.903e-01, time/iteration:  8.877e+01 ms\n",
      "2024-03-01 14:34:51,249 - INFO - [step:      12300] loss:  1.109e-01, time/iteration:  8.484e+01 ms\n",
      "2024-03-01 14:34:58,887 - INFO - [step:      12400] loss:  2.401e-01, time/iteration:  7.635e+01 ms\n",
      "2024-03-01 14:35:07,238 - INFO - [step:      12500] loss:  1.534e-01, time/iteration:  8.350e+01 ms\n",
      "2024-03-01 14:35:16,071 - INFO - [step:      12600] loss:  1.672e-01, time/iteration:  8.831e+01 ms\n",
      "2024-03-01 14:35:24,301 - INFO - [step:      12700] loss:  1.330e-01, time/iteration:  8.228e+01 ms\n",
      "2024-03-01 14:35:32,727 - INFO - [step:      12800] loss:  1.255e-01, time/iteration:  8.424e+01 ms\n"
     ]
    },
    {
     "name": "stderr",
     "output_type": "stream",
     "text": [
      "2024-03-01 14:35:41,072 - INFO - [step:      12900] loss:  2.433e-01, time/iteration:  8.343e+01 ms\n",
      "2024-03-01 14:36:03,132 - INFO - [step:      13000] record validators time:  1.321e+01s\n",
      "2024-03-01 14:36:03,215 - INFO - [step:      13000] saved checkpoint to /workspace/21_2D_Helmholtz_NTK/outputs\n",
      "2024-03-01 14:36:03,216 - INFO - [step:      13000] loss:  1.535e-01, time/iteration:  2.214e+02 ms\n",
      "2024-03-01 14:36:11,177 - INFO - [step:      13100] loss:  2.052e-01, time/iteration:  7.960e+01 ms\n",
      "2024-03-01 14:36:19,036 - INFO - [step:      13200] loss:  1.557e-01, time/iteration:  7.856e+01 ms\n",
      "2024-03-01 14:36:27,450 - INFO - [step:      13300] loss:  1.443e-01, time/iteration:  8.413e+01 ms\n",
      "2024-03-01 14:36:36,379 - INFO - [step:      13400] loss:  1.578e-01, time/iteration:  8.927e+01 ms\n",
      "2024-03-01 14:36:45,153 - INFO - [step:      13500] loss:  1.548e-01, time/iteration:  8.771e+01 ms\n",
      "2024-03-01 14:36:53,903 - INFO - [step:      13600] loss:  1.673e-01, time/iteration:  8.748e+01 ms\n",
      "2024-03-01 14:37:03,326 - INFO - [step:      13700] loss:  1.585e-01, time/iteration:  9.422e+01 ms\n",
      "2024-03-01 14:37:12,071 - INFO - [step:      13800] loss:  1.192e-01, time/iteration:  8.743e+01 ms\n",
      "2024-03-01 14:37:20,756 - INFO - [step:      13900] loss:  1.640e-01, time/iteration:  8.683e+01 ms\n",
      "2024-03-01 14:37:30,785 - INFO - [step:      14000] record constraint batch time:  6.278e-02s\n",
      "2024-03-01 14:37:43,087 - INFO - [step:      14000] record validators time:  1.230e+01s\n",
      "2024-03-01 14:37:43,177 - INFO - [step:      14000] saved checkpoint to /workspace/21_2D_Helmholtz_NTK/outputs\n",
      "2024-03-01 14:37:43,179 - INFO - [step:      14000] loss:  1.514e-01, time/iteration:  2.242e+02 ms\n",
      "2024-03-01 14:37:51,959 - INFO - [step:      14100] loss:  1.337e-01, time/iteration:  8.779e+01 ms\n",
      "2024-03-01 14:38:00,523 - INFO - [step:      14200] loss:  1.320e-01, time/iteration:  8.563e+01 ms\n",
      "2024-03-01 14:38:10,036 - INFO - [step:      14300] loss:  1.211e-01, time/iteration:  9.512e+01 ms\n",
      "2024-03-01 14:38:19,250 - INFO - [step:      14400] loss:  1.199e-01, time/iteration:  9.210e+01 ms\n",
      "2024-03-01 14:38:28,086 - INFO - [step:      14500] loss:  1.063e-01, time/iteration:  8.835e+01 ms\n",
      "2024-03-01 14:38:36,619 - INFO - [step:      14600] loss:  1.696e-01, time/iteration:  8.532e+01 ms\n",
      "2024-03-01 14:38:44,257 - INFO - [step:      14700] loss:  1.613e-01, time/iteration:  7.636e+01 ms\n",
      "2024-03-01 14:38:52,382 - INFO - [step:      14800] loss:  1.092e-01, time/iteration:  8.124e+01 ms\n",
      "2024-03-01 14:39:01,164 - INFO - [step:      14900] loss:  1.013e-01, time/iteration:  8.781e+01 ms\n",
      "2024-03-01 14:39:24,408 - INFO - [step:      15000] record validators time:  1.393e+01s\n",
      "2024-03-01 14:39:24,442 - INFO - [step:      15000] saved checkpoint to /workspace/21_2D_Helmholtz_NTK/outputs\n",
      "2024-03-01 14:39:24,444 - INFO - [step:      15000] loss:  1.129e-01, time/iteration:  2.328e+02 ms\n",
      "2024-03-01 14:39:33,026 - INFO - [step:      15100] loss:  1.086e-01, time/iteration:  8.581e+01 ms\n",
      "2024-03-01 14:39:41,343 - INFO - [step:      15200] loss:  1.264e-01, time/iteration:  8.314e+01 ms\n",
      "2024-03-01 14:39:49,633 - INFO - [step:      15300] loss:  1.045e-01, time/iteration:  8.289e+01 ms\n",
      "2024-03-01 14:39:57,837 - INFO - [step:      15400] loss:  1.285e-01, time/iteration:  8.202e+01 ms\n",
      "2024-03-01 14:40:06,929 - INFO - [step:      15500] loss:  1.095e-01, time/iteration:  9.089e+01 ms\n",
      "2024-03-01 14:40:15,600 - INFO - [step:      15600] loss:  1.010e-01, time/iteration:  8.668e+01 ms\n",
      "2024-03-01 14:40:24,142 - INFO - [step:      15700] loss:  1.207e-01, time/iteration:  8.540e+01 ms\n",
      "2024-03-01 14:40:33,165 - INFO - [step:      15800] loss:  1.047e-01, time/iteration:  9.021e+01 ms\n",
      "2024-03-01 14:40:41,726 - INFO - [step:      15900] loss:  9.833e-02, time/iteration:  8.560e+01 ms\n",
      "2024-03-01 14:40:51,221 - INFO - [step:      16000] record constraint batch time:  9.631e-02s\n",
      "2024-03-01 14:41:04,437 - INFO - [step:      16000] record validators time:  1.321e+01s\n",
      "2024-03-01 14:41:04,533 - INFO - [step:      16000] saved checkpoint to /workspace/21_2D_Helmholtz_NTK/outputs\n",
      "2024-03-01 14:41:04,534 - INFO - [step:      16000] loss:  1.470e-01, time/iteration:  2.281e+02 ms\n",
      "2024-03-01 14:41:12,420 - INFO - [step:      16100] loss:  1.019e-01, time/iteration:  7.885e+01 ms\n",
      "2024-03-01 14:41:20,697 - INFO - [step:      16200] loss:  9.613e-02, time/iteration:  8.274e+01 ms\n",
      "2024-03-01 14:41:28,988 - INFO - [step:      16300] loss:  9.949e-02, time/iteration:  8.289e+01 ms\n",
      "2024-03-01 14:41:37,470 - INFO - [step:      16400] loss:  1.192e-01, time/iteration:  8.480e+01 ms\n",
      "2024-03-01 14:41:46,460 - INFO - [step:      16500] loss:  1.001e-01, time/iteration:  8.989e+01 ms\n",
      "2024-03-01 14:41:55,097 - INFO - [step:      16600] loss:  1.160e-01, time/iteration:  8.634e+01 ms\n",
      "2024-03-01 14:42:04,046 - INFO - [step:      16700] loss:  1.001e-01, time/iteration:  8.948e+01 ms\n",
      "2024-03-01 14:42:13,149 - INFO - [step:      16800] loss:  9.544e-02, time/iteration:  9.101e+01 ms\n",
      "2024-03-01 14:42:21,902 - INFO - [step:      16900] loss:  9.805e-02, time/iteration:  8.751e+01 ms\n",
      "2024-03-01 14:42:42,887 - INFO - [step:      17000] record validators time:  1.222e+01s\n",
      "2024-03-01 14:42:42,974 - INFO - [step:      17000] saved checkpoint to /workspace/21_2D_Helmholtz_NTK/outputs\n",
      "2024-03-01 14:42:42,976 - INFO - [step:      17000] loss:  9.354e-02, time/iteration:  2.107e+02 ms\n",
      "2024-03-01 14:42:52,419 - INFO - [step:      17100] loss:  1.141e-01, time/iteration:  9.441e+01 ms\n",
      "2024-03-01 14:43:01,260 - INFO - [step:      17200] loss:  1.008e-01, time/iteration:  8.838e+01 ms\n",
      "2024-03-01 14:43:10,059 - INFO - [step:      17300] loss:  1.008e-01, time/iteration:  8.798e+01 ms\n",
      "2024-03-01 14:43:19,079 - INFO - [step:      17400] loss:  9.039e-02, time/iteration:  9.018e+01 ms\n",
      "2024-03-01 14:43:28,070 - INFO - [step:      17500] loss:  9.582e-02, time/iteration:  8.989e+01 ms\n",
      "2024-03-01 14:43:37,121 - INFO - [step:      17600] loss:  9.648e-02, time/iteration:  9.048e+01 ms\n",
      "2024-03-01 14:43:45,280 - INFO - [step:      17700] loss:  1.037e-01, time/iteration:  8.157e+01 ms\n",
      "2024-03-01 14:43:53,724 - INFO - [step:      17800] loss:  8.638e-02, time/iteration:  8.442e+01 ms\n",
      "2024-03-01 14:44:02,805 - INFO - [step:      17900] loss:  8.863e-02, time/iteration:  9.078e+01 ms\n",
      "2024-03-01 14:44:13,006 - INFO - [step:      18000] record constraint batch time:  1.444e-01s\n",
      "2024-03-01 14:44:26,355 - INFO - [step:      18000] record validators time:  1.335e+01s\n",
      "2024-03-01 14:44:26,445 - INFO - [step:      18000] saved checkpoint to /workspace/21_2D_Helmholtz_NTK/outputs\n",
      "2024-03-01 14:44:26,447 - INFO - [step:      18000] loss:  1.260e-01, time/iteration:  2.364e+02 ms\n",
      "2024-03-01 14:44:34,805 - INFO - [step:      18100] loss:  1.034e-01, time/iteration:  8.357e+01 ms\n",
      "2024-03-01 14:44:43,265 - INFO - [step:      18200] loss:  1.099e-01, time/iteration:  8.458e+01 ms\n",
      "2024-03-01 14:44:51,769 - INFO - [step:      18300] loss:  9.427e-02, time/iteration:  8.502e+01 ms\n",
      "2024-03-01 14:45:00,048 - INFO - [step:      18400] loss:  9.707e-02, time/iteration:  8.277e+01 ms\n",
      "2024-03-01 14:45:09,296 - INFO - [step:      18500] loss:  1.007e-01, time/iteration:  9.247e+01 ms\n",
      "2024-03-01 14:45:18,515 - INFO - [step:      18600] loss:  9.632e-02, time/iteration:  9.218e+01 ms\n",
      "2024-03-01 14:45:27,489 - INFO - [step:      18700] loss:  9.257e-02, time/iteration:  8.970e+01 ms\n",
      "2024-03-01 14:45:36,005 - INFO - [step:      18800] loss:  9.375e-02, time/iteration:  8.515e+01 ms\n",
      "2024-03-01 14:45:44,979 - INFO - [step:      18900] loss:  8.934e-02, time/iteration:  8.973e+01 ms\n",
      "2024-03-01 14:46:07,693 - INFO - [step:      19000] record validators time:  1.293e+01s\n",
      "2024-03-01 14:46:07,726 - INFO - [step:      19000] saved checkpoint to /workspace/21_2D_Helmholtz_NTK/outputs\n",
      "2024-03-01 14:46:07,728 - INFO - [step:      19000] loss:  9.474e-02, time/iteration:  2.275e+02 ms\n",
      "2024-03-01 14:46:15,455 - INFO - [step:      19100] loss:  9.252e-02, time/iteration:  7.725e+01 ms\n",
      "2024-03-01 14:46:24,530 - INFO - [step:      19200] loss:  9.119e-02, time/iteration:  9.073e+01 ms\n",
      "2024-03-01 14:46:33,145 - INFO - [step:      19300] loss:  9.360e-02, time/iteration:  8.614e+01 ms\n",
      "2024-03-01 14:46:41,768 - INFO - [step:      19400] loss:  8.840e-02, time/iteration:  8.621e+01 ms\n"
     ]
    },
    {
     "name": "stderr",
     "output_type": "stream",
     "text": [
      "2024-03-01 14:46:50,496 - INFO - [step:      19500] loss:  8.339e-02, time/iteration:  8.726e+01 ms\n",
      "2024-03-01 14:46:59,605 - INFO - [step:      19600] loss:  8.154e-02, time/iteration:  9.108e+01 ms\n",
      "2024-03-01 14:47:08,208 - INFO - [step:      19700] loss:  1.127e-01, time/iteration:  8.601e+01 ms\n",
      "2024-03-01 14:47:17,473 - INFO - [step:      19800] loss:  9.004e-02, time/iteration:  9.264e+01 ms\n",
      "2024-03-01 14:47:26,129 - INFO - [step:      19900] loss:  8.697e-02, time/iteration:  8.655e+01 ms\n",
      "2024-03-01 14:47:35,317 - INFO - [step:      20000] record constraint batch time:  8.175e-02s\n",
      "2024-03-01 14:47:48,075 - INFO - [step:      20000] record validators time:  1.276e+01s\n",
      "2024-03-01 14:47:48,161 - INFO - [step:      20000] saved checkpoint to /workspace/21_2D_Helmholtz_NTK/outputs\n",
      "2024-03-01 14:47:48,163 - INFO - [step:      20000] loss:  8.754e-02, time/iteration:  2.203e+02 ms\n",
      "2024-03-01 14:47:48,163 - INFO - [step:      20000] reached maximum training steps, finished training!\n"
     ]
    }
   ],
   "source": [
    "slv.solve()"
   ]
  },
  {
   "cell_type": "markdown",
   "id": "556674b9",
   "metadata": {},
   "source": [
    "### 后处理以及可视化\n",
    "\n",
    "对于jupyter，比较方便的方法是使用matplotlib\n",
    "\n",
    "此外，还可以使用tensorboard以及Paraview\n",
    "\n",
    "![u](./outputs/validators/validator_u.png)"
   ]
  },
  {
   "cell_type": "code",
   "execution_count": 16,
   "id": "9b8a6d60",
   "metadata": {},
   "outputs": [],
   "source": [
    "import matplotlib.pyplot as plt\n",
    "import pandas as pd"
   ]
  },
  {
   "cell_type": "code",
   "execution_count": 17,
   "id": "b66eeda0",
   "metadata": {},
   "outputs": [
    {
     "name": "stdout",
     "output_type": "stream",
     "text": [
      "   Unnamed: 0     wall_u  interior_helmholtz\n",
      "0          10  21.031721            2.045091\n",
      "1          20  23.458870            3.861664\n",
      "2          30  45.452484            9.806118\n",
      "3          40  40.201710           54.964070\n",
      "4          50  52.444054           92.373800\n"
     ]
    }
   ],
   "source": [
    "# 读取损失权重数据\n",
    "ntk_weights_df = pd.read_csv('./ntk.csv')\n",
    "print(ntk_weights_df.head())"
   ]
  },
  {
   "cell_type": "code",
   "execution_count": 21,
   "id": "54776055",
   "metadata": {},
   "outputs": [],
   "source": [
    "steps = ntk_weights_df.iloc[:, 0].values\n",
    "wall_u_weight = ntk_weights_df['wall_u'].values\n",
    "interior_helmholtz_weight = ntk_weights_df['interior_helmholtz'].values"
   ]
  },
  {
   "cell_type": "code",
   "execution_count": 24,
   "id": "204ac848",
   "metadata": {},
   "outputs": [
    {
     "data": {
      "image/png": "[encoded data removed]",
      "text/plain": [
       "<Figure size 640x480 with 1 Axes>"
      ]
     },
     "metadata": {},
     "output_type": "display_data"
    }
   ],
   "source": [
    "# 绘制损失权重曲线\n",
    "plt.figure()\n",
    "plt.plot(steps, wall_u_weight, label='vall_u')\n",
    "plt.plot(steps, interior_helmholtz_weight, label='helmholtz')\n",
    "plt.legend()\n",
    "plt.show()"
   ]
  }
 ],
 "metadata": {
  "kernelspec": {
   "display_name": "Python 3 (ipykernel)",
   "language": "python",
   "name": "python3"
  },
  "language_info": {
   "codemirror_mode": {
    "name": "ipython",
    "version": 3
   },
   "file_extension": ".py",
   "mimetype": "text/x-python",
   "name": "python",
   "nbconvert_exporter": "python",
   "pygments_lexer": "ipython3",
   "version": "3.10.12"
  }
 },
 "nbformat": 4,
 "nbformat_minor": 5
}
