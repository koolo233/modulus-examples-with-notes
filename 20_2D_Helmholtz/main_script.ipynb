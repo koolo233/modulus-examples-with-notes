{
 "cells": [
  {
   "cell_type": "markdown",
   "id": "d787cdb7",
   "metadata": {},
   "source": [
    "## 问题定义\n",
    "\n",
    "本问题为求解2D Helmholtz方程。其形式可以参考案例18中的PDE定义。\n",
    "\n",
    "\n",
    "### 求解目标\n",
    "\n",
    "要求求解给定区域内的Helmholtz方程\n"
   ]
  },
  {
   "cell_type": "markdown",
   "id": "77b4e6a5",
   "metadata": {},
   "source": [
    "## 求解"
   ]
  },
  {
   "cell_type": "code",
   "execution_count": 1,
   "id": "b1f223f4",
   "metadata": {},
   "outputs": [],
   "source": [
    "import os\n",
    "import warnings\n",
    "\n",
    "# optional\n",
    "# set appropriate GPU in case of multi-GPU machine\n",
    "os.environ[\"CUDA_DEVICE_ORDER\"]=\"PCI_BUS_ID\"\n",
    "os.environ[\"CUDA_VISIBLE_DEVICES\"]=\"3\""
   ]
  },
  {
   "cell_type": "code",
   "execution_count": 2,
   "id": "12011ac4",
   "metadata": {},
   "outputs": [],
   "source": [
    "from modulus.sym.hydra import to_yaml\n",
    "from modulus.sym.hydra.utils import compose\n",
    "from modulus.sym.utils.io.plotter import ValidatorPlotter, InferencerPlotter"
   ]
  },
  {
   "cell_type": "code",
   "execution_count": 3,
   "id": "dd0cf1b9",
   "metadata": {},
   "outputs": [],
   "source": [
    "from sympy import Symbol, pi, sin\n",
    "\n",
    "import modulus.sym\n",
    "from modulus.sym.hydra import to_absolute_path, instantiate_arch, ModulusConfig\n",
    "from modulus.sym.utils.io import csv_to_dict\n",
    "from modulus.sym.solver import Solver\n",
    "from modulus.sym.domain import Domain\n",
    "from modulus.sym.geometry.primitives_2d import Rectangle\n",
    "from modulus.sym.domain.constraint import (\n",
    "    PointwiseBoundaryConstraint,\n",
    "    PointwiseInteriorConstraint,\n",
    ")\n",
    "from modulus.sym.domain.validator import PointwiseValidator\n",
    "from modulus.sym.domain.inferencer import PointwiseInferencer\n",
    "from modulus.sym.key import Key\n",
    "from modulus.sym.node import Node\n",
    "from modulus.sym.eq.pdes.wave_equation import HelmholtzEquation"
   ]
  },
  {
   "cell_type": "code",
   "execution_count": 4,
   "id": "613f5d80",
   "metadata": {
    "scrolled": true
   },
   "outputs": [
    {
     "name": "stderr",
     "output_type": "stream",
     "text": [
      "/usr/local/lib/python3.10/dist-packages/modulus/sym/hydra/utils.py:148: UserWarning: \n",
      "The version_base parameter is not specified.\n",
      "Please specify a compatability version level, or None.\n",
      "Will assume defaults for version 1.1\n",
      "  hydra.initialize(\n"
     ]
    },
    {
     "name": "stdout",
     "output_type": "stream",
     "text": [
      "training:\n",
      "  max_steps: 20000\n",
      "  grad_agg_freq: 1\n",
      "  rec_results_freq: 1000\n",
      "  rec_validation_freq: ${training.rec_results_freq}\n",
      "  rec_inference_freq: ${training.rec_results_freq}\n",
      "  rec_monitor_freq: ${training.rec_results_freq}\n",
      "  rec_constraint_freq: 2000\n",
      "  save_network_freq: 1000\n",
      "  print_stats_freq: 100\n",
      "  summary_freq: 1000\n",
      "  amp: false\n",
      "  amp_dtype: float16\n",
      "  ntk:\n",
      "    use_ntk: false\n",
      "    save_name: null\n",
      "    run_freq: 1000\n",
      "graph:\n",
      "  func_arch: false\n",
      "  func_arch_allow_partial_hessian: true\n",
      "stop_criterion:\n",
      "  metric: null\n",
      "  min_delta: null\n",
      "  patience: 50000\n",
      "  mode: min\n",
      "  freq: 1000\n",
      "  strict: false\n",
      "profiler:\n",
      "  profile: false\n",
      "  start_step: 0\n",
      "  end_step: 100\n",
      "  name: nvtx\n",
      "network_dir: outputs\n",
      "initialization_network_dir: ''\n",
      "save_filetypes: vtk,npz\n",
      "summary_histograms: false\n",
      "jit: true\n",
      "jit_use_nvfuser: true\n",
      "jit_arch_mode: only_activation\n",
      "jit_autograd_nodes: false\n",
      "cuda_graphs: true\n",
      "cuda_graph_warmup: 20\n",
      "find_unused_parameters: false\n",
      "broadcast_buffers: false\n",
      "device: ''\n",
      "debug: false\n",
      "run_mode: train\n",
      "arch:\n",
      "  fully_connected:\n",
      "    arch_type: fully_connected\n",
      "    input_keys: ???\n",
      "    output_keys: ???\n",
      "    detach_keys: ???\n",
      "    scaling: null\n",
      "    layer_size: 512\n",
      "    nr_layers: 6\n",
      "    skip_connections: false\n",
      "    activation_fn: silu\n",
      "    adaptive_activations: false\n",
      "    weight_norm: true\n",
      "models: ???\n",
      "loss:\n",
      "  _target_: modulus.sym.loss.aggregator.Sum\n",
      "  weights: null\n",
      "optimizer:\n",
      "  _params_:\n",
      "    compute_gradients: adam_compute_gradients\n",
      "    apply_gradients: adam_apply_gradients\n",
      "  _target_: torch.optim.Adam\n",
      "  lr: 0.001\n",
      "  betas:\n",
      "  - 0.9\n",
      "  - 0.999\n",
      "  eps: 1.0e-08\n",
      "  weight_decay: 0.0\n",
      "  amsgrad: false\n",
      "scheduler:\n",
      "  _target_: custom\n",
      "  _name_: tf.ExponentialLR\n",
      "  decay_rate: 0.95\n",
      "  decay_steps: 200\n",
      "batch_size:\n",
      "  wall: 800\n",
      "  interior: 4000\n",
      "custom: ???\n",
      "\n"
     ]
    }
   ],
   "source": [
    "cfg = compose(config_path=\"conf\", config_name=\"config\")\n",
    "cfg.network_dir = 'outputs'    # Set the network directory for checkpoints\n",
    "print(to_yaml(cfg))"
   ]
  },
  {
   "cell_type": "markdown",
   "id": "14d70fc0",
   "metadata": {},
   "source": [
    "### 定义必要组件"
   ]
  },
  {
   "cell_type": "markdown",
   "id": "76b3f58b",
   "metadata": {},
   "source": [
    "#### Geo"
   ]
  },
  {
   "cell_type": "code",
   "execution_count": 5,
   "id": "c001b667",
   "metadata": {},
   "outputs": [],
   "source": [
    "x, y = Symbol(\"x\"), Symbol(\"y\")\n",
    "height = 2\n",
    "width = 2\n",
    "rec = Rectangle((-width / 2, -height / 2), (width / 2, height / 2))"
   ]
  },
  {
   "cell_type": "markdown",
   "id": "e575f4c2",
   "metadata": {},
   "source": [
    "#### PDE"
   ]
  },
  {
   "cell_type": "code",
   "execution_count": 6,
   "id": "e3ab702f",
   "metadata": {},
   "outputs": [],
   "source": [
    "wave = HelmholtzEquation(u=\"u\", k=1.0, dim=2)  # 亥姆霍兹方程"
   ]
  },
  {
   "cell_type": "markdown",
   "id": "2ee27a28",
   "metadata": {},
   "source": [
    "#### Model"
   ]
  },
  {
   "cell_type": "code",
   "execution_count": 7,
   "id": "5a3af9d3",
   "metadata": {},
   "outputs": [],
   "source": [
    "# 定义简单的全连接网络\n",
    "# 输入为空间坐标和\n",
    "# 输出为E_z(x, y)\n",
    "wave_net = instantiate_arch(\n",
    "    input_keys=[Key(\"x\"), Key(\"y\")],\n",
    "    output_keys=[Key(\"u\")],\n",
    "    cfg=cfg.arch.fully_connected,\n",
    ")"
   ]
  },
  {
   "cell_type": "markdown",
   "id": "41bab61b",
   "metadata": {},
   "source": [
    "#### Node"
   ]
  },
  {
   "cell_type": "code",
   "execution_count": 8,
   "id": "a4593125",
   "metadata": {},
   "outputs": [],
   "source": [
    "nodes = wave.make_nodes() + [wave_net.make_node(name=\"wave_network\")]"
   ]
  },
  {
   "cell_type": "markdown",
   "id": "f52efd6c",
   "metadata": {},
   "source": [
    "#### Domain"
   ]
  },
  {
   "cell_type": "code",
   "execution_count": 9,
   "id": "2c7f0404",
   "metadata": {},
   "outputs": [],
   "source": [
    "domain = Domain()"
   ]
  },
  {
   "cell_type": "markdown",
   "id": "5d3e7143",
   "metadata": {},
   "source": [
    "#### ABC边界"
   ]
  },
  {
   "cell_type": "code",
   "execution_count": 10,
   "id": "c5f565d4",
   "metadata": {},
   "outputs": [],
   "source": [
    "wall = PointwiseBoundaryConstraint(\n",
    "    nodes=nodes,\n",
    "    geometry=rec,\n",
    "    outvar={\"u\": 0},\n",
    "    batch_size=cfg.batch_size.wall,\n",
    ")\n",
    "domain.add_constraint(wall, \"wall\")"
   ]
  },
  {
   "cell_type": "markdown",
   "id": "9388e9e1",
   "metadata": {},
   "source": [
    "#### PDE约束"
   ]
  },
  {
   "cell_type": "code",
   "execution_count": 11,
   "id": "6a15c4e7",
   "metadata": {},
   "outputs": [],
   "source": [
    "interior = PointwiseInteriorConstraint(\n",
    "    nodes=nodes,\n",
    "    geometry=rec,\n",
    "    outvar={\n",
    "        \"helmholtz\": -(\n",
    "            -((pi) ** 2) * sin(pi * x) * sin(4 * pi * y)\n",
    "            - ((4 * pi) ** 2) * sin(pi * x) * sin(4 * pi * y)\n",
    "            + 1 * sin(pi * x) * sin(4 * pi * y)\n",
    "        )\n",
    "    },  # 非齐次形式\n",
    "    batch_size=cfg.batch_size.interior,\n",
    "    bounds={x: (-width / 2, width / 2), y: (-height / 2, height / 2)},\n",
    "    lambda_weighting={\n",
    "        \"helmholtz\": Symbol(\"sdf\"),\n",
    "    },\n",
    ")\n",
    "domain.add_constraint(interior, \"interior\")"
   ]
  },
  {
   "cell_type": "markdown",
   "id": "33c0e57c",
   "metadata": {},
   "source": [
    "#### 验证器以及其他必要组件"
   ]
  },
  {
   "cell_type": "code",
   "execution_count": 12,
   "id": "2a81d5dd",
   "metadata": {},
   "outputs": [],
   "source": [
    "file_path = \"openfoam/helmholtz.csv\"\n",
    "if os.path.exists(to_absolute_path(file_path)):\n",
    "    mapping = {\"x\": \"x\", \"y\": \"y\", \"z\": \"u\"}\n",
    "    openfoam_var = csv_to_dict(to_absolute_path(file_path), mapping)\n",
    "    openfoam_invar_numpy = {\n",
    "        key: value for key, value in openfoam_var.items() if key in [\"x\", \"y\"]\n",
    "    }\n",
    "    openfoam_outvar_numpy = {\n",
    "        key: value for key, value in openfoam_var.items() if key in [\"u\"]\n",
    "    }\n",
    "\n",
    "    openfoam_validator = PointwiseValidator(\n",
    "        nodes=nodes,\n",
    "        invar=openfoam_invar_numpy,\n",
    "        true_outvar=openfoam_outvar_numpy,\n",
    "        batch_size=1024,\n",
    "        plotter=ValidatorPlotter(),\n",
    "    )\n",
    "    domain.add_validator(openfoam_validator)\n",
    "else:\n",
    "    warnings.warn(\n",
    "        f\"Directory {file_path} does not exist. Will skip adding validators. Please download the additional files from NGC https://catalog.ngc.nvidia.com/orgs/nvidia/teams/modulus/resources/modulus_sym_examples_supplemental_materials\"\n",
    "    )"
   ]
  },
  {
   "cell_type": "markdown",
   "id": "473c37fb",
   "metadata": {},
   "source": [
    "### 求解器以及求解"
   ]
  },
  {
   "cell_type": "code",
   "execution_count": 13,
   "id": "97b90486",
   "metadata": {},
   "outputs": [],
   "source": [
    "# 定义求解器\n",
    "slv = Solver(cfg, domain)"
   ]
  },
  {
   "cell_type": "markdown",
   "id": "ef9af551",
   "metadata": {},
   "source": [
    "手动加载日志系统"
   ]
  },
  {
   "cell_type": "code",
   "execution_count": 14,
   "id": "39932aa9",
   "metadata": {},
   "outputs": [],
   "source": [
    "import logging\n",
    "# logging.getLogger().addHandler(logging.StreamHandler())\n",
    "logger = logging.getLogger()\n",
    "logger.setLevel(logging.INFO)\n",
    "\n",
    "# create console handler and set level to debug\n",
    "ch = logging.StreamHandler()\n",
    "ch.setLevel(logging.INFO)\n",
    "\n",
    "# create formatter\n",
    "formatter = logging.Formatter('%(asctime)s - %(levelname)s - %(message)s')\n",
    "\n",
    "# add formatter to ch\n",
    "ch.setFormatter(formatter)\n",
    "\n",
    "# add ch to logger\n",
    "logger.addHandler(ch)"
   ]
  },
  {
   "cell_type": "markdown",
   "id": "bd8adfbd",
   "metadata": {},
   "source": [
    "启动求解"
   ]
  },
  {
   "cell_type": "code",
   "execution_count": 15,
   "id": "c9b2fdb2",
   "metadata": {
    "scrolled": true
   },
   "outputs": [
    {
     "name": "stderr",
     "output_type": "stream",
     "text": [
      "2024-03-01 13:51:31,109 - WARNING - Installed PyTorch version 2.2.0a0+81ea7a4 is not TorchScript supported in Modulus. Version 2.1.0a0+4136153 is officially supported.\n",
      "2024-03-01 13:51:31,118 - INFO - attempting to restore from: /workspace/20_2D_Helmholtz/outputs\n",
      "2024-03-01 13:51:31,119 - WARNING - optimizer checkpoint not found\n",
      "2024-03-01 13:51:31,120 - WARNING - model wave_network.0.pth not found\n",
      "2024-03-01 13:51:32,621 - INFO - [step:          0] record constraint batch time:  1.195e-01s\n",
      "2024-03-01 13:51:46,474 - INFO - [step:          0] record validators time:  1.385e+01s\n",
      "2024-03-01 13:51:46,500 - INFO - [step:          0] saved checkpoint to /workspace/20_2D_Helmholtz/outputs\n",
      "2024-03-01 13:51:46,502 - INFO - [step:          0] loss:  9.869e+03\n",
      "2024-03-01 13:51:47,998 - INFO - Attempting cuda graph building, this may take a bit...\n",
      "2024-03-01 13:52:03,827 - INFO - [step:        100] loss:  9.890e+03, time/iteration:  1.732e+02 ms\n",
      "2024-03-01 13:52:10,532 - INFO - [step:        200] loss:  5.991e+02, time/iteration:  6.703e+01 ms\n",
      "2024-03-01 13:52:17,227 - INFO - [step:        300] loss:  1.317e+01, time/iteration:  6.693e+01 ms\n",
      "2024-03-01 13:52:24,074 - INFO - [step:        400] loss:  5.758e+00, time/iteration:  6.845e+01 ms\n",
      "2024-03-01 13:52:30,532 - INFO - [step:        500] loss:  1.339e+01, time/iteration:  6.456e+01 ms\n",
      "2024-03-01 13:52:36,468 - INFO - [step:        600] loss:  3.245e+00, time/iteration:  5.933e+01 ms\n",
      "2024-03-01 13:52:42,227 - INFO - [step:        700] loss:  5.834e+00, time/iteration:  5.757e+01 ms\n",
      "2024-03-01 13:52:47,393 - INFO - [step:        800] loss:  3.300e+00, time/iteration:  5.163e+01 ms\n",
      "2024-03-01 13:52:51,748 - INFO - [step:        900] loss:  1.693e+00, time/iteration:  4.351e+01 ms\n",
      "2024-03-01 13:53:12,540 - INFO - [step:       1000] record validators time:  1.334e+01s\n",
      "2024-03-01 13:53:12,597 - INFO - [step:       1000] saved checkpoint to /workspace/20_2D_Helmholtz/outputs\n",
      "2024-03-01 13:53:12,598 - INFO - [step:       1000] loss:  1.181e+00, time/iteration:  2.085e+02 ms\n",
      "2024-03-01 13:53:19,424 - INFO - [step:       1100] loss:  1.038e+00, time/iteration:  6.823e+01 ms\n",
      "2024-03-01 13:53:25,949 - INFO - [step:       1200] loss:  8.877e+00, time/iteration:  6.522e+01 ms\n",
      "2024-03-01 13:53:32,221 - INFO - [step:       1300] loss:  1.859e+00, time/iteration:  6.268e+01 ms\n",
      "2024-03-01 13:53:38,985 - INFO - [step:       1400] loss:  1.645e+01, time/iteration:  6.760e+01 ms\n",
      "2024-03-01 13:53:45,594 - INFO - [step:       1500] loss:  5.848e-01, time/iteration:  6.607e+01 ms\n",
      "2024-03-01 13:53:52,149 - INFO - [step:       1600] loss:  6.173e-01, time/iteration:  6.552e+01 ms\n",
      "2024-03-01 13:53:58,937 - INFO - [step:       1700] loss:  6.777e-01, time/iteration:  6.784e+01 ms\n",
      "2024-03-01 13:54:04,807 - INFO - [step:       1800] loss:  9.377e+00, time/iteration:  5.868e+01 ms\n",
      "2024-03-01 13:54:08,925 - INFO - [step:       1900] loss:  7.097e-01, time/iteration:  4.116e+01 ms\n",
      "2024-03-01 13:54:15,356 - INFO - [step:       2000] record constraint batch time:  1.673e-01s\n",
      "2024-03-01 13:54:29,278 - INFO - [step:       2000] record validators time:  1.392e+01s\n",
      "2024-03-01 13:54:29,363 - INFO - [step:       2000] saved checkpoint to /workspace/20_2D_Helmholtz/outputs\n",
      "2024-03-01 13:54:29,365 - INFO - [step:       2000] loss:  5.717e-01, time/iteration:  2.044e+02 ms\n",
      "2024-03-01 13:54:36,005 - INFO - [step:       2100] loss:  3.639e+00, time/iteration:  6.639e+01 ms\n",
      "2024-03-01 13:54:42,204 - INFO - [step:       2200] loss:  3.724e-01, time/iteration:  6.195e+01 ms\n",
      "2024-03-01 13:54:48,718 - INFO - [step:       2300] loss:  6.078e-01, time/iteration:  6.511e+01 ms\n",
      "2024-03-01 13:54:55,003 - INFO - [step:       2400] loss:  6.305e-01, time/iteration:  6.280e+01 ms\n",
      "2024-03-01 13:55:01,362 - INFO - [step:       2500] loss:  1.897e+00, time/iteration:  6.356e+01 ms\n",
      "2024-03-01 13:55:07,951 - INFO - [step:       2600] loss:  4.515e-01, time/iteration:  6.584e+01 ms\n",
      "2024-03-01 13:55:14,751 - INFO - [step:       2700] loss:  5.222e+00, time/iteration:  6.797e+01 ms\n",
      "2024-03-01 13:55:21,384 - INFO - [step:       2800] loss:  4.062e+00, time/iteration:  6.629e+01 ms\n",
      "2024-03-01 13:55:26,840 - INFO - [step:       2900] loss:  1.478e+00, time/iteration:  5.453e+01 ms\n",
      "2024-03-01 13:55:46,465 - INFO - [step:       3000] record validators time:  1.513e+01s\n",
      "2024-03-01 13:55:46,549 - INFO - [step:       3000] saved checkpoint to /workspace/20_2D_Helmholtz/outputs\n",
      "2024-03-01 13:55:46,551 - INFO - [step:       3000] loss:  1.089e+00, time/iteration:  1.971e+02 ms\n",
      "2024-03-01 13:55:52,890 - INFO - [step:       3100] loss:  3.142e-01, time/iteration:  6.337e+01 ms\n",
      "2024-03-01 13:55:59,490 - INFO - [step:       3200] loss:  2.668e-01, time/iteration:  6.599e+01 ms\n",
      "2024-03-01 13:56:05,840 - INFO - [step:       3300] loss:  2.334e+00, time/iteration:  6.340e+01 ms\n",
      "2024-03-01 13:56:12,189 - INFO - [step:       3400] loss:  6.097e-01, time/iteration:  6.346e+01 ms\n",
      "2024-03-01 13:56:19,048 - INFO - [step:       3500] loss:  1.661e+00, time/iteration:  6.858e+01 ms\n",
      "2024-03-01 13:56:25,890 - INFO - [step:       3600] loss:  2.817e-01, time/iteration:  6.839e+01 ms\n",
      "2024-03-01 13:56:32,362 - INFO - [step:       3700] loss:  3.587e-01, time/iteration:  6.468e+01 ms\n",
      "2024-03-01 13:56:38,862 - INFO - [step:       3800] loss:  3.763e-01, time/iteration:  6.498e+01 ms\n",
      "2024-03-01 13:56:44,336 - INFO - [step:       3900] loss:  2.070e-01, time/iteration:  5.471e+01 ms\n",
      "2024-03-01 13:56:49,935 - INFO - [step:       4000] record constraint batch time:  1.242e-01s\n",
      "2024-03-01 13:57:03,264 - INFO - [step:       4000] record validators time:  1.333e+01s\n",
      "2024-03-01 13:57:03,357 - INFO - [step:       4000] saved checkpoint to /workspace/20_2D_Helmholtz/outputs\n",
      "2024-03-01 13:57:03,359 - INFO - [step:       4000] loss:  1.258e+00, time/iteration:  1.902e+02 ms\n",
      "2024-03-01 13:57:09,551 - INFO - [step:       4100] loss:  9.274e-01, time/iteration:  6.191e+01 ms\n",
      "2024-03-01 13:57:16,122 - INFO - [step:       4200] loss:  1.787e-01, time/iteration:  6.568e+01 ms\n",
      "2024-03-01 13:57:22,736 - INFO - [step:       4300] loss:  2.916e-01, time/iteration:  6.613e+01 ms\n",
      "2024-03-01 13:57:29,099 - INFO - [step:       4400] loss:  2.048e-01, time/iteration:  6.359e+01 ms\n",
      "2024-03-01 13:57:35,375 - INFO - [step:       4500] loss:  3.503e-01, time/iteration:  6.274e+01 ms\n",
      "2024-03-01 13:57:42,052 - INFO - [step:       4600] loss:  3.878e+00, time/iteration:  6.675e+01 ms\n",
      "2024-03-01 13:57:48,052 - INFO - [step:       4700] loss:  2.143e-01, time/iteration:  5.998e+01 ms\n",
      "2024-03-01 13:57:54,347 - INFO - [step:       4800] loss:  1.775e-01, time/iteration:  6.291e+01 ms\n",
      "2024-03-01 13:58:00,504 - INFO - [step:       4900] loss:  2.775e-01, time/iteration:  6.155e+01 ms\n",
      "2024-03-01 13:58:21,212 - INFO - [step:       5000] record validators time:  1.420e+01s\n",
      "2024-03-01 13:58:21,258 - INFO - [step:       5000] saved checkpoint to /workspace/20_2D_Helmholtz/outputs\n",
      "2024-03-01 13:58:21,260 - INFO - [step:       5000] loss:  1.430e-01, time/iteration:  2.075e+02 ms\n",
      "2024-03-01 13:58:28,020 - INFO - [step:       5100] loss:  2.804e+00, time/iteration:  6.758e+01 ms\n",
      "2024-03-01 13:58:34,137 - INFO - [step:       5200] loss:  1.689e-01, time/iteration:  6.115e+01 ms\n",
      "2024-03-01 13:58:40,555 - INFO - [step:       5300] loss:  1.296e-01, time/iteration:  6.416e+01 ms\n",
      "2024-03-01 13:58:47,145 - INFO - [step:       5400] loss:  2.035e+00, time/iteration:  6.587e+01 ms\n",
      "2024-03-01 13:58:53,713 - INFO - [step:       5500] loss:  9.167e-02, time/iteration:  6.567e+01 ms\n",
      "2024-03-01 13:59:00,354 - INFO - [step:       5600] loss:  1.512e-01, time/iteration:  6.639e+01 ms\n",
      "2024-03-01 13:59:07,042 - INFO - [step:       5700] loss:  3.005e-01, time/iteration:  6.677e+01 ms\n",
      "2024-03-01 13:59:13,606 - INFO - [step:       5800] loss:  1.578e+00, time/iteration:  6.562e+01 ms\n",
      "2024-03-01 13:59:20,399 - INFO - [step:       5900] loss:  1.063e-01, time/iteration:  6.791e+01 ms\n",
      "2024-03-01 13:59:27,818 - INFO - [step:       6000] record constraint batch time:  1.428e-01s\n",
      "2024-03-01 13:59:42,277 - INFO - [step:       6000] record validators time:  1.446e+01s\n",
      "2024-03-01 13:59:42,389 - INFO - [step:       6000] saved checkpoint to /workspace/20_2D_Helmholtz/outputs\n"
     ]
    },
    {
     "name": "stderr",
     "output_type": "stream",
     "text": [
      "2024-03-01 13:59:42,391 - INFO - [step:       6000] loss:  7.998e-01, time/iteration:  2.199e+02 ms\n",
      "2024-03-01 13:59:48,968 - INFO - [step:       6100] loss:  1.082e-01, time/iteration:  6.575e+01 ms\n",
      "2024-03-01 13:59:55,856 - INFO - [step:       6200] loss:  7.399e-01, time/iteration:  6.885e+01 ms\n",
      "2024-03-01 14:00:02,743 - INFO - [step:       6300] loss:  1.120e-01, time/iteration:  6.885e+01 ms\n",
      "2024-03-01 14:00:09,250 - INFO - [step:       6400] loss:  2.987e-01, time/iteration:  6.505e+01 ms\n",
      "2024-03-01 14:00:15,862 - INFO - [step:       6500] loss:  3.611e-01, time/iteration:  6.610e+01 ms\n",
      "2024-03-01 14:00:22,166 - INFO - [step:       6600] loss:  2.335e-01, time/iteration:  6.301e+01 ms\n",
      "2024-03-01 14:00:28,839 - INFO - [step:       6700] loss:  1.161e-01, time/iteration:  6.671e+01 ms\n",
      "2024-03-01 14:00:35,196 - INFO - [step:       6800] loss:  1.533e+00, time/iteration:  6.353e+01 ms\n",
      "2024-03-01 14:00:41,814 - INFO - [step:       6900] loss:  1.705e-01, time/iteration:  6.614e+01 ms\n",
      "2024-03-01 14:01:05,254 - INFO - [step:       7000] record validators time:  1.566e+01s\n",
      "2024-03-01 14:01:05,314 - INFO - [step:       7000] saved checkpoint to /workspace/20_2D_Helmholtz/outputs\n",
      "2024-03-01 14:01:05,315 - INFO - [step:       7000] loss:  1.032e-01, time/iteration:  2.350e+02 ms\n",
      "2024-03-01 14:01:11,784 - INFO - [step:       7100] loss:  7.157e-02, time/iteration:  6.468e+01 ms\n",
      "2024-03-01 14:01:18,460 - INFO - [step:       7200] loss:  8.466e-02, time/iteration:  6.673e+01 ms\n",
      "2024-03-01 14:01:24,863 - INFO - [step:       7300] loss:  1.844e-01, time/iteration:  6.401e+01 ms\n",
      "2024-03-01 14:01:31,645 - INFO - [step:       7400] loss:  7.701e-02, time/iteration:  6.778e+01 ms\n",
      "2024-03-01 14:01:38,326 - INFO - [step:       7500] loss:  7.779e-02, time/iteration:  6.678e+01 ms\n",
      "2024-03-01 14:01:45,006 - INFO - [step:       7600] loss:  6.901e-01, time/iteration:  6.678e+01 ms\n",
      "2024-03-01 14:01:51,704 - INFO - [step:       7700] loss:  1.025e-01, time/iteration:  6.696e+01 ms\n",
      "2024-03-01 14:01:58,582 - INFO - [step:       7800] loss:  1.008e-01, time/iteration:  6.871e+01 ms\n",
      "2024-03-01 14:02:05,372 - INFO - [step:       7900] loss:  8.039e-01, time/iteration:  6.789e+01 ms\n",
      "2024-03-01 14:02:12,599 - INFO - [step:       8000] record constraint batch time:  1.123e-01s\n",
      "2024-03-01 14:02:25,412 - INFO - [step:       8000] record validators time:  1.281e+01s\n",
      "2024-03-01 14:02:25,457 - INFO - [step:       8000] saved checkpoint to /workspace/20_2D_Helmholtz/outputs\n",
      "2024-03-01 14:02:25,459 - INFO - [step:       8000] loss:  1.894e-01, time/iteration:  2.008e+02 ms\n",
      "2024-03-01 14:02:32,445 - INFO - [step:       8100] loss:  8.251e-02, time/iteration:  6.986e+01 ms\n",
      "2024-03-01 14:02:38,826 - INFO - [step:       8200] loss:  9.453e-02, time/iteration:  6.378e+01 ms\n",
      "2024-03-01 14:02:45,304 - INFO - [step:       8300] loss:  1.802e-01, time/iteration:  6.477e+01 ms\n",
      "2024-03-01 14:02:51,402 - INFO - [step:       8400] loss:  1.860e-01, time/iteration:  6.096e+01 ms\n",
      "2024-03-01 14:02:58,410 - INFO - [step:       8500] loss:  7.747e-02, time/iteration:  7.005e+01 ms\n",
      "2024-03-01 14:03:04,845 - INFO - [step:       8600] loss:  1.267e-01, time/iteration:  6.433e+01 ms\n",
      "2024-03-01 14:03:11,392 - INFO - [step:       8700] loss:  7.188e-02, time/iteration:  6.544e+01 ms\n",
      "2024-03-01 14:03:17,891 - INFO - [step:       8800] loss:  6.672e-02, time/iteration:  6.498e+01 ms\n",
      "2024-03-01 14:03:24,085 - INFO - [step:       8900] loss:  2.730e-01, time/iteration:  6.192e+01 ms\n",
      "2024-03-01 14:03:44,475 - INFO - [step:       9000] record validators time:  1.309e+01s\n",
      "2024-03-01 14:03:44,518 - INFO - [step:       9000] saved checkpoint to /workspace/20_2D_Helmholtz/outputs\n",
      "2024-03-01 14:03:44,519 - INFO - [step:       9000] loss:  6.964e-02, time/iteration:  2.043e+02 ms\n",
      "2024-03-01 14:03:51,163 - INFO - [step:       9100] loss:  1.721e-01, time/iteration:  6.642e+01 ms\n",
      "2024-03-01 14:03:58,239 - INFO - [step:       9200] loss:  5.631e-02, time/iteration:  7.075e+01 ms\n",
      "2024-03-01 14:04:04,499 - INFO - [step:       9300] loss:  8.766e-02, time/iteration:  6.258e+01 ms\n",
      "2024-03-01 14:04:10,920 - INFO - [step:       9400] loss:  1.185e-01, time/iteration:  6.418e+01 ms\n",
      "2024-03-01 14:04:17,752 - INFO - [step:       9500] loss:  7.774e-02, time/iteration:  6.830e+01 ms\n",
      "2024-03-01 14:04:24,405 - INFO - [step:       9600] loss:  7.727e-02, time/iteration:  6.651e+01 ms\n",
      "2024-03-01 14:04:30,939 - INFO - [step:       9700] loss:  6.856e-02, time/iteration:  6.532e+01 ms\n",
      "2024-03-01 14:04:37,697 - INFO - [step:       9800] loss:  1.187e-01, time/iteration:  6.756e+01 ms\n",
      "2024-03-01 14:04:44,011 - INFO - [step:       9900] loss:  7.454e-02, time/iteration:  6.313e+01 ms\n",
      "2024-03-01 14:04:50,853 - INFO - [step:      10000] record constraint batch time:  1.208e-01s\n",
      "2024-03-01 14:05:03,658 - INFO - [step:      10000] record validators time:  1.280e+01s\n",
      "2024-03-01 14:05:03,735 - INFO - [step:      10000] saved checkpoint to /workspace/20_2D_Helmholtz/outputs\n",
      "2024-03-01 14:05:03,738 - INFO - [step:      10000] loss:  7.086e-02, time/iteration:  1.972e+02 ms\n",
      "2024-03-01 14:05:10,271 - INFO - [step:      10100] loss:  6.520e-02, time/iteration:  6.532e+01 ms\n",
      "2024-03-01 14:05:16,450 - INFO - [step:      10200] loss:  1.159e-01, time/iteration:  6.177e+01 ms\n",
      "2024-03-01 14:05:23,040 - INFO - [step:      10300] loss:  6.915e-02, time/iteration:  6.589e+01 ms\n",
      "2024-03-01 14:05:29,503 - INFO - [step:      10400] loss:  1.706e-01, time/iteration:  6.461e+01 ms\n",
      "2024-03-01 14:05:36,305 - INFO - [step:      10500] loss:  4.024e-02, time/iteration:  6.800e+01 ms\n",
      "2024-03-01 14:05:42,762 - INFO - [step:      10600] loss:  6.531e-02, time/iteration:  6.456e+01 ms\n",
      "2024-03-01 14:05:49,426 - INFO - [step:      10700] loss:  6.207e-02, time/iteration:  6.662e+01 ms\n",
      "2024-03-01 14:05:55,910 - INFO - [step:      10800] loss:  4.730e-02, time/iteration:  6.482e+01 ms\n",
      "2024-03-01 14:06:02,541 - INFO - [step:      10900] loss:  8.184e-02, time/iteration:  6.630e+01 ms\n",
      "2024-03-01 14:06:21,990 - INFO - [step:      11000] record validators time:  1.264e+01s\n",
      "2024-03-01 14:06:22,049 - INFO - [step:      11000] saved checkpoint to /workspace/20_2D_Helmholtz/outputs\n",
      "2024-03-01 14:06:22,050 - INFO - [step:      11000] loss:  4.425e-02, time/iteration:  1.951e+02 ms\n",
      "2024-03-01 14:06:28,732 - INFO - [step:      11100] loss:  4.266e-02, time/iteration:  6.681e+01 ms\n",
      "2024-03-01 14:06:35,191 - INFO - [step:      11200] loss:  6.939e-02, time/iteration:  6.458e+01 ms\n",
      "2024-03-01 14:06:41,177 - INFO - [step:      11300] loss:  3.803e-02, time/iteration:  5.977e+01 ms\n",
      "2024-03-01 14:06:47,143 - INFO - [step:      11400] loss:  5.848e-02, time/iteration:  5.964e+01 ms\n",
      "2024-03-01 14:06:53,346 - INFO - [step:      11500] loss:  4.262e-02, time/iteration:  6.202e+01 ms\n",
      "2024-03-01 14:06:59,810 - INFO - [step:      11600] loss:  5.573e-02, time/iteration:  6.462e+01 ms\n",
      "2024-03-01 14:07:05,992 - INFO - [step:      11700] loss:  4.727e-02, time/iteration:  6.179e+01 ms\n",
      "2024-03-01 14:07:12,354 - INFO - [step:      11800] loss:  5.665e-02, time/iteration:  6.360e+01 ms\n",
      "2024-03-01 14:07:18,771 - INFO - [step:      11900] loss:  4.121e-02, time/iteration:  6.415e+01 ms\n",
      "2024-03-01 14:07:26,129 - INFO - [step:      12000] record constraint batch time:  1.094e-01s\n",
      "2024-03-01 14:07:38,409 - INFO - [step:      12000] record validators time:  1.228e+01s\n",
      "2024-03-01 14:07:38,500 - INFO - [step:      12000] saved checkpoint to /workspace/20_2D_Helmholtz/outputs\n",
      "2024-03-01 14:07:38,502 - INFO - [step:      12000] loss:  5.482e-02, time/iteration:  1.973e+02 ms\n",
      "2024-03-01 14:07:45,403 - INFO - [step:      12100] loss:  4.148e-02, time/iteration:  6.899e+01 ms\n",
      "2024-03-01 14:07:52,149 - INFO - [step:      12200] loss:  7.000e-02, time/iteration:  6.744e+01 ms\n",
      "2024-03-01 14:07:58,575 - INFO - [step:      12300] loss:  4.676e-02, time/iteration:  6.423e+01 ms\n",
      "2024-03-01 14:08:05,152 - INFO - [step:      12400] loss:  5.343e-02, time/iteration:  6.576e+01 ms\n",
      "2024-03-01 14:08:11,393 - INFO - [step:      12500] loss:  7.196e-02, time/iteration:  6.239e+01 ms\n",
      "2024-03-01 14:08:17,996 - INFO - [step:      12600] loss:  4.929e-02, time/iteration:  6.601e+01 ms\n",
      "2024-03-01 14:08:24,442 - INFO - [step:      12700] loss:  4.043e-02, time/iteration:  6.441e+01 ms\n"
     ]
    },
    {
     "name": "stderr",
     "output_type": "stream",
     "text": [
      "2024-03-01 14:08:31,061 - INFO - [step:      12800] loss:  3.512e-02, time/iteration:  6.618e+01 ms\n",
      "2024-03-01 14:08:37,682 - INFO - [step:      12900] loss:  3.693e-02, time/iteration:  6.619e+01 ms\n",
      "2024-03-01 14:08:58,081 - INFO - [step:      13000] record validators time:  1.335e+01s\n",
      "2024-03-01 14:08:58,145 - INFO - [step:      13000] saved checkpoint to /workspace/20_2D_Helmholtz/outputs\n",
      "2024-03-01 14:08:58,157 - INFO - [step:      13000] loss:  4.226e-02, time/iteration:  2.047e+02 ms\n",
      "2024-03-01 14:09:04,386 - INFO - [step:      13100] loss:  6.506e-02, time/iteration:  6.228e+01 ms\n",
      "2024-03-01 14:09:10,450 - INFO - [step:      13200] loss:  3.520e-02, time/iteration:  6.062e+01 ms\n",
      "2024-03-01 14:09:16,647 - INFO - [step:      13300] loss:  4.581e-02, time/iteration:  6.192e+01 ms\n",
      "2024-03-01 14:09:23,240 - INFO - [step:      13400] loss:  3.312e-02, time/iteration:  6.591e+01 ms\n",
      "2024-03-01 14:09:29,697 - INFO - [step:      13500] loss:  3.238e-02, time/iteration:  6.454e+01 ms\n",
      "2024-03-01 14:09:36,245 - INFO - [step:      13600] loss:  3.217e-02, time/iteration:  6.546e+01 ms\n",
      "2024-03-01 14:09:42,538 - INFO - [step:      13700] loss:  3.643e-02, time/iteration:  6.289e+01 ms\n",
      "2024-03-01 14:09:49,152 - INFO - [step:      13800] loss:  3.407e-02, time/iteration:  6.607e+01 ms\n",
      "2024-03-01 14:09:55,774 - INFO - [step:      13900] loss:  3.769e-02, time/iteration:  6.619e+01 ms\n",
      "2024-03-01 14:10:03,275 - INFO - [step:      14000] record constraint batch time:  2.269e-01s\n",
      "2024-03-01 14:10:18,809 - INFO - [step:      14000] record validators time:  1.553e+01s\n",
      "2024-03-01 14:10:18,861 - INFO - [step:      14000] saved checkpoint to /workspace/20_2D_Helmholtz/outputs\n",
      "2024-03-01 14:10:18,863 - INFO - [step:      14000] loss:  3.642e-02, time/iteration:  2.309e+02 ms\n",
      "2024-03-01 14:10:25,770 - INFO - [step:      14100] loss:  3.300e-02, time/iteration:  6.906e+01 ms\n",
      "2024-03-01 14:10:32,400 - INFO - [step:      14200] loss:  4.120e-02, time/iteration:  6.622e+01 ms\n",
      "2024-03-01 14:10:38,591 - INFO - [step:      14300] loss:  3.861e-02, time/iteration:  6.187e+01 ms\n",
      "2024-03-01 14:10:45,323 - INFO - [step:      14400] loss:  4.835e-02, time/iteration:  6.731e+01 ms\n",
      "2024-03-01 14:10:52,236 - INFO - [step:      14500] loss:  4.316e-02, time/iteration:  6.911e+01 ms\n",
      "2024-03-01 14:10:58,475 - INFO - [step:      14600] loss:  3.543e-02, time/iteration:  6.238e+01 ms\n",
      "2024-03-01 14:11:05,068 - INFO - [step:      14700] loss:  3.887e-02, time/iteration:  6.589e+01 ms\n",
      "2024-03-01 14:11:11,672 - INFO - [step:      14800] loss:  3.712e-02, time/iteration:  6.602e+01 ms\n",
      "2024-03-01 14:11:18,113 - INFO - [step:      14900] loss:  2.839e-02, time/iteration:  6.440e+01 ms\n",
      "2024-03-01 14:11:39,763 - INFO - [step:      15000] record validators time:  1.448e+01s\n",
      "2024-03-01 14:11:39,842 - INFO - [step:      15000] saved checkpoint to /workspace/20_2D_Helmholtz/outputs\n",
      "2024-03-01 14:11:39,843 - INFO - [step:      15000] loss:  3.375e-02, time/iteration:  2.172e+02 ms\n",
      "2024-03-01 14:11:46,599 - INFO - [step:      15100] loss:  3.232e-02, time/iteration:  6.755e+01 ms\n",
      "2024-03-01 14:11:53,112 - INFO - [step:      15200] loss:  3.480e-02, time/iteration:  6.512e+01 ms\n",
      "2024-03-01 14:11:59,381 - INFO - [step:      15300] loss:  3.751e-02, time/iteration:  6.266e+01 ms\n",
      "2024-03-01 14:12:05,866 - INFO - [step:      15400] loss:  3.300e-02, time/iteration:  6.484e+01 ms\n",
      "2024-03-01 14:12:12,613 - INFO - [step:      15500] loss:  3.086e-02, time/iteration:  6.746e+01 ms\n",
      "2024-03-01 14:12:19,219 - INFO - [step:      15600] loss:  2.959e-02, time/iteration:  6.602e+01 ms\n",
      "2024-03-01 14:12:25,573 - INFO - [step:      15700] loss:  2.975e-02, time/iteration:  6.352e+01 ms\n",
      "2024-03-01 14:12:31,974 - INFO - [step:      15800] loss:  3.763e-02, time/iteration:  6.399e+01 ms\n",
      "2024-03-01 14:12:38,312 - INFO - [step:      15900] loss:  2.965e-02, time/iteration:  6.336e+01 ms\n",
      "2024-03-01 14:12:45,173 - INFO - [step:      16000] record constraint batch time:  1.274e-01s\n",
      "2024-03-01 14:12:58,500 - INFO - [step:      16000] record validators time:  1.332e+01s\n",
      "2024-03-01 14:12:58,581 - INFO - [step:      16000] saved checkpoint to /workspace/20_2D_Helmholtz/outputs\n",
      "2024-03-01 14:12:58,582 - INFO - [step:      16000] loss:  2.894e-02, time/iteration:  2.027e+02 ms\n",
      "2024-03-01 14:13:05,467 - INFO - [step:      16100] loss:  2.812e-02, time/iteration:  6.883e+01 ms\n",
      "2024-03-01 14:13:11,795 - INFO - [step:      16200] loss:  2.600e-02, time/iteration:  6.327e+01 ms\n",
      "2024-03-01 14:13:18,913 - INFO - [step:      16300] loss:  3.090e-02, time/iteration:  7.117e+01 ms\n",
      "2024-03-01 14:13:29,187 - INFO - [step:      16400] loss:  2.494e-02, time/iteration:  1.027e+02 ms\n",
      "2024-03-01 14:13:40,584 - INFO - [step:      16500] loss:  3.691e-02, time/iteration:  1.140e+02 ms\n",
      "2024-03-01 14:13:50,804 - INFO - [step:      16600] loss:  3.050e-02, time/iteration:  1.021e+02 ms\n",
      "2024-03-01 14:14:00,997 - INFO - [step:      16700] loss:  2.862e-02, time/iteration:  1.019e+02 ms\n",
      "2024-03-01 14:14:11,706 - INFO - [step:      16800] loss:  3.477e-02, time/iteration:  1.071e+02 ms\n",
      "2024-03-01 14:14:22,428 - INFO - [step:      16900] loss:  2.742e-02, time/iteration:  1.072e+02 ms\n",
      "2024-03-01 14:14:46,212 - INFO - [step:      17000] record validators time:  1.337e+01s\n",
      "2024-03-01 14:14:46,256 - INFO - [step:      17000] saved checkpoint to /workspace/20_2D_Helmholtz/outputs\n",
      "2024-03-01 14:14:46,257 - INFO - [step:      17000] loss:  2.898e-02, time/iteration:  2.383e+02 ms\n",
      "2024-03-01 14:14:58,222 - INFO - [step:      17100] loss:  3.044e-02, time/iteration:  1.196e+02 ms\n",
      "2024-03-01 14:15:09,127 - INFO - [step:      17200] loss:  2.813e-02, time/iteration:  1.090e+02 ms\n",
      "2024-03-01 14:15:18,922 - INFO - [step:      17300] loss:  3.589e-02, time/iteration:  9.786e+01 ms\n",
      "2024-03-01 14:15:25,541 - INFO - [step:      17400] loss:  2.794e-02, time/iteration:  6.617e+01 ms\n",
      "2024-03-01 14:15:32,900 - INFO - [step:      17500] loss:  2.846e-02, time/iteration:  7.358e+01 ms\n",
      "2024-03-01 14:15:43,188 - INFO - [step:      17600] loss:  2.566e-02, time/iteration:  1.029e+02 ms\n",
      "2024-03-01 14:15:53,843 - INFO - [step:      17700] loss:  2.936e-02, time/iteration:  1.065e+02 ms\n",
      "2024-03-01 14:16:04,078 - INFO - [step:      17800] loss:  3.597e-02, time/iteration:  1.023e+02 ms\n",
      "2024-03-01 14:16:13,915 - INFO - [step:      17900] loss:  2.796e-02, time/iteration:  9.836e+01 ms\n",
      "2024-03-01 14:16:24,707 - INFO - [step:      18000] record constraint batch time:  2.047e-01s\n",
      "2024-03-01 14:16:37,957 - INFO - [step:      18000] record validators time:  1.324e+01s\n",
      "2024-03-01 14:16:38,003 - INFO - [step:      18000] saved checkpoint to /workspace/20_2D_Helmholtz/outputs\n",
      "2024-03-01 14:16:38,004 - INFO - [step:      18000] loss:  2.746e-02, time/iteration:  2.409e+02 ms\n",
      "2024-03-01 14:16:47,677 - INFO - [step:      18100] loss:  2.705e-02, time/iteration:  9.672e+01 ms\n",
      "2024-03-01 14:16:57,073 - INFO - [step:      18200] loss:  2.688e-02, time/iteration:  9.395e+01 ms\n",
      "2024-03-01 14:17:06,342 - INFO - [step:      18300] loss:  2.592e-02, time/iteration:  9.267e+01 ms\n",
      "2024-03-01 14:17:17,085 - INFO - [step:      18400] loss:  2.541e-02, time/iteration:  1.074e+02 ms\n",
      "2024-03-01 14:17:26,371 - INFO - [step:      18500] loss:  2.308e-02, time/iteration:  9.284e+01 ms\n",
      "2024-03-01 14:17:32,879 - INFO - [step:      18600] loss:  2.500e-02, time/iteration:  6.498e+01 ms\n",
      "2024-03-01 14:17:39,303 - INFO - [step:      18700] loss:  2.607e-02, time/iteration:  6.423e+01 ms\n",
      "2024-03-01 14:17:48,505 - INFO - [step:      18800] loss:  2.582e-02, time/iteration:  9.200e+01 ms\n",
      "2024-03-01 14:17:58,564 - INFO - [step:      18900] loss:  2.479e-02, time/iteration:  1.006e+02 ms\n",
      "2024-03-01 14:18:22,626 - INFO - [step:      19000] record validators time:  1.312e+01s\n",
      "2024-03-01 14:18:22,679 - INFO - [step:      19000] saved checkpoint to /workspace/20_2D_Helmholtz/outputs\n",
      "2024-03-01 14:18:22,681 - INFO - [step:      19000] loss:  2.630e-02, time/iteration:  2.411e+02 ms\n",
      "2024-03-01 14:18:32,300 - INFO - [step:      19100] loss:  2.895e-02, time/iteration:  9.617e+01 ms\n",
      "2024-03-01 14:18:41,752 - INFO - [step:      19200] loss:  2.665e-02, time/iteration:  9.450e+01 ms\n",
      "2024-03-01 14:18:50,954 - INFO - [step:      19300] loss:  2.494e-02, time/iteration:  9.192e+01 ms\n"
     ]
    },
    {
     "name": "stderr",
     "output_type": "stream",
     "text": [
      "2024-03-01 14:19:01,335 - INFO - [step:      19400] loss:  2.754e-02, time/iteration:  1.038e+02 ms\n",
      "2024-03-01 14:19:13,025 - INFO - [step:      19500] loss:  2.581e-02, time/iteration:  1.169e+02 ms\n",
      "2024-03-01 14:19:24,197 - INFO - [step:      19600] loss:  2.454e-02, time/iteration:  1.117e+02 ms\n",
      "2024-03-01 14:19:33,930 - INFO - [step:      19700] loss:  2.506e-02, time/iteration:  9.732e+01 ms\n",
      "2024-03-01 14:19:41,195 - INFO - [step:      19800] loss:  2.494e-02, time/iteration:  7.258e+01 ms\n",
      "2024-03-01 14:19:47,156 - INFO - [step:      19900] loss:  2.392e-02, time/iteration:  5.959e+01 ms\n",
      "2024-03-01 14:19:54,871 - INFO - [step:      20000] record constraint batch time:  1.694e-01s\n",
      "2024-03-01 14:20:08,721 - INFO - [step:      20000] record validators time:  1.385e+01s\n",
      "2024-03-01 14:20:08,791 - INFO - [step:      20000] saved checkpoint to /workspace/20_2D_Helmholtz/outputs\n",
      "2024-03-01 14:20:08,793 - INFO - [step:      20000] loss:  2.929e-02, time/iteration:  2.164e+02 ms\n",
      "2024-03-01 14:20:08,794 - INFO - [step:      20000] reached maximum training steps, finished training!\n"
     ]
    }
   ],
   "source": [
    "slv.solve()"
   ]
  },
  {
   "cell_type": "markdown",
   "id": "556674b9",
   "metadata": {},
   "source": [
    "### 后处理以及可视化\n",
    "\n",
    "对于jupyter，比较方便的方法是使用matplotlib\n",
    "\n",
    "此外，还可以使用tensorboard以及Paraview\n",
    "\n",
    "![u](./outputs/validators/validator_u.png)"
   ]
  }
 ],
 "metadata": {
  "kernelspec": {
   "display_name": "Python 3 (ipykernel)",
   "language": "python",
   "name": "python3"
  },
  "language_info": {
   "codemirror_mode": {
    "name": "ipython",
    "version": 3
   },
   "file_extension": ".py",
   "mimetype": "text/x-python",
   "name": "python",
   "nbconvert_exporter": "python",
   "pygments_lexer": "ipython3",
   "version": "3.10.12"
  }
 },
 "nbformat": 4,
 "nbformat_minor": 5
}
