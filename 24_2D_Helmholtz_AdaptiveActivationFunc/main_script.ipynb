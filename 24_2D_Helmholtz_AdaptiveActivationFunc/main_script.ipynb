{
 "cells": [
  {
   "cell_type": "markdown",
   "id": "d787cdb7",
   "metadata": {},
   "source": [
    "## 问题定义\n",
    "\n",
    "本问题为求解2D Helmholtz方程。其形式可以参考案例18中的PDE定义。\n",
    "\n",
    "\n",
    "### 求解目标\n",
    "\n",
    "要求求解给定区域内的Helmholtz方程\n",
    "\n",
    "## Adaptive Activation Function\n",
    "\n",
    "在一般激活函数的基础上加入了可学习参数从而能够调整激活函数的slope。\n"
   ]
  },
  {
   "cell_type": "markdown",
   "id": "77b4e6a5",
   "metadata": {},
   "source": [
    "## 求解"
   ]
  },
  {
   "cell_type": "code",
   "execution_count": 1,
   "id": "b1f223f4",
   "metadata": {},
   "outputs": [],
   "source": [
    "import os\n",
    "import warnings\n",
    "\n",
    "# optional\n",
    "# set appropriate GPU in case of multi-GPU machine\n",
    "os.environ[\"CUDA_DEVICE_ORDER\"]=\"PCI_BUS_ID\"\n",
    "os.environ[\"CUDA_VISIBLE_DEVICES\"]=\"0\""
   ]
  },
  {
   "cell_type": "code",
   "execution_count": 2,
   "id": "12011ac4",
   "metadata": {},
   "outputs": [],
   "source": [
    "from modulus.sym.hydra import to_yaml\n",
    "from modulus.sym.hydra.utils import compose\n",
    "from modulus.sym.utils.io.plotter import ValidatorPlotter, InferencerPlotter"
   ]
  },
  {
   "cell_type": "code",
   "execution_count": 3,
   "id": "dd0cf1b9",
   "metadata": {},
   "outputs": [],
   "source": [
    "from sympy import Symbol, pi, sin\n",
    "\n",
    "import modulus.sym\n",
    "from modulus.sym.hydra import to_absolute_path, instantiate_arch, ModulusConfig\n",
    "from modulus.sym.utils.io import csv_to_dict\n",
    "from modulus.sym.solver import Solver\n",
    "from modulus.sym.domain import Domain\n",
    "from modulus.sym.geometry.primitives_2d import Rectangle\n",
    "from modulus.sym.domain.constraint import (\n",
    "    PointwiseBoundaryConstraint,\n",
    "    PointwiseInteriorConstraint,\n",
    ")\n",
    "from modulus.sym.domain.validator import PointwiseValidator\n",
    "from modulus.sym.domain.inferencer import PointwiseInferencer\n",
    "from modulus.sym.key import Key\n",
    "from modulus.sym.node import Node\n",
    "from modulus.sym.eq.pdes.wave_equation import HelmholtzEquation"
   ]
  },
  {
   "cell_type": "code",
   "execution_count": 4,
   "id": "613f5d80",
   "metadata": {
    "scrolled": true
   },
   "outputs": [
    {
     "name": "stderr",
     "output_type": "stream",
     "text": [
      "/usr/local/lib/python3.10/dist-packages/modulus/sym/hydra/utils.py:148: UserWarning: \n",
      "The version_base parameter is not specified.\n",
      "Please specify a compatability version level, or None.\n",
      "Will assume defaults for version 1.1\n",
      "  hydra.initialize(\n"
     ]
    },
    {
     "name": "stdout",
     "output_type": "stream",
     "text": [
      "training:\n",
      "  max_steps: 20000\n",
      "  grad_agg_freq: 1\n",
      "  rec_results_freq: 1000\n",
      "  rec_validation_freq: ${training.rec_results_freq}\n",
      "  rec_inference_freq: ${training.rec_results_freq}\n",
      "  rec_monitor_freq: ${training.rec_results_freq}\n",
      "  rec_constraint_freq: 2000\n",
      "  save_network_freq: 1000\n",
      "  print_stats_freq: 100\n",
      "  summary_freq: 1000\n",
      "  amp: false\n",
      "  amp_dtype: float16\n",
      "  ntk:\n",
      "    use_ntk: false\n",
      "    save_name: null\n",
      "    run_freq: 1000\n",
      "graph:\n",
      "  func_arch: false\n",
      "  func_arch_allow_partial_hessian: true\n",
      "stop_criterion:\n",
      "  metric: null\n",
      "  min_delta: null\n",
      "  patience: 50000\n",
      "  mode: min\n",
      "  freq: 1000\n",
      "  strict: false\n",
      "profiler:\n",
      "  profile: false\n",
      "  start_step: 0\n",
      "  end_step: 100\n",
      "  name: nvtx\n",
      "network_dir: outputs\n",
      "initialization_network_dir: ''\n",
      "save_filetypes: vtk,npz\n",
      "summary_histograms: false\n",
      "jit: true\n",
      "jit_use_nvfuser: true\n",
      "jit_arch_mode: only_activation\n",
      "jit_autograd_nodes: false\n",
      "cuda_graphs: true\n",
      "cuda_graph_warmup: 20\n",
      "find_unused_parameters: false\n",
      "broadcast_buffers: false\n",
      "device: ''\n",
      "debug: false\n",
      "run_mode: train\n",
      "arch:\n",
      "  fully_connected:\n",
      "    arch_type: fully_connected\n",
      "    input_keys: ???\n",
      "    output_keys: ???\n",
      "    detach_keys: ???\n",
      "    scaling: null\n",
      "    layer_size: 512\n",
      "    nr_layers: 6\n",
      "    skip_connections: false\n",
      "    activation_fn: silu\n",
      "    adaptive_activations: true\n",
      "    weight_norm: true\n",
      "models: ???\n",
      "loss:\n",
      "  _target_: modulus.sym.loss.aggregator.Sum\n",
      "  weights: null\n",
      "optimizer:\n",
      "  _params_:\n",
      "    compute_gradients: adam_compute_gradients\n",
      "    apply_gradients: adam_apply_gradients\n",
      "  _target_: torch.optim.Adam\n",
      "  lr: 0.001\n",
      "  betas:\n",
      "  - 0.9\n",
      "  - 0.999\n",
      "  eps: 1.0e-08\n",
      "  weight_decay: 0.0\n",
      "  amsgrad: false\n",
      "scheduler:\n",
      "  _target_: custom\n",
      "  _name_: tf.ExponentialLR\n",
      "  decay_rate: 0.95\n",
      "  decay_steps: 200\n",
      "batch_size:\n",
      "  wall: 800\n",
      "  interior: 4000\n",
      "custom: ???\n",
      "\n"
     ]
    }
   ],
   "source": [
    "cfg = compose(config_path=\"conf\", config_name=\"config\")\n",
    "cfg.network_dir = 'outputs'    # Set the network directory for checkpoints\n",
    "print(to_yaml(cfg))"
   ]
  },
  {
   "cell_type": "markdown",
   "id": "14d70fc0",
   "metadata": {},
   "source": [
    "### 定义必要组件"
   ]
  },
  {
   "cell_type": "markdown",
   "id": "76b3f58b",
   "metadata": {},
   "source": [
    "#### Geo"
   ]
  },
  {
   "cell_type": "code",
   "execution_count": 5,
   "id": "c001b667",
   "metadata": {},
   "outputs": [],
   "source": [
    "x, y = Symbol(\"x\"), Symbol(\"y\")\n",
    "height = 2\n",
    "width = 2\n",
    "rec = Rectangle((-width / 2, -height / 2), (width / 2, height / 2))"
   ]
  },
  {
   "cell_type": "markdown",
   "id": "e575f4c2",
   "metadata": {},
   "source": [
    "#### PDE"
   ]
  },
  {
   "cell_type": "code",
   "execution_count": 6,
   "id": "e3ab702f",
   "metadata": {},
   "outputs": [],
   "source": [
    "wave = HelmholtzEquation(u=\"u\", k=1.0, dim=2)  # 亥姆霍兹方程"
   ]
  },
  {
   "cell_type": "markdown",
   "id": "2ee27a28",
   "metadata": {},
   "source": [
    "#### Model"
   ]
  },
  {
   "cell_type": "code",
   "execution_count": 7,
   "id": "5a3af9d3",
   "metadata": {},
   "outputs": [],
   "source": [
    "# 定义简单的全连接网络\n",
    "# 输入为空间坐标和\n",
    "# 输出为E_z(x, y)\n",
    "wave_net = instantiate_arch(\n",
    "    input_keys=[Key(\"x\"), Key(\"y\")],\n",
    "    output_keys=[Key(\"u\")],\n",
    "    cfg=cfg.arch.fully_connected,\n",
    ")"
   ]
  },
  {
   "cell_type": "markdown",
   "id": "41bab61b",
   "metadata": {},
   "source": [
    "#### Node"
   ]
  },
  {
   "cell_type": "code",
   "execution_count": 8,
   "id": "a4593125",
   "metadata": {},
   "outputs": [],
   "source": [
    "nodes = wave.make_nodes() + [wave_net.make_node(name=\"wave_network\")]"
   ]
  },
  {
   "cell_type": "markdown",
   "id": "f52efd6c",
   "metadata": {},
   "source": [
    "#### Domain"
   ]
  },
  {
   "cell_type": "code",
   "execution_count": 9,
   "id": "2c7f0404",
   "metadata": {},
   "outputs": [],
   "source": [
    "domain = Domain()"
   ]
  },
  {
   "cell_type": "markdown",
   "id": "5d3e7143",
   "metadata": {},
   "source": [
    "#### ABC边界"
   ]
  },
  {
   "cell_type": "code",
   "execution_count": 10,
   "id": "c5f565d4",
   "metadata": {},
   "outputs": [],
   "source": [
    "wall = PointwiseBoundaryConstraint(\n",
    "    nodes=nodes,\n",
    "    geometry=rec,\n",
    "    outvar={\"u\": 0},\n",
    "    batch_size=cfg.batch_size.wall,\n",
    ")\n",
    "domain.add_constraint(wall, \"wall\")"
   ]
  },
  {
   "cell_type": "markdown",
   "id": "9388e9e1",
   "metadata": {},
   "source": [
    "#### PDE约束"
   ]
  },
  {
   "cell_type": "code",
   "execution_count": 11,
   "id": "6a15c4e7",
   "metadata": {},
   "outputs": [],
   "source": [
    "interior = PointwiseInteriorConstraint(\n",
    "    nodes=nodes,\n",
    "    geometry=rec,\n",
    "    outvar={\n",
    "        \"helmholtz\": -(\n",
    "            -((pi) ** 2) * sin(pi * x) * sin(4 * pi * y)\n",
    "            - ((4 * pi) ** 2) * sin(pi * x) * sin(4 * pi * y)\n",
    "            + 1 * sin(pi * x) * sin(4 * pi * y)\n",
    "        )\n",
    "    },  # 非齐次形式\n",
    "    batch_size=cfg.batch_size.interior,\n",
    "    bounds={x: (-width / 2, width / 2), y: (-height / 2, height / 2)},\n",
    "    lambda_weighting={\n",
    "        \"helmholtz\": Symbol(\"sdf\"),\n",
    "    },\n",
    ")\n",
    "domain.add_constraint(interior, \"interior\")"
   ]
  },
  {
   "cell_type": "markdown",
   "id": "33c0e57c",
   "metadata": {},
   "source": [
    "#### 验证器以及其他必要组件"
   ]
  },
  {
   "cell_type": "code",
   "execution_count": 12,
   "id": "2a81d5dd",
   "metadata": {},
   "outputs": [],
   "source": [
    "file_path = \"openfoam/helmholtz.csv\"\n",
    "if os.path.exists(to_absolute_path(file_path)):\n",
    "    mapping = {\"x\": \"x\", \"y\": \"y\", \"z\": \"u\"}\n",
    "    openfoam_var = csv_to_dict(to_absolute_path(file_path), mapping)\n",
    "    openfoam_invar_numpy = {\n",
    "        key: value for key, value in openfoam_var.items() if key in [\"x\", \"y\"]\n",
    "    }\n",
    "    openfoam_outvar_numpy = {\n",
    "        key: value for key, value in openfoam_var.items() if key in [\"u\"]\n",
    "    }\n",
    "\n",
    "    openfoam_validator = PointwiseValidator(\n",
    "        nodes=nodes,\n",
    "        invar=openfoam_invar_numpy,\n",
    "        true_outvar=openfoam_outvar_numpy,\n",
    "        batch_size=1024,\n",
    "        plotter=ValidatorPlotter(),\n",
    "    )\n",
    "    domain.add_validator(openfoam_validator)\n",
    "else:\n",
    "    warnings.warn(\n",
    "        f\"Directory {file_path} does not exist. Will skip adding validators. Please download the additional files from NGC https://catalog.ngc.nvidia.com/orgs/nvidia/teams/modulus/resources/modulus_sym_examples_supplemental_materials\"\n",
    "    )"
   ]
  },
  {
   "cell_type": "markdown",
   "id": "473c37fb",
   "metadata": {},
   "source": [
    "### 求解器以及求解"
   ]
  },
  {
   "cell_type": "code",
   "execution_count": 13,
   "id": "97b90486",
   "metadata": {},
   "outputs": [],
   "source": [
    "# 定义求解器\n",
    "slv = Solver(cfg, domain)"
   ]
  },
  {
   "cell_type": "markdown",
   "id": "ef9af551",
   "metadata": {},
   "source": [
    "手动加载日志系统"
   ]
  },
  {
   "cell_type": "code",
   "execution_count": 14,
   "id": "39932aa9",
   "metadata": {},
   "outputs": [],
   "source": [
    "import logging\n",
    "# logging.getLogger().addHandler(logging.StreamHandler())\n",
    "logger = logging.getLogger()\n",
    "logger.setLevel(logging.INFO)\n",
    "\n",
    "# create console handler and set level to debug\n",
    "ch = logging.StreamHandler()\n",
    "ch.setLevel(logging.INFO)\n",
    "\n",
    "# create formatter\n",
    "formatter = logging.Formatter('%(asctime)s - %(levelname)s - %(message)s')\n",
    "\n",
    "# add formatter to ch\n",
    "ch.setFormatter(formatter)\n",
    "\n",
    "# add ch to logger\n",
    "logger.addHandler(ch)"
   ]
  },
  {
   "cell_type": "markdown",
   "id": "bd8adfbd",
   "metadata": {},
   "source": [
    "启动求解"
   ]
  },
  {
   "cell_type": "code",
   "execution_count": 15,
   "id": "c9b2fdb2",
   "metadata": {
    "scrolled": true
   },
   "outputs": [
    {
     "name": "stderr",
     "output_type": "stream",
     "text": [
      "2024-03-03 09:31:58,104 - WARNING - Installed PyTorch version 2.2.0a0+81ea7a4 is not TorchScript supported in Modulus. Version 2.1.0a0+4136153 is officially supported.\n",
      "2024-03-03 09:31:58,114 - INFO - attempting to restore from: /workspace/24_2D_Helmholtz_AdaptiveActivationFunc/outputs\n",
      "2024-03-03 09:31:58,115 - WARNING - optimizer checkpoint not found\n",
      "2024-03-03 09:31:58,116 - WARNING - model wave_network.0.pth not found\n",
      "2024-03-03 09:31:59,416 - INFO - [step:          0] record constraint batch time:  6.533e-02s\n",
      "2024-03-03 09:32:11,590 - INFO - [step:          0] record validators time:  1.217e+01s\n",
      "2024-03-03 09:32:11,686 - INFO - [step:          0] saved checkpoint to /workspace/24_2D_Helmholtz_AdaptiveActivationFunc/outputs\n",
      "2024-03-03 09:32:11,689 - INFO - [step:          0] loss:  9.836e+03\n",
      "2024-03-03 09:32:13,178 - INFO - Attempting cuda graph building, this may take a bit...\n",
      "2024-03-03 09:32:25,660 - INFO - [step:        100] loss:  4.192e+03, time/iteration:  1.397e+02 ms\n",
      "2024-03-03 09:32:28,148 - INFO - [step:        200] loss:  1.997e+01, time/iteration:  2.486e+01 ms\n",
      "2024-03-03 09:32:30,637 - INFO - [step:        300] loss:  1.785e+01, time/iteration:  2.488e+01 ms\n",
      "2024-03-03 09:32:33,185 - INFO - [step:        400] loss:  4.438e+00, time/iteration:  2.546e+01 ms\n",
      "2024-03-03 09:32:35,743 - INFO - [step:        500] loss:  3.170e+00, time/iteration:  2.557e+01 ms\n",
      "2024-03-03 09:32:38,300 - INFO - [step:        600] loss:  2.676e+00, time/iteration:  2.555e+01 ms\n",
      "2024-03-03 09:32:40,859 - INFO - [step:        700] loss:  2.620e+01, time/iteration:  2.558e+01 ms\n",
      "2024-03-03 09:32:43,334 - INFO - [step:        800] loss:  1.750e+00, time/iteration:  2.473e+01 ms\n",
      "2024-03-03 09:32:45,806 - INFO - [step:        900] loss:  9.662e+00, time/iteration:  2.471e+01 ms\n",
      "2024-03-03 09:33:00,541 - INFO - [step:       1000] record validators time:  1.147e+01s\n",
      "2024-03-03 09:33:00,643 - INFO - [step:       1000] saved checkpoint to /workspace/24_2D_Helmholtz_AdaptiveActivationFunc/outputs\n",
      "2024-03-03 09:33:00,645 - INFO - [step:       1000] loss:  1.484e+01, time/iteration:  1.484e+02 ms\n",
      "2024-03-03 09:33:03,185 - INFO - [step:       1100] loss:  2.959e+00, time/iteration:  2.539e+01 ms\n",
      "2024-03-03 09:33:05,615 - INFO - [step:       1200] loss:  1.103e+01, time/iteration:  2.428e+01 ms\n",
      "2024-03-03 09:33:08,041 - INFO - [step:       1300] loss:  1.749e+00, time/iteration:  2.425e+01 ms\n",
      "2024-03-03 09:33:10,587 - INFO - [step:       1400] loss:  6.759e+00, time/iteration:  2.544e+01 ms\n",
      "2024-03-03 09:33:13,070 - INFO - [step:       1500] loss:  7.162e-01, time/iteration:  2.480e+01 ms\n",
      "2024-03-03 09:33:15,544 - INFO - [step:       1600] loss:  4.410e+00, time/iteration:  2.473e+01 ms\n",
      "2024-03-03 09:33:18,011 - INFO - [step:       1700] loss:  4.554e-01, time/iteration:  2.466e+01 ms\n",
      "2024-03-03 09:33:20,490 - INFO - [step:       1800] loss:  8.097e+00, time/iteration:  2.477e+01 ms\n",
      "2024-03-03 09:33:23,014 - INFO - [step:       1900] loss:  4.275e-01, time/iteration:  2.523e+01 ms\n",
      "2024-03-03 09:33:26,397 - INFO - [step:       2000] record constraint batch time:  1.542e-01s\n",
      "2024-03-03 09:33:37,354 - INFO - [step:       2000] record validators time:  1.095e+01s\n",
      "2024-03-03 09:33:37,415 - INFO - [step:       2000] saved checkpoint to /workspace/24_2D_Helmholtz_AdaptiveActivationFunc/outputs\n",
      "2024-03-03 09:33:37,417 - INFO - [step:       2000] loss:  5.347e-01, time/iteration:  1.440e+02 ms\n",
      "2024-03-03 09:33:40,000 - INFO - [step:       2100] loss:  7.639e-01, time/iteration:  2.581e+01 ms\n",
      "2024-03-03 09:33:42,561 - INFO - [step:       2200] loss:  8.119e+00, time/iteration:  2.560e+01 ms\n",
      "2024-03-03 09:33:45,061 - INFO - [step:       2300] loss:  3.195e-01, time/iteration:  2.498e+01 ms\n",
      "2024-03-03 09:33:47,473 - INFO - [step:       2400] loss:  1.783e+00, time/iteration:  2.411e+01 ms\n",
      "2024-03-03 09:33:49,957 - INFO - [step:       2500] loss:  4.954e+00, time/iteration:  2.483e+01 ms\n",
      "2024-03-03 09:33:52,418 - INFO - [step:       2600] loss:  2.630e+00, time/iteration:  2.460e+01 ms\n",
      "2024-03-03 09:33:55,024 - INFO - [step:       2700] loss:  2.744e-01, time/iteration:  2.604e+01 ms\n",
      "2024-03-03 09:33:57,627 - INFO - [step:       2800] loss:  8.771e-01, time/iteration:  2.601e+01 ms\n",
      "2024-03-03 09:34:00,181 - INFO - [step:       2900] loss:  2.797e+00, time/iteration:  2.553e+01 ms\n",
      "2024-03-03 09:34:16,026 - INFO - [step:       3000] record validators time:  1.254e+01s\n",
      "2024-03-03 09:34:16,117 - INFO - [step:       3000] saved checkpoint to /workspace/24_2D_Helmholtz_AdaptiveActivationFunc/outputs\n",
      "2024-03-03 09:34:16,120 - INFO - [step:       3000] loss:  2.212e-01, time/iteration:  1.594e+02 ms\n",
      "2024-03-03 09:34:18,601 - INFO - [step:       3100] loss:  1.032e+00, time/iteration:  2.480e+01 ms\n",
      "2024-03-03 09:34:21,106 - INFO - [step:       3200] loss:  2.167e+00, time/iteration:  2.504e+01 ms\n",
      "2024-03-03 09:34:23,652 - INFO - [step:       3300] loss:  3.460e+00, time/iteration:  2.544e+01 ms\n",
      "2024-03-03 09:34:26,221 - INFO - [step:       3400] loss:  1.623e-01, time/iteration:  2.567e+01 ms\n",
      "2024-03-03 09:34:28,699 - INFO - [step:       3500] loss:  7.267e-01, time/iteration:  2.476e+01 ms\n",
      "2024-03-03 09:34:31,165 - INFO - [step:       3600] loss:  3.588e+00, time/iteration:  2.465e+01 ms\n",
      "2024-03-03 09:34:33,677 - INFO - [step:       3700] loss:  2.551e+00, time/iteration:  2.511e+01 ms\n",
      "2024-03-03 09:34:36,253 - INFO - [step:       3800] loss:  1.528e+00, time/iteration:  2.575e+01 ms\n",
      "2024-03-03 09:34:38,743 - INFO - [step:       3900] loss:  1.096e-01, time/iteration:  2.488e+01 ms\n",
      "2024-03-03 09:34:42,019 - INFO - [step:       4000] record constraint batch time:  1.289e-01s\n",
      "2024-03-03 09:34:52,705 - INFO - [step:       4000] record validators time:  1.068e+01s\n",
      "2024-03-03 09:34:52,790 - INFO - [step:       4000] saved checkpoint to /workspace/24_2D_Helmholtz_AdaptiveActivationFunc/outputs\n",
      "2024-03-03 09:34:52,792 - INFO - [step:       4000] loss:  2.071e-01, time/iteration:  1.405e+02 ms\n",
      "2024-03-03 09:34:55,299 - INFO - [step:       4100] loss:  1.057e+00, time/iteration:  2.505e+01 ms\n",
      "2024-03-03 09:34:57,723 - INFO - [step:       4200] loss:  3.215e-01, time/iteration:  2.422e+01 ms\n",
      "2024-03-03 09:35:00,120 - INFO - [step:       4300] loss:  2.403e-01, time/iteration:  2.395e+01 ms\n",
      "2024-03-03 09:35:02,646 - INFO - [step:       4400] loss:  2.867e-01, time/iteration:  2.524e+01 ms\n",
      "2024-03-03 09:35:05,130 - INFO - [step:       4500] loss:  1.464e+00, time/iteration:  2.483e+01 ms\n",
      "2024-03-03 09:35:07,605 - INFO - [step:       4600] loss:  1.896e-01, time/iteration:  2.473e+01 ms\n",
      "2024-03-03 09:35:10,117 - INFO - [step:       4700] loss:  8.564e-01, time/iteration:  2.511e+01 ms\n",
      "2024-03-03 09:35:12,673 - INFO - [step:       4800] loss:  1.026e-01, time/iteration:  2.555e+01 ms\n",
      "2024-03-03 09:35:15,261 - INFO - [step:       4900] loss:  2.161e-01, time/iteration:  2.587e+01 ms\n",
      "2024-03-03 09:35:31,114 - INFO - [step:       5000] record validators time:  1.266e+01s\n",
      "2024-03-03 09:35:31,189 - INFO - [step:       5000] saved checkpoint to /workspace/24_2D_Helmholtz_AdaptiveActivationFunc/outputs\n",
      "2024-03-03 09:35:31,191 - INFO - [step:       5000] loss:  4.539e-01, time/iteration:  1.593e+02 ms\n",
      "2024-03-03 09:35:33,680 - INFO - [step:       5100] loss:  6.988e-01, time/iteration:  2.488e+01 ms\n",
      "2024-03-03 09:35:36,171 - INFO - [step:       5200] loss:  1.251e-01, time/iteration:  2.489e+01 ms\n",
      "2024-03-03 09:35:38,667 - INFO - [step:       5300] loss:  1.240e+00, time/iteration:  2.494e+01 ms\n",
      "2024-03-03 09:35:41,184 - INFO - [step:       5400] loss:  1.605e-01, time/iteration:  2.515e+01 ms\n",
      "2024-03-03 09:35:43,644 - INFO - [step:       5500] loss:  1.495e+00, time/iteration:  2.459e+01 ms\n",
      "2024-03-03 09:35:46,037 - INFO - [step:       5600] loss:  2.085e-01, time/iteration:  2.391e+01 ms\n",
      "2024-03-03 09:35:48,569 - INFO - [step:       5700] loss:  3.794e-01, time/iteration:  2.531e+01 ms\n",
      "2024-03-03 09:35:51,158 - INFO - [step:       5800] loss:  1.609e-01, time/iteration:  2.587e+01 ms\n",
      "2024-03-03 09:35:53,726 - INFO - [step:       5900] loss:  1.169e+00, time/iteration:  2.565e+01 ms\n",
      "2024-03-03 09:35:56,952 - INFO - [step:       6000] record constraint batch time:  8.269e-02s\n",
      "2024-03-03 09:36:07,998 - INFO - [step:       6000] record validators time:  1.104e+01s\n"
     ]
    },
    {
     "name": "stderr",
     "output_type": "stream",
     "text": [
      "2024-03-03 09:36:08,094 - INFO - [step:       6000] saved checkpoint to /workspace/24_2D_Helmholtz_AdaptiveActivationFunc/outputs\n",
      "2024-03-03 09:36:08,096 - INFO - [step:       6000] loss:  1.581e-01, time/iteration:  1.437e+02 ms\n",
      "2024-03-03 09:36:10,538 - INFO - [step:       6100] loss:  2.655e-01, time/iteration:  2.440e+01 ms\n",
      "2024-03-03 09:36:12,949 - INFO - [step:       6200] loss:  6.903e-02, time/iteration:  2.410e+01 ms\n",
      "2024-03-03 09:36:15,362 - INFO - [step:       6300] loss:  1.777e-01, time/iteration:  2.412e+01 ms\n",
      "2024-03-03 09:36:17,809 - INFO - [step:       6400] loss:  4.532e+00, time/iteration:  2.445e+01 ms\n",
      "2024-03-03 09:36:20,261 - INFO - [step:       6500] loss:  2.188e-01, time/iteration:  2.452e+01 ms\n",
      "2024-03-03 09:36:22,689 - INFO - [step:       6600] loss:  1.104e-01, time/iteration:  2.426e+01 ms\n",
      "2024-03-03 09:36:25,119 - INFO - [step:       6700] loss:  2.500e-01, time/iteration:  2.428e+01 ms\n",
      "2024-03-03 09:36:27,549 - INFO - [step:       6800] loss:  9.569e-02, time/iteration:  2.429e+01 ms\n",
      "2024-03-03 09:36:30,015 - INFO - [step:       6900] loss:  1.701e+00, time/iteration:  2.464e+01 ms\n",
      "2024-03-03 09:36:43,627 - INFO - [step:       7000] record validators time:  1.063e+01s\n",
      "2024-03-03 09:36:43,715 - INFO - [step:       7000] saved checkpoint to /workspace/24_2D_Helmholtz_AdaptiveActivationFunc/outputs\n",
      "2024-03-03 09:36:43,717 - INFO - [step:       7000] loss:  8.764e-02, time/iteration:  1.370e+02 ms\n",
      "2024-03-03 09:36:46,154 - INFO - [step:       7100] loss:  3.975e-01, time/iteration:  2.436e+01 ms\n",
      "2024-03-03 09:36:48,623 - INFO - [step:       7200] loss:  1.792e-01, time/iteration:  2.467e+01 ms\n",
      "2024-03-03 09:36:51,091 - INFO - [step:       7300] loss:  3.748e-01, time/iteration:  2.466e+01 ms\n",
      "2024-03-03 09:36:53,572 - INFO - [step:       7400] loss:  5.164e-02, time/iteration:  2.479e+01 ms\n",
      "2024-03-03 09:36:56,119 - INFO - [step:       7500] loss:  1.893e-01, time/iteration:  2.546e+01 ms\n",
      "2024-03-03 09:36:58,627 - INFO - [step:       7600] loss:  1.481e-01, time/iteration:  2.507e+01 ms\n",
      "2024-03-03 09:37:01,090 - INFO - [step:       7700] loss:  1.100e-01, time/iteration:  2.461e+01 ms\n",
      "2024-03-03 09:37:03,480 - INFO - [step:       7800] loss:  7.306e-02, time/iteration:  2.389e+01 ms\n",
      "2024-03-03 09:37:05,880 - INFO - [step:       7900] loss:  3.095e-01, time/iteration:  2.398e+01 ms\n",
      "2024-03-03 09:37:08,999 - INFO - [step:       8000] record constraint batch time:  8.773e-02s\n",
      "2024-03-03 09:37:19,744 - INFO - [step:       8000] record validators time:  1.074e+01s\n",
      "2024-03-03 09:37:19,781 - INFO - [step:       8000] saved checkpoint to /workspace/24_2D_Helmholtz_AdaptiveActivationFunc/outputs\n",
      "2024-03-03 09:37:19,783 - INFO - [step:       8000] loss:  7.701e-02, time/iteration:  1.390e+02 ms\n",
      "2024-03-03 09:37:22,756 - INFO - [step:       8100] loss:  8.730e-02, time/iteration:  2.973e+01 ms\n",
      "2024-03-03 09:37:25,302 - INFO - [step:       8200] loss:  1.686e-01, time/iteration:  2.545e+01 ms\n",
      "2024-03-03 09:37:27,841 - INFO - [step:       8300] loss:  8.244e-01, time/iteration:  2.538e+01 ms\n",
      "2024-03-03 09:37:30,405 - INFO - [step:       8400] loss:  1.275e-01, time/iteration:  2.562e+01 ms\n",
      "2024-03-03 09:37:32,964 - INFO - [step:       8500] loss:  2.996e-01, time/iteration:  2.558e+01 ms\n",
      "2024-03-03 09:37:35,452 - INFO - [step:       8600] loss:  7.311e-02, time/iteration:  2.486e+01 ms\n",
      "2024-03-03 09:37:37,918 - INFO - [step:       8700] loss:  6.477e-02, time/iteration:  2.463e+01 ms\n",
      "2024-03-03 09:37:40,383 - INFO - [step:       8800] loss:  1.774e-01, time/iteration:  2.464e+01 ms\n",
      "2024-03-03 09:37:42,851 - INFO - [step:       8900] loss:  5.013e-02, time/iteration:  2.466e+01 ms\n",
      "2024-03-03 09:37:57,223 - INFO - [step:       9000] record validators time:  1.132e+01s\n",
      "2024-03-03 09:37:57,325 - INFO - [step:       9000] saved checkpoint to /workspace/24_2D_Helmholtz_AdaptiveActivationFunc/outputs\n",
      "2024-03-03 09:37:57,326 - INFO - [step:       9000] loss:  1.796e-01, time/iteration:  1.447e+02 ms\n",
      "2024-03-03 09:37:59,873 - INFO - [step:       9100] loss:  7.097e-02, time/iteration:  2.546e+01 ms\n",
      "2024-03-03 09:38:02,392 - INFO - [step:       9200] loss:  4.930e-02, time/iteration:  2.517e+01 ms\n",
      "2024-03-03 09:38:04,845 - INFO - [step:       9300] loss:  4.900e-01, time/iteration:  2.452e+01 ms\n",
      "2024-03-03 09:38:07,304 - INFO - [step:       9400] loss:  5.726e-02, time/iteration:  2.456e+01 ms\n",
      "2024-03-03 09:38:09,794 - INFO - [step:       9500] loss:  7.945e-02, time/iteration:  2.489e+01 ms\n",
      "2024-03-03 09:38:12,254 - INFO - [step:       9600] loss:  7.006e-02, time/iteration:  2.458e+01 ms\n",
      "2024-03-03 09:38:14,804 - INFO - [step:       9700] loss:  4.890e-02, time/iteration:  2.548e+01 ms\n",
      "2024-03-03 09:38:17,396 - INFO - [step:       9800] loss:  6.649e-02, time/iteration:  2.590e+01 ms\n",
      "2024-03-03 09:38:19,879 - INFO - [step:       9900] loss:  6.027e-02, time/iteration:  2.481e+01 ms\n",
      "2024-03-03 09:38:23,141 - INFO - [step:      10000] record constraint batch time:  8.433e-02s\n",
      "2024-03-03 09:38:33,952 - INFO - [step:      10000] record validators time:  1.081e+01s\n",
      "2024-03-03 09:38:33,987 - INFO - [step:      10000] saved checkpoint to /workspace/24_2D_Helmholtz_AdaptiveActivationFunc/outputs\n",
      "2024-03-03 09:38:33,988 - INFO - [step:      10000] loss:  7.154e-02, time/iteration:  1.411e+02 ms\n",
      "2024-03-03 09:38:36,431 - INFO - [step:      10100] loss:  1.015e-01, time/iteration:  2.443e+01 ms\n",
      "2024-03-03 09:38:38,875 - INFO - [step:      10200] loss:  4.331e-02, time/iteration:  2.442e+01 ms\n",
      "2024-03-03 09:38:41,297 - INFO - [step:      10300] loss:  5.857e-02, time/iteration:  2.421e+01 ms\n",
      "2024-03-03 09:38:43,759 - INFO - [step:      10400] loss:  1.454e-01, time/iteration:  2.460e+01 ms\n",
      "2024-03-03 09:38:46,319 - INFO - [step:      10500] loss:  4.142e-02, time/iteration:  2.557e+01 ms\n",
      "2024-03-03 09:38:48,869 - INFO - [step:      10600] loss:  4.433e-02, time/iteration:  2.550e+01 ms\n",
      "2024-03-03 09:38:51,288 - INFO - [step:      10700] loss:  3.453e-02, time/iteration:  2.417e+01 ms\n",
      "2024-03-03 09:38:53,672 - INFO - [step:      10800] loss:  4.329e-02, time/iteration:  2.381e+01 ms\n",
      "2024-03-03 09:38:56,208 - INFO - [step:      10900] loss:  4.522e-02, time/iteration:  2.534e+01 ms\n",
      "2024-03-03 09:39:10,376 - INFO - [step:      11000] record validators time:  1.103e+01s\n",
      "2024-03-03 09:39:10,468 - INFO - [step:      11000] saved checkpoint to /workspace/24_2D_Helmholtz_AdaptiveActivationFunc/outputs\n",
      "2024-03-03 09:39:10,470 - INFO - [step:      11000] loss:  6.492e-02, time/iteration:  1.426e+02 ms\n",
      "2024-03-03 09:39:12,950 - INFO - [step:      11100] loss:  8.892e-02, time/iteration:  2.479e+01 ms\n",
      "2024-03-03 09:39:15,401 - INFO - [step:      11200] loss:  6.799e-02, time/iteration:  2.449e+01 ms\n",
      "2024-03-03 09:39:17,862 - INFO - [step:      11300] loss:  7.902e-02, time/iteration:  2.460e+01 ms\n",
      "2024-03-03 09:39:20,304 - INFO - [step:      11400] loss:  6.230e-02, time/iteration:  2.439e+01 ms\n",
      "2024-03-03 09:39:22,692 - INFO - [step:      11500] loss:  5.509e-02, time/iteration:  2.387e+01 ms\n",
      "2024-03-03 09:39:25,091 - INFO - [step:      11600] loss:  3.824e-02, time/iteration:  2.397e+01 ms\n",
      "2024-03-03 09:39:27,537 - INFO - [step:      11700] loss:  5.868e-02, time/iteration:  2.444e+01 ms\n",
      "2024-03-03 09:39:29,977 - INFO - [step:      11800] loss:  4.779e-02, time/iteration:  2.438e+01 ms\n",
      "2024-03-03 09:39:32,450 - INFO - [step:      11900] loss:  4.001e-02, time/iteration:  2.471e+01 ms\n",
      "2024-03-03 09:39:35,613 - INFO - [step:      12000] record constraint batch time:  1.158e-01s\n",
      "2024-03-03 09:39:46,137 - INFO - [step:      12000] record validators time:  1.052e+01s\n",
      "2024-03-03 09:39:46,167 - INFO - [step:      12000] saved checkpoint to /workspace/24_2D_Helmholtz_AdaptiveActivationFunc/outputs\n",
      "2024-03-03 09:39:46,168 - INFO - [step:      12000] loss:  4.576e-02, time/iteration:  1.372e+02 ms\n",
      "2024-03-03 09:39:48,630 - INFO - [step:      12100] loss:  4.276e-02, time/iteration:  2.461e+01 ms\n",
      "2024-03-03 09:39:51,117 - INFO - [step:      12200] loss:  4.039e-02, time/iteration:  2.486e+01 ms\n",
      "2024-03-03 09:39:53,575 - INFO - [step:      12300] loss:  3.418e-02, time/iteration:  2.456e+01 ms\n",
      "2024-03-03 09:39:56,030 - INFO - [step:      12400] loss:  3.692e-02, time/iteration:  2.453e+01 ms\n"
     ]
    },
    {
     "name": "stderr",
     "output_type": "stream",
     "text": [
      "2024-03-03 09:39:58,485 - INFO - [step:      12500] loss:  7.134e-02, time/iteration:  2.454e+01 ms\n",
      "2024-03-03 09:40:00,943 - INFO - [step:      12600] loss:  3.240e-02, time/iteration:  2.457e+01 ms\n",
      "2024-03-03 09:40:03,401 - INFO - [step:      12700] loss:  9.160e-02, time/iteration:  2.456e+01 ms\n",
      "2024-03-03 09:40:05,856 - INFO - [step:      12800] loss:  3.176e-02, time/iteration:  2.454e+01 ms\n",
      "2024-03-03 09:40:08,304 - INFO - [step:      12900] loss:  3.149e-02, time/iteration:  2.446e+01 ms\n",
      "2024-03-03 09:40:23,211 - INFO - [step:      13000] record validators time:  1.190e+01s\n",
      "2024-03-03 09:40:23,240 - INFO - [step:      13000] saved checkpoint to /workspace/24_2D_Helmholtz_AdaptiveActivationFunc/outputs\n",
      "2024-03-03 09:40:23,242 - INFO - [step:      13000] loss:  4.423e-02, time/iteration:  1.494e+02 ms\n",
      "2024-03-03 09:40:25,690 - INFO - [step:      13100] loss:  3.238e-02, time/iteration:  2.447e+01 ms\n",
      "2024-03-03 09:40:28,166 - INFO - [step:      13200] loss:  3.171e-02, time/iteration:  2.475e+01 ms\n",
      "2024-03-03 09:40:30,604 - INFO - [step:      13300] loss:  4.638e-02, time/iteration:  2.436e+01 ms\n",
      "2024-03-03 09:40:33,016 - INFO - [step:      13400] loss:  3.520e-02, time/iteration:  2.412e+01 ms\n",
      "2024-03-03 09:40:35,477 - INFO - [step:      13500] loss:  2.845e-02, time/iteration:  2.459e+01 ms\n",
      "2024-03-03 09:40:37,942 - INFO - [step:      13600] loss:  3.183e-02, time/iteration:  2.464e+01 ms\n",
      "2024-03-03 09:40:40,397 - INFO - [step:      13700] loss:  5.181e-02, time/iteration:  2.454e+01 ms\n",
      "2024-03-03 09:40:42,847 - INFO - [step:      13800] loss:  3.533e-02, time/iteration:  2.449e+01 ms\n",
      "2024-03-03 09:40:45,301 - INFO - [step:      13900] loss:  2.611e-02, time/iteration:  2.452e+01 ms\n",
      "2024-03-03 09:40:48,458 - INFO - [step:      14000] record constraint batch time:  9.808e-02s\n",
      "2024-03-03 09:40:59,053 - INFO - [step:      14000] record validators time:  1.059e+01s\n",
      "2024-03-03 09:40:59,137 - INFO - [step:      14000] saved checkpoint to /workspace/24_2D_Helmholtz_AdaptiveActivationFunc/outputs\n",
      "2024-03-03 09:40:59,139 - INFO - [step:      14000] loss:  3.558e-02, time/iteration:  1.384e+02 ms\n",
      "2024-03-03 09:41:01,635 - INFO - [step:      14100] loss:  3.811e-02, time/iteration:  2.494e+01 ms\n",
      "2024-03-03 09:41:04,047 - INFO - [step:      14200] loss:  3.890e-02, time/iteration:  2.411e+01 ms\n",
      "2024-03-03 09:41:06,504 - INFO - [step:      14300] loss:  2.865e-02, time/iteration:  2.455e+01 ms\n",
      "2024-03-03 09:41:09,054 - INFO - [step:      14400] loss:  3.571e-02, time/iteration:  2.549e+01 ms\n",
      "2024-03-03 09:41:11,523 - INFO - [step:      14500] loss:  2.980e-02, time/iteration:  2.467e+01 ms\n",
      "2024-03-03 09:41:14,023 - INFO - [step:      14600] loss:  2.678e-02, time/iteration:  2.499e+01 ms\n",
      "2024-03-03 09:41:16,590 - INFO - [step:      14700] loss:  2.994e-02, time/iteration:  2.565e+01 ms\n",
      "2024-03-03 09:41:19,148 - INFO - [step:      14800] loss:  2.867e-02, time/iteration:  2.556e+01 ms\n",
      "2024-03-03 09:41:21,689 - INFO - [step:      14900] loss:  3.210e-02, time/iteration:  2.540e+01 ms\n",
      "2024-03-03 09:41:35,273 - INFO - [step:      15000] record validators time:  1.058e+01s\n",
      "2024-03-03 09:41:35,360 - INFO - [step:      15000] saved checkpoint to /workspace/24_2D_Helmholtz_AdaptiveActivationFunc/outputs\n",
      "2024-03-03 09:41:35,361 - INFO - [step:      15000] loss:  3.410e-02, time/iteration:  1.367e+02 ms\n",
      "2024-03-03 09:41:37,820 - INFO - [step:      15100] loss:  3.491e-02, time/iteration:  2.457e+01 ms\n",
      "2024-03-03 09:41:40,246 - INFO - [step:      15200] loss:  2.868e-02, time/iteration:  2.424e+01 ms\n",
      "2024-03-03 09:41:42,802 - INFO - [step:      15300] loss:  5.598e-02, time/iteration:  2.554e+01 ms\n",
      "2024-03-03 09:41:45,339 - INFO - [step:      15400] loss:  3.076e-02, time/iteration:  2.535e+01 ms\n",
      "2024-03-03 09:41:47,781 - INFO - [step:      15500] loss:  2.679e-02, time/iteration:  2.441e+01 ms\n",
      "2024-03-03 09:41:50,224 - INFO - [step:      15600] loss:  3.340e-02, time/iteration:  2.441e+01 ms\n",
      "2024-03-03 09:41:52,685 - INFO - [step:      15700] loss:  3.461e-02, time/iteration:  2.459e+01 ms\n",
      "2024-03-03 09:41:55,134 - INFO - [step:      15800] loss:  2.758e-02, time/iteration:  2.447e+01 ms\n",
      "2024-03-03 09:41:57,582 - INFO - [step:      15900] loss:  2.645e-02, time/iteration:  2.446e+01 ms\n",
      "2024-03-03 09:42:00,745 - INFO - [step:      16000] record constraint batch time:  8.961e-02s\n",
      "2024-03-03 09:42:11,141 - INFO - [step:      16000] record validators time:  1.039e+01s\n",
      "2024-03-03 09:42:11,229 - INFO - [step:      16000] saved checkpoint to /workspace/24_2D_Helmholtz_AdaptiveActivationFunc/outputs\n",
      "2024-03-03 09:42:11,231 - INFO - [step:      16000] loss:  2.702e-02, time/iteration:  1.365e+02 ms\n",
      "2024-03-03 09:42:13,656 - INFO - [step:      16100] loss:  3.022e-02, time/iteration:  2.424e+01 ms\n",
      "2024-03-03 09:42:16,101 - INFO - [step:      16200] loss:  2.668e-02, time/iteration:  2.443e+01 ms\n",
      "2024-03-03 09:42:18,552 - INFO - [step:      16300] loss:  2.642e-02, time/iteration:  2.449e+01 ms\n",
      "2024-03-03 09:42:21,016 - INFO - [step:      16400] loss:  3.310e-02, time/iteration:  2.462e+01 ms\n",
      "2024-03-03 09:42:23,560 - INFO - [step:      16500] loss:  2.705e-02, time/iteration:  2.543e+01 ms\n",
      "2024-03-03 09:42:26,065 - INFO - [step:      16600] loss:  2.454e-02, time/iteration:  2.503e+01 ms\n",
      "2024-03-03 09:42:28,473 - INFO - [step:      16700] loss:  2.408e-02, time/iteration:  2.406e+01 ms\n",
      "2024-03-03 09:42:30,926 - INFO - [step:      16800] loss:  2.818e-02, time/iteration:  2.451e+01 ms\n",
      "2024-03-03 09:42:33,376 - INFO - [step:      16900] loss:  2.495e-02, time/iteration:  2.449e+01 ms\n",
      "2024-03-03 09:42:47,316 - INFO - [step:      17000] record validators time:  1.088e+01s\n",
      "2024-03-03 09:42:47,392 - INFO - [step:      17000] saved checkpoint to /workspace/24_2D_Helmholtz_AdaptiveActivationFunc/outputs\n",
      "2024-03-03 09:42:47,394 - INFO - [step:      17000] loss:  2.734e-02, time/iteration:  1.401e+02 ms\n",
      "2024-03-03 09:42:49,848 - INFO - [step:      17100] loss:  3.015e-02, time/iteration:  2.453e+01 ms\n",
      "2024-03-03 09:42:52,295 - INFO - [step:      17200] loss:  2.431e-02, time/iteration:  2.446e+01 ms\n",
      "2024-03-03 09:42:54,748 - INFO - [step:      17300] loss:  2.452e-02, time/iteration:  2.451e+01 ms\n",
      "2024-03-03 09:42:57,205 - INFO - [step:      17400] loss:  2.563e-02, time/iteration:  2.456e+01 ms\n",
      "2024-03-03 09:42:59,654 - INFO - [step:      17500] loss:  2.558e-02, time/iteration:  2.447e+01 ms\n",
      "2024-03-03 09:43:02,105 - INFO - [step:      17600] loss:  2.504e-02, time/iteration:  2.450e+01 ms\n",
      "2024-03-03 09:43:04,555 - INFO - [step:      17700] loss:  2.423e-02, time/iteration:  2.449e+01 ms\n",
      "2024-03-03 09:43:07,125 - INFO - [step:      17800] loss:  2.607e-02, time/iteration:  2.568e+01 ms\n",
      "2024-03-03 09:43:09,714 - INFO - [step:      17900] loss:  2.935e-02, time/iteration:  2.587e+01 ms\n",
      "2024-03-03 09:43:13,012 - INFO - [step:      18000] record constraint batch time:  8.749e-02s\n",
      "2024-03-03 09:43:23,811 - INFO - [step:      18000] record validators time:  1.080e+01s\n",
      "2024-03-03 09:43:23,903 - INFO - [step:      18000] saved checkpoint to /workspace/24_2D_Helmholtz_AdaptiveActivationFunc/outputs\n",
      "2024-03-03 09:43:23,905 - INFO - [step:      18000] loss:  2.318e-02, time/iteration:  1.419e+02 ms\n",
      "2024-03-03 09:43:26,864 - INFO - [step:      18100] loss:  2.427e-02, time/iteration:  2.958e+01 ms\n",
      "2024-03-03 09:43:29,378 - INFO - [step:      18200] loss:  2.402e-02, time/iteration:  2.512e+01 ms\n",
      "2024-03-03 09:43:31,836 - INFO - [step:      18300] loss:  2.618e-02, time/iteration:  2.455e+01 ms\n",
      "2024-03-03 09:43:34,365 - INFO - [step:      18400] loss:  2.253e-02, time/iteration:  2.527e+01 ms\n",
      "2024-03-03 09:43:36,766 - INFO - [step:      18500] loss:  2.321e-02, time/iteration:  2.400e+01 ms\n",
      "2024-03-03 09:43:39,226 - INFO - [step:      18600] loss:  2.400e-02, time/iteration:  2.458e+01 ms\n",
      "2024-03-03 09:43:41,775 - INFO - [step:      18700] loss:  2.363e-02, time/iteration:  2.546e+01 ms\n",
      "2024-03-03 09:43:44,238 - INFO - [step:      18800] loss:  2.428e-02, time/iteration:  2.462e+01 ms\n",
      "2024-03-03 09:43:46,693 - INFO - [step:      18900] loss:  2.405e-02, time/iteration:  2.454e+01 ms\n",
      "2024-03-03 09:44:00,205 - INFO - [step:      19000] record validators time:  1.045e+01s\n",
      "2024-03-03 09:44:00,287 - INFO - [step:      19000] saved checkpoint to /workspace/24_2D_Helmholtz_AdaptiveActivationFunc/outputs\n"
     ]
    },
    {
     "name": "stderr",
     "output_type": "stream",
     "text": [
      "2024-03-03 09:44:00,289 - INFO - [step:      19000] loss:  2.833e-02, time/iteration:  1.359e+02 ms\n",
      "2024-03-03 09:44:02,755 - INFO - [step:      19100] loss:  2.148e-02, time/iteration:  2.464e+01 ms\n",
      "2024-03-03 09:44:05,383 - INFO - [step:      19200] loss:  2.146e-02, time/iteration:  2.627e+01 ms\n",
      "2024-03-03 09:44:07,915 - INFO - [step:      19300] loss:  2.474e-02, time/iteration:  2.530e+01 ms\n",
      "2024-03-03 09:44:10,409 - INFO - [step:      19400] loss:  2.450e-02, time/iteration:  2.492e+01 ms\n",
      "2024-03-03 09:44:12,795 - INFO - [step:      19500] loss:  2.264e-02, time/iteration:  2.383e+01 ms\n",
      "2024-03-03 09:44:15,237 - INFO - [step:      19600] loss:  2.362e-02, time/iteration:  2.442e+01 ms\n",
      "2024-03-03 09:44:17,753 - INFO - [step:      19700] loss:  2.372e-02, time/iteration:  2.514e+01 ms\n",
      "2024-03-03 09:44:20,265 - INFO - [step:      19800] loss:  2.307e-02, time/iteration:  2.509e+01 ms\n",
      "2024-03-03 09:44:22,763 - INFO - [step:      19900] loss:  2.334e-02, time/iteration:  2.496e+01 ms\n",
      "2024-03-03 09:44:25,886 - INFO - [step:      20000] record constraint batch time:  1.015e-01s\n",
      "2024-03-03 09:44:36,812 - INFO - [step:      20000] record validators time:  1.092e+01s\n",
      "2024-03-03 09:44:36,854 - INFO - [step:      20000] saved checkpoint to /workspace/24_2D_Helmholtz_AdaptiveActivationFunc/outputs\n",
      "2024-03-03 09:44:36,856 - INFO - [step:      20000] loss:  2.274e-02, time/iteration:  1.409e+02 ms\n",
      "2024-03-03 09:44:36,857 - INFO - [step:      20000] reached maximum training steps, finished training!\n"
     ]
    }
   ],
   "source": [
    "slv.solve()"
   ]
  },
  {
   "cell_type": "markdown",
   "id": "556674b9",
   "metadata": {},
   "source": [
    "### 后处理以及可视化\n",
    "\n",
    "对于jupyter，比较方便的方法是使用matplotlib\n",
    "\n",
    "此外，还可以使用tensorboard以及Paraview\n",
    "\n",
    "![u](./outputs/validators/validator_u.png)"
   ]
  }
 ],
 "metadata": {
  "kernelspec": {
   "display_name": "Python 3 (ipykernel)",
   "language": "python",
   "name": "python3"
  },
  "language_info": {
   "codemirror_mode": {
    "name": "ipython",
    "version": 3
   },
   "file_extension": ".py",
   "mimetype": "text/x-python",
   "name": "python",
   "nbconvert_exporter": "python",
   "pygments_lexer": "ipython3",
   "version": "3.10.12"
  }
 },
 "nbformat": 4,
 "nbformat_minor": 5
}
