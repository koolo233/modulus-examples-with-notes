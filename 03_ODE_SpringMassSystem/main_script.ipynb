{
 "cells": [
  {
   "cell_type": "markdown",
   "id": "8527ce6f",
   "metadata": {},
   "source": [
    "## 问题定义\n",
    "\n",
    "待求解问题为一个三滑块的弹簧系统。两侧固定墙壁中有三个滑块，三个滑块从左至右使用四个弹簧连接。弹簧沿着无摩擦的水平表面滑行。假设滑块为点质量，弹簧无质量。四个弹簧等长\n",
    "![Problem](./resource/problem.png)\n",
    "\n",
    "这个系统遵循如下的ODE方程组：\n",
    "![equation](./resource/equation.png)\n",
    "\n",
    "其中，$m_1, m_2, m_3$分别为三个滑块的质量；$k_1, k_2, k_3, k_4$为四个弹簧的劲度系数；$x_1, x_2, x_3$为三个滑块的位置（使用相对位置，即相对于平衡位置的偏移距离，右加左减）；$^{\\prime\\prime}$为二阶导数。\n",
    "\n",
    "\n",
    "### 求解目标\n",
    "\n",
    "假定滑块质量和弹簧的劲度系数恒定。要求求解三个滑块位置关于时间的函数。\n",
    "\n",
    "总体而言，方程明确，初始条件为静态，第一个滑块向右偏移了一个单位。\n"
   ]
  },
  {
   "cell_type": "markdown",
   "id": "c6cac1a9",
   "metadata": {},
   "source": [
    "## 求解"
   ]
  },
  {
   "cell_type": "code",
   "execution_count": 1,
   "id": "4cdd3eb6",
   "metadata": {},
   "outputs": [],
   "source": [
    "import os\n",
    "import warnings\n",
    "\n",
    "# optional\n",
    "# set appropriate GPU in case of multi-GPU machine\n",
    "os.environ[\"CUDA_VISIBLE_DEVICES\"]=\"0\""
   ]
  },
  {
   "cell_type": "code",
   "execution_count": 2,
   "id": "7c49066c",
   "metadata": {},
   "outputs": [],
   "source": [
    "import numpy as np\n",
    "from sympy import Symbol, Function, Number\n",
    "\n",
    "import modulus.sym\n",
    "from modulus.sym.hydra import to_yaml\n",
    "from modulus.sym.hydra import instantiate_arch, ModulusConfig\n",
    "from modulus.sym.hydra.utils import compose\n",
    "from modulus.sym.solver import Solver\n",
    "from modulus.sym.domain import Domain\n",
    "from modulus.sym.geometry.primitives_1d import Point1D\n",
    "\n",
    "from modulus.sym.domain.constraint import (\n",
    "    PointwiseBoundaryConstraint,\n",
    "    PointwiseBoundaryConstraint,\n",
    ")\n",
    "from modulus.sym.domain.validator import PointwiseValidator\n",
    "from modulus.sym.key import Key\n",
    "from modulus.sym.node import Node\n",
    "\n",
    "from modulus.sym.eq.pde import PDE\n",
    "\n",
    "from spring_mass_ode import SpringMass"
   ]
  },
  {
   "cell_type": "code",
   "execution_count": 3,
   "id": "b32a11be",
   "metadata": {
    "scrolled": true
   },
   "outputs": [
    {
     "name": "stderr",
     "output_type": "stream",
     "text": [
      "/usr/local/lib/python3.10/dist-packages/modulus/sym/hydra/utils.py:148: UserWarning: \n",
      "The version_base parameter is not specified.\n",
      "Please specify a compatability version level, or None.\n",
      "Will assume defaults for version 1.1\n",
      "  hydra.initialize(\n"
     ]
    },
    {
     "name": "stdout",
     "output_type": "stream",
     "text": [
      "training:\n",
      "  max_steps: 10000\n",
      "  grad_agg_freq: 1\n",
      "  rec_results_freq: 1000\n",
      "  rec_validation_freq: ${training.rec_results_freq}\n",
      "  rec_inference_freq: ${training.rec_results_freq}\n",
      "  rec_monitor_freq: ${training.rec_results_freq}\n",
      "  rec_constraint_freq: ${training.rec_results_freq}\n",
      "  save_network_freq: 1000\n",
      "  print_stats_freq: 100\n",
      "  summary_freq: 1000\n",
      "  amp: false\n",
      "  amp_dtype: float16\n",
      "  ntk:\n",
      "    use_ntk: false\n",
      "    save_name: null\n",
      "    run_freq: 1000\n",
      "graph:\n",
      "  func_arch: false\n",
      "  func_arch_allow_partial_hessian: true\n",
      "stop_criterion:\n",
      "  metric: null\n",
      "  min_delta: null\n",
      "  patience: 50000\n",
      "  mode: min\n",
      "  freq: 1000\n",
      "  strict: false\n",
      "profiler:\n",
      "  profile: false\n",
      "  start_step: 0\n",
      "  end_step: 100\n",
      "  name: nvtx\n",
      "network_dir: outputs\n",
      "initialization_network_dir: ''\n",
      "save_filetypes: vtk,npz\n",
      "summary_histograms: false\n",
      "jit: true\n",
      "jit_use_nvfuser: true\n",
      "jit_arch_mode: only_activation\n",
      "jit_autograd_nodes: false\n",
      "cuda_graphs: true\n",
      "cuda_graph_warmup: 20\n",
      "find_unused_parameters: false\n",
      "broadcast_buffers: false\n",
      "device: ''\n",
      "debug: false\n",
      "run_mode: train\n",
      "arch:\n",
      "  fully_connected:\n",
      "    arch_type: fully_connected\n",
      "    input_keys: ???\n",
      "    output_keys: ???\n",
      "    detach_keys: ???\n",
      "    scaling: null\n",
      "    layer_size: 512\n",
      "    nr_layers: 6\n",
      "    skip_connections: false\n",
      "    activation_fn: silu\n",
      "    adaptive_activations: false\n",
      "    weight_norm: true\n",
      "models: ???\n",
      "loss:\n",
      "  _target_: modulus.sym.loss.aggregator.Sum\n",
      "  weights: null\n",
      "optimizer:\n",
      "  _params_:\n",
      "    compute_gradients: adam_compute_gradients\n",
      "    apply_gradients: adam_apply_gradients\n",
      "  _target_: torch.optim.Adam\n",
      "  lr: 0.001\n",
      "  betas:\n",
      "  - 0.9\n",
      "  - 0.999\n",
      "  eps: 1.0e-08\n",
      "  weight_decay: 0.0\n",
      "  amsgrad: false\n",
      "scheduler:\n",
      "  _target_: custom\n",
      "  _name_: tf.ExponentialLR\n",
      "  decay_rate: 0.95\n",
      "  decay_steps: 100\n",
      "batch_size:\n",
      "  IC: 10\n",
      "  interior: 500\n",
      "custom: ???\n",
      "\n"
     ]
    }
   ],
   "source": [
    "cfg = compose(config_path=\"conf\", config_name=\"config\")\n",
    "cfg.network_dir = 'outputs'    # Set the network directory for checkpoints\n",
    "print(to_yaml(cfg))"
   ]
  },
  {
   "cell_type": "markdown",
   "id": "ce79c19b",
   "metadata": {},
   "source": [
    "### 定义必要组件"
   ]
  },
  {
   "cell_type": "markdown",
   "id": "1142c4f5",
   "metadata": {},
   "source": [
    "#### PDE\n",
    "\n",
    "本案例特殊之处在于需要自行定义PDE\n",
    "\n",
    "自定义PDE通过继承抽象基类(modulus.sym.eq.pde.PDE)实现"
   ]
  },
  {
   "cell_type": "code",
   "execution_count": 4,
   "id": "2dfb9246",
   "metadata": {},
   "outputs": [],
   "source": [
    "class SpringMass(PDE):\n",
    "    name = \"SpringMass\"\n",
    "\n",
    "    def __init__(self, k=(2, 1, 1, 2), m=(1, 1, 1)):\n",
    "        \n",
    "        # 劲度系数\n",
    "        self.k = k\n",
    "        # 质量\n",
    "        self.m = m\n",
    "\n",
    "        k1 = k[0]\n",
    "        k2 = k[1]\n",
    "        k3 = k[2]\n",
    "        k4 = k[3]\n",
    "        m1 = m[0]\n",
    "        m2 = m[1]\n",
    "        m3 = m[2]\n",
    "\n",
    "        t = Symbol(\"t\")\n",
    "        input_variables = {\"t\": t}\n",
    "\n",
    "        x1 = Function(\"x1\")(*input_variables)\n",
    "        x2 = Function(\"x2\")(*input_variables)\n",
    "        x3 = Function(\"x3\")(*input_variables)\n",
    "        \n",
    "        # 判断劲度系数是否是可学习参数\n",
    "        if type(k1) is str:\n",
    "            k1 = Function(k1)(*input_variables)\n",
    "        elif type(k1) in [float, int]:\n",
    "            k1 = Number(k1)\n",
    "        if type(k2) is str:\n",
    "            k2 = Function(k2)(*input_variables)\n",
    "        elif type(k2) in [float, int]:\n",
    "            k2 = Number(k2)\n",
    "        if type(k3) is str:\n",
    "            k3 = Function(k3)(*input_variables)\n",
    "        elif type(k3) in [float, int]:\n",
    "            k3 = Number(k3)\n",
    "        if type(k4) is str:\n",
    "            k4 = Function(k4)(*input_variables)\n",
    "        elif type(k4) in [float, int]:\n",
    "            k4 = Number(k4)\n",
    "\n",
    "        # 判断质量是否是可学习参数\n",
    "        if type(m1) is str:\n",
    "            m1 = Function(m1)(*input_variables)\n",
    "        elif type(m1) in [float, int]:\n",
    "            m1 = Number(m1)\n",
    "        if type(m2) is str:\n",
    "            m2 = Function(m2)(*input_variables)\n",
    "        elif type(m2) in [float, int]:\n",
    "            m2 = Number(m2)\n",
    "        if type(m3) is str:\n",
    "            m3 = Function(m3)(*input_variables)\n",
    "        elif type(m3) in [float, int]:\n",
    "            m3 = Number(m3)\n",
    "        \n",
    "        # ode方程组\n",
    "        self.equations = {}\n",
    "        self.equations[\"ode_x1\"] = m1 * (x1.diff(t)).diff(t) + k1 * x1 - k2 * (x2 - x1)\n",
    "        self.equations[\"ode_x2\"] = (\n",
    "            m2 * (x2.diff(t)).diff(t) + k2 * (x2 - x1) - k3 * (x3 - x2)\n",
    "        )\n",
    "        self.equations[\"ode_x3\"] = m3 * (x3.diff(t)).diff(t) + k3 * (x3 - x2) + k4 * x3\n",
    "\n",
    "sm = SpringMass(k=(2, 1, 1, 2), m=(1, 1, 1))"
   ]
  },
  {
   "cell_type": "markdown",
   "id": "1cbbd148",
   "metadata": {},
   "source": [
    "#### Model"
   ]
  },
  {
   "cell_type": "code",
   "execution_count": 5,
   "id": "374b5e2a",
   "metadata": {},
   "outputs": [
    {
     "name": "stdout",
     "output_type": "stream",
     "text": [
      "FullyConnectedArch(\n",
      "  (_impl): FullyConnectedArchCore(\n",
      "    (layers): ModuleList(\n",
      "      (0): FCLayer(\n",
      "        (linear): WeightNormLinear(in_features=1, out_features=512, bias=True)\n",
      "      )\n",
      "      (1-5): 5 x FCLayer(\n",
      "        (linear): WeightNormLinear(in_features=512, out_features=512, bias=True)\n",
      "      )\n",
      "    )\n",
      "    (final_layer): FCLayer(\n",
      "      (activation_fn): Identity()\n",
      "      (linear): Linear(in_features=512, out_features=3, bias=True)\n",
      "    )\n",
      "  )\n",
      ")\n"
     ]
    }
   ],
   "source": [
    "# 输入为时间坐标\n",
    "# 输出为三个质点的偏移量\n",
    "sm_net = instantiate_arch(\n",
    "        input_keys=[Key(\"t\")],\n",
    "        output_keys=[Key(\"x1\"), Key(\"x2\"), Key(\"x3\")],\n",
    "        cfg=cfg.arch.fully_connected,\n",
    "    )\n",
    "print(sm_net)\n",
    "\n",
    "nodes = sm.make_nodes() + [sm_net.make_node(name=\"spring_mass_network\")]"
   ]
  },
  {
   "cell_type": "markdown",
   "id": "ccef766c",
   "metadata": {},
   "source": [
    "#### Geo"
   ]
  },
  {
   "cell_type": "code",
   "execution_count": 6,
   "id": "9eaf8d93",
   "metadata": {},
   "outputs": [],
   "source": [
    "# 定义求解区域\n",
    "# 本问题中，x范围无明确定义，t范围为[0, 10]\n",
    "# 注意这里声明的特殊geo\n",
    "# 由于输入是t，输出是三个质点的坐标，因此不需要在空间上进行采样，因此设置为Point1D\n",
    "geo = Point1D(0)\n",
    "t_max = 10.0\n",
    "t_symbol = Symbol(\"t\")\n",
    "x = Symbol(\"x\")\n",
    "time_range = {t_symbol: (0, t_max)}"
   ]
  },
  {
   "cell_type": "markdown",
   "id": "6a63ef21",
   "metadata": {},
   "source": [
    "#### Domain\n",
    "\n",
    "在Domain中定义约束以及训练所需的各种组件"
   ]
  },
  {
   "cell_type": "code",
   "execution_count": 7,
   "id": "8d198dc7",
   "metadata": {},
   "outputs": [],
   "source": [
    "# make domain\n",
    "domain = Domain()"
   ]
  },
  {
   "cell_type": "markdown",
   "id": "17bdb21a",
   "metadata": {},
   "source": [
    "本求解无边界条件"
   ]
  },
  {
   "cell_type": "markdown",
   "id": "e9eba53d",
   "metadata": {},
   "source": [
    "#### 初始条件\n",
    "\n",
    "初始条件为三个质点的相对偏移量以及速度（$__t$）"
   ]
  },
  {
   "cell_type": "code",
   "execution_count": 8,
   "id": "c92693f3",
   "metadata": {},
   "outputs": [],
   "source": [
    "# initial condition\n",
    "IC = PointwiseBoundaryConstraint(\n",
    "        nodes=nodes,\n",
    "        geometry=geo,\n",
    "        outvar={\"x1\": 1.0, \"x2\": 0, \"x3\": 0, \"x1__t\": 0, \"x2__t\": 0, \"x3__t\": 0},\n",
    "        batch_size=cfg.batch_size.IC,\n",
    "        lambda_weighting={\n",
    "            \"x1\": 1.0,\n",
    "            \"x2\": 1.0,\n",
    "            \"x3\": 1.0,\n",
    "            \"x1__t\": 1.0,\n",
    "            \"x2__t\": 1.0,\n",
    "            \"x3__t\": 1.0,\n",
    "        },\n",
    "        parameterization={t_symbol: 0},\n",
    "    )\n",
    "domain.add_constraint(IC, name=\"IC\")"
   ]
  },
  {
   "cell_type": "markdown",
   "id": "77bca2b6",
   "metadata": {},
   "source": [
    "内部满足ODE约束"
   ]
  },
  {
   "cell_type": "code",
   "execution_count": 9,
   "id": "6459b72e",
   "metadata": {},
   "outputs": [],
   "source": [
    "# interior\n",
    "interior = PointwiseBoundaryConstraint(\n",
    "        nodes=nodes,\n",
    "        geometry=geo,\n",
    "        outvar={\"ode_x1\": 0.0, \"ode_x2\": 0.0, \"ode_x3\": 0.0},\n",
    "        batch_size=cfg.batch_size.interior,\n",
    "        parameterization=time_range,\n",
    "    )\n",
    "domain.add_constraint(interior, \"interior\")"
   ]
  },
  {
   "cell_type": "markdown",
   "id": "ab90e855",
   "metadata": {},
   "source": [
    "验证器以及其他必要组件"
   ]
  },
  {
   "cell_type": "code",
   "execution_count": 10,
   "id": "ae428955",
   "metadata": {},
   "outputs": [],
   "source": [
    "# 解析解\n",
    "deltaT = 0.001\n",
    "t = np.arange(0, t_max, deltaT)\n",
    "t = np.expand_dims(t, axis=-1)\n",
    "invar_numpy = {\"t\": t}\n",
    "outvar_numpy = {\n",
    "    \"x1\": (1 / 6) * np.cos(t) + (1 / 2) * np.cos(np.sqrt(3) * t) + (1 / 3) * np.cos(2 * t),\n",
    "    \"x2\": (2 / 6) * np.cos(t) + (0 / 2) * np.cos(np.sqrt(3) * t) - (1 / 3) * np.cos(2 * t),\n",
    "    \"x3\": (1 / 6) * np.cos(t) - (1 / 2) * np.cos(np.sqrt(3) * t) + (1 / 3) * np.cos(2 * t),\n",
    "}\n",
    "\n",
    "# validator\n",
    "validator = PointwiseValidator(\n",
    "    nodes=nodes, invar=invar_numpy, true_outvar=outvar_numpy, batch_size=1024\n",
    ")\n",
    "domain.add_validator(validator)"
   ]
  },
  {
   "cell_type": "markdown",
   "id": "a3d04b15",
   "metadata": {},
   "source": [
    "### 求解器以及求解"
   ]
  },
  {
   "cell_type": "code",
   "execution_count": 11,
   "id": "0b31422d",
   "metadata": {},
   "outputs": [],
   "source": [
    "# 定义求解器\n",
    "slv = Solver(cfg, domain)"
   ]
  },
  {
   "cell_type": "markdown",
   "id": "4bc83023",
   "metadata": {},
   "source": [
    "手动加载日志系统"
   ]
  },
  {
   "cell_type": "code",
   "execution_count": 12,
   "id": "c33340a2",
   "metadata": {},
   "outputs": [],
   "source": [
    "import logging\n",
    "# logging.getLogger().addHandler(logging.StreamHandler())\n",
    "logger = logging.getLogger()\n",
    "logger.setLevel(logging.INFO)\n",
    "\n",
    "# create console handler and set level to debug\n",
    "ch = logging.StreamHandler()\n",
    "ch.setLevel(logging.INFO)\n",
    "\n",
    "# create formatter\n",
    "formatter = logging.Formatter('%(asctime)s - %(name)s - %(levelname)s - %(message)s')\n",
    "\n",
    "# add formatter to ch\n",
    "ch.setFormatter(formatter)\n",
    "\n",
    "# add ch to logger\n",
    "logger.addHandler(ch)"
   ]
  },
  {
   "cell_type": "markdown",
   "id": "564dfda3",
   "metadata": {},
   "source": [
    "启动求解"
   ]
  },
  {
   "cell_type": "code",
   "execution_count": 13,
   "id": "7db52e12",
   "metadata": {},
   "outputs": [
    {
     "name": "stderr",
     "output_type": "stream",
     "text": [
      "2024-02-18 09:02:55,220 - modulus.sym.trainer - WARNING - Installed PyTorch version 2.2.0a0+81ea7a4 is not TorchScript supported in Modulus. Version 2.1.0a0+4136153 is officially supported.\n",
      "2024-02-18 09:02:55,226 - modulus.sym.trainer - INFO - attempting to restore from: /workspace/03_ODE_SpringMassSystem/outputs\n",
      "2024-02-18 09:02:55,227 - modulus.sym.trainer - WARNING - optimizer checkpoint not found\n",
      "2024-02-18 09:02:55,227 - modulus.sym.trainer - WARNING - model spring_mass_network.0.pth not found\n",
      "2024-02-18 09:02:56,301 - modulus.sym.trainer - INFO - [step:          0] record constraint batch time:  3.936e-02s\n",
      "2024-02-18 09:02:56,350 - modulus.sym.trainer - INFO - [step:          0] record validators time:  4.662e-02s\n",
      "2024-02-18 09:02:56,372 - modulus.sym.trainer - INFO - [step:          0] saved checkpoint to /workspace/03_ODE_SpringMassSystem/outputs\n",
      "2024-02-18 09:02:56,374 - modulus.sym.trainer - INFO - [step:          0] loss:  9.073e+00\n",
      "2024-02-18 09:02:57,990 - modulus.sym.trainer - INFO - Attempting cuda graph building, this may take a bit...\n",
      "2024-02-18 09:03:08,890 - modulus.sym.trainer - INFO - [step:        100] loss:  2.005e-01, time/iteration:  1.252e+02 ms\n",
      "2024-02-18 09:03:09,618 - modulus.sym.trainer - INFO - [step:        200] loss:  1.170e-01, time/iteration:  7.257e+00 ms\n",
      "2024-02-18 09:03:10,344 - modulus.sym.trainer - INFO - [step:        300] loss:  1.133e-01, time/iteration:  7.247e+00 ms\n",
      "2024-02-18 09:03:11,039 - modulus.sym.trainer - INFO - [step:        400] loss:  1.059e-01, time/iteration:  6.939e+00 ms\n",
      "2024-02-18 09:03:11,701 - modulus.sym.trainer - INFO - [step:        500] loss:  9.216e-02, time/iteration:  6.603e+00 ms\n",
      "2024-02-18 09:03:12,362 - modulus.sym.trainer - INFO - [step:        600] loss:  9.764e-02, time/iteration:  6.597e+00 ms\n",
      "2024-02-18 09:03:13,024 - modulus.sym.trainer - INFO - [step:        700] loss:  9.238e-02, time/iteration:  6.612e+00 ms\n",
      "2024-02-18 09:03:13,686 - modulus.sym.trainer - INFO - [step:        800] loss:  9.502e-02, time/iteration:  6.603e+00 ms\n",
      "2024-02-18 09:03:14,349 - modulus.sym.trainer - INFO - [step:        900] loss:  8.841e-02, time/iteration:  6.599e+00 ms\n",
      "2024-02-18 09:03:15,109 - modulus.sym.trainer - INFO - [step:       1000] record constraint batch time:  5.093e-02s\n",
      "2024-02-18 09:03:15,151 - modulus.sym.trainer - INFO - [step:       1000] record validators time:  4.000e-02s\n",
      "2024-02-18 09:03:15,183 - modulus.sym.trainer - INFO - [step:       1000] saved checkpoint to /workspace/03_ODE_SpringMassSystem/outputs\n",
      "2024-02-18 09:03:15,185 - modulus.sym.trainer - INFO - [step:       1000] loss:  8.772e-02, time/iteration:  8.353e+00 ms\n",
      "2024-02-18 09:03:15,852 - modulus.sym.trainer - INFO - [step:       1100] loss:  8.725e-02, time/iteration:  6.649e+00 ms\n",
      "2024-02-18 09:03:16,515 - modulus.sym.trainer - INFO - [step:       1200] loss:  8.294e-02, time/iteration:  6.618e+00 ms\n",
      "2024-02-18 09:03:17,178 - modulus.sym.trainer - INFO - [step:       1300] loss:  7.966e-02, time/iteration:  6.612e+00 ms\n",
      "2024-02-18 09:03:17,850 - modulus.sym.trainer - INFO - [step:       1400] loss:  8.362e-02, time/iteration:  6.711e+00 ms\n",
      "2024-02-18 09:03:18,511 - modulus.sym.trainer - INFO - [step:       1500] loss:  7.603e-02, time/iteration:  6.599e+00 ms\n",
      "2024-02-18 09:03:19,170 - modulus.sym.trainer - INFO - [step:       1600] loss:  7.021e-02, time/iteration:  6.578e+00 ms\n",
      "2024-02-18 09:03:19,828 - modulus.sym.trainer - INFO - [step:       1700] loss:  7.345e-02, time/iteration:  6.570e+00 ms\n",
      "2024-02-18 09:03:20,486 - modulus.sym.trainer - INFO - [step:       1800] loss:  7.154e-02, time/iteration:  6.571e+00 ms\n",
      "2024-02-18 09:03:21,144 - modulus.sym.trainer - INFO - [step:       1900] loss:  6.724e-02, time/iteration:  6.566e+00 ms\n",
      "2024-02-18 09:03:21,903 - modulus.sym.trainer - INFO - [step:       2000] record constraint batch time:  5.195e-02s\n",
      "2024-02-18 09:03:21,945 - modulus.sym.trainer - INFO - [step:       2000] record validators time:  4.056e-02s\n",
      "2024-02-18 09:03:21,975 - modulus.sym.trainer - INFO - [step:       2000] saved checkpoint to /workspace/03_ODE_SpringMassSystem/outputs\n",
      "2024-02-18 09:03:21,977 - modulus.sym.trainer - INFO - [step:       2000] loss:  7.364e-02, time/iteration:  8.316e+00 ms\n",
      "2024-02-18 09:03:22,640 - modulus.sym.trainer - INFO - [step:       2100] loss:  6.998e-02, time/iteration:  6.614e+00 ms\n",
      "2024-02-18 09:03:23,298 - modulus.sym.trainer - INFO - [step:       2200] loss:  7.011e-02, time/iteration:  6.571e+00 ms\n",
      "2024-02-18 09:03:23,956 - modulus.sym.trainer - INFO - [step:       2300] loss:  6.134e-02, time/iteration:  6.568e+00 ms\n",
      "2024-02-18 09:03:24,614 - modulus.sym.trainer - INFO - [step:       2400] loss:  6.042e-02, time/iteration:  6.570e+00 ms\n",
      "2024-02-18 09:03:25,273 - modulus.sym.trainer - INFO - [step:       2500] loss:  6.301e-02, time/iteration:  6.569e+00 ms\n",
      "2024-02-18 09:03:25,931 - modulus.sym.trainer - INFO - [step:       2600] loss:  6.480e-02, time/iteration:  6.574e+00 ms\n",
      "2024-02-18 09:03:26,590 - modulus.sym.trainer - INFO - [step:       2700] loss:  6.086e-02, time/iteration:  6.575e+00 ms\n",
      "2024-02-18 09:03:27,248 - modulus.sym.trainer - INFO - [step:       2800] loss:  6.418e-02, time/iteration:  6.568e+00 ms\n",
      "2024-02-18 09:03:27,905 - modulus.sym.trainer - INFO - [step:       2900] loss:  5.720e-02, time/iteration:  6.569e+00 ms\n",
      "2024-02-18 09:03:28,662 - modulus.sym.trainer - INFO - [step:       3000] record constraint batch time:  4.631e-02s\n",
      "2024-02-18 09:03:28,704 - modulus.sym.trainer - INFO - [step:       3000] record validators time:  4.000e-02s\n",
      "2024-02-18 09:03:28,734 - modulus.sym.trainer - INFO - [step:       3000] saved checkpoint to /workspace/03_ODE_SpringMassSystem/outputs\n",
      "2024-02-18 09:03:28,736 - modulus.sym.trainer - INFO - [step:       3000] loss:  6.047e-02, time/iteration:  8.287e+00 ms\n",
      "2024-02-18 09:03:29,399 - modulus.sym.trainer - INFO - [step:       3100] loss:  5.516e-02, time/iteration:  6.617e+00 ms\n",
      "2024-02-18 09:03:30,058 - modulus.sym.trainer - INFO - [step:       3200] loss:  5.226e-02, time/iteration:  6.577e+00 ms\n",
      "2024-02-18 09:03:30,717 - modulus.sym.trainer - INFO - [step:       3300] loss:  5.402e-02, time/iteration:  6.577e+00 ms\n",
      "2024-02-18 09:03:31,377 - modulus.sym.trainer - INFO - [step:       3400] loss:  5.490e-02, time/iteration:  6.584e+00 ms\n",
      "2024-02-18 09:03:32,036 - modulus.sym.trainer - INFO - [step:       3500] loss:  5.151e-02, time/iteration:  6.580e+00 ms\n",
      "2024-02-18 09:03:32,696 - modulus.sym.trainer - INFO - [step:       3600] loss:  4.979e-02, time/iteration:  6.581e+00 ms\n",
      "2024-02-18 09:03:33,355 - modulus.sym.trainer - INFO - [step:       3700] loss:  5.173e-02, time/iteration:  6.580e+00 ms\n",
      "2024-02-18 09:03:34,014 - modulus.sym.trainer - INFO - [step:       3800] loss:  4.716e-02, time/iteration:  6.582e+00 ms\n",
      "2024-02-18 09:03:34,673 - modulus.sym.trainer - INFO - [step:       3900] loss:  4.995e-02, time/iteration:  6.577e+00 ms\n",
      "2024-02-18 09:03:35,425 - modulus.sym.trainer - INFO - [step:       4000] record constraint batch time:  4.635e-02s\n",
      "2024-02-18 09:03:35,467 - modulus.sym.trainer - INFO - [step:       4000] record validators time:  3.974e-02s\n",
      "2024-02-18 09:03:35,497 - modulus.sym.trainer - INFO - [step:       4000] saved checkpoint to /workspace/03_ODE_SpringMassSystem/outputs\n",
      "2024-02-18 09:03:35,498 - modulus.sym.trainer - INFO - [step:       4000] loss:  4.402e-02, time/iteration:  8.234e+00 ms\n",
      "2024-02-18 09:03:36,160 - modulus.sym.trainer - INFO - [step:       4100] loss:  4.543e-02, time/iteration:  6.613e+00 ms\n",
      "2024-02-18 09:03:36,820 - modulus.sym.trainer - INFO - [step:       4200] loss:  4.097e-02, time/iteration:  6.577e+00 ms\n",
      "2024-02-18 09:03:37,480 - modulus.sym.trainer - INFO - [step:       4300] loss:  3.790e-02, time/iteration:  6.588e+00 ms\n",
      "2024-02-18 09:03:38,140 - modulus.sym.trainer - INFO - [step:       4400] loss:  3.875e-02, time/iteration:  6.583e+00 ms\n",
      "2024-02-18 09:03:38,798 - modulus.sym.trainer - INFO - [step:       4500] loss:  3.483e-02, time/iteration:  6.575e+00 ms\n",
      "2024-02-18 09:03:39,458 - modulus.sym.trainer - INFO - [step:       4600] loss:  3.333e-02, time/iteration:  6.580e+00 ms\n",
      "2024-02-18 09:03:40,116 - modulus.sym.trainer - INFO - [step:       4700] loss:  3.135e-02, time/iteration:  6.574e+00 ms\n"
     ]
    },
    {
     "name": "stderr",
     "output_type": "stream",
     "text": [
      "2024-02-18 09:03:40,775 - modulus.sym.trainer - INFO - [step:       4800] loss:  3.349e-02, time/iteration:  6.576e+00 ms\n",
      "2024-02-18 09:03:41,435 - modulus.sym.trainer - INFO - [step:       4900] loss:  2.735e-02, time/iteration:  6.582e+00 ms\n",
      "2024-02-18 09:03:42,186 - modulus.sym.trainer - INFO - [step:       5000] record constraint batch time:  4.641e-02s\n",
      "2024-02-18 09:03:42,227 - modulus.sym.trainer - INFO - [step:       5000] record validators time:  3.978e-02s\n",
      "2024-02-18 09:03:42,254 - modulus.sym.trainer - INFO - [step:       5000] saved checkpoint to /workspace/03_ODE_SpringMassSystem/outputs\n",
      "2024-02-18 09:03:42,256 - modulus.sym.trainer - INFO - [step:       5000] loss:  2.818e-02, time/iteration:  8.197e+00 ms\n",
      "2024-02-18 09:03:42,918 - modulus.sym.trainer - INFO - [step:       5100] loss:  2.774e-02, time/iteration:  6.614e+00 ms\n",
      "2024-02-18 09:03:43,578 - modulus.sym.trainer - INFO - [step:       5200] loss:  2.276e-02, time/iteration:  6.577e+00 ms\n",
      "2024-02-18 09:03:44,236 - modulus.sym.trainer - INFO - [step:       5300] loss:  1.913e-02, time/iteration:  6.573e+00 ms\n",
      "2024-02-18 09:03:44,894 - modulus.sym.trainer - INFO - [step:       5400] loss:  1.861e-02, time/iteration:  6.566e+00 ms\n",
      "2024-02-18 09:03:45,552 - modulus.sym.trainer - INFO - [step:       5500] loss:  2.103e-02, time/iteration:  6.568e+00 ms\n",
      "2024-02-18 09:03:46,215 - modulus.sym.trainer - INFO - [step:       5600] loss:  1.571e-02, time/iteration:  6.613e+00 ms\n",
      "2024-02-18 09:03:46,874 - modulus.sym.trainer - INFO - [step:       5700] loss:  1.505e-02, time/iteration:  6.577e+00 ms\n",
      "2024-02-18 09:03:47,534 - modulus.sym.trainer - INFO - [step:       5800] loss:  1.468e-02, time/iteration:  6.581e+00 ms\n",
      "2024-02-18 09:03:48,192 - modulus.sym.trainer - INFO - [step:       5900] loss:  1.198e-02, time/iteration:  6.573e+00 ms\n",
      "2024-02-18 09:03:48,947 - modulus.sym.trainer - INFO - [step:       6000] record constraint batch time:  4.627e-02s\n",
      "2024-02-18 09:03:48,989 - modulus.sym.trainer - INFO - [step:       6000] record validators time:  4.059e-02s\n",
      "2024-02-18 09:03:49,020 - modulus.sym.trainer - INFO - [step:       6000] saved checkpoint to /workspace/03_ODE_SpringMassSystem/outputs\n",
      "2024-02-18 09:03:49,021 - modulus.sym.trainer - INFO - [step:       6000] loss:  1.145e-02, time/iteration:  8.276e+00 ms\n",
      "2024-02-18 09:03:49,684 - modulus.sym.trainer - INFO - [step:       6100] loss:  1.158e-02, time/iteration:  6.613e+00 ms\n",
      "2024-02-18 09:03:50,344 - modulus.sym.trainer - INFO - [step:       6200] loss:  9.639e-03, time/iteration:  6.582e+00 ms\n",
      "2024-02-18 09:03:51,003 - modulus.sym.trainer - INFO - [step:       6300] loss:  8.268e-03, time/iteration:  6.580e+00 ms\n",
      "2024-02-18 09:03:51,662 - modulus.sym.trainer - INFO - [step:       6400] loss:  6.584e-03, time/iteration:  6.579e+00 ms\n",
      "2024-02-18 09:03:52,322 - modulus.sym.trainer - INFO - [step:       6500] loss:  6.642e-03, time/iteration:  6.584e+00 ms\n",
      "2024-02-18 09:03:52,981 - modulus.sym.trainer - INFO - [step:       6600] loss:  5.862e-03, time/iteration:  6.583e+00 ms\n",
      "2024-02-18 09:03:53,640 - modulus.sym.trainer - INFO - [step:       6700] loss:  5.899e-03, time/iteration:  6.575e+00 ms\n",
      "2024-02-18 09:03:54,299 - modulus.sym.trainer - INFO - [step:       6800] loss:  4.997e-03, time/iteration:  6.576e+00 ms\n",
      "2024-02-18 09:03:54,958 - modulus.sym.trainer - INFO - [step:       6900] loss:  4.740e-03, time/iteration:  6.576e+00 ms\n",
      "2024-02-18 09:03:55,708 - modulus.sym.trainer - INFO - [step:       7000] record constraint batch time:  4.376e-02s\n",
      "2024-02-18 09:03:55,750 - modulus.sym.trainer - INFO - [step:       7000] record validators time:  4.000e-02s\n",
      "2024-02-18 09:03:55,779 - modulus.sym.trainer - INFO - [step:       7000] saved checkpoint to /workspace/03_ODE_SpringMassSystem/outputs\n",
      "2024-02-18 09:03:55,781 - modulus.sym.trainer - INFO - [step:       7000] loss:  3.930e-03, time/iteration:  8.211e+00 ms\n",
      "2024-02-18 09:03:56,443 - modulus.sym.trainer - INFO - [step:       7100] loss:  3.789e-03, time/iteration:  6.611e+00 ms\n",
      "2024-02-18 09:03:57,101 - modulus.sym.trainer - INFO - [step:       7200] loss:  3.530e-03, time/iteration:  6.569e+00 ms\n",
      "2024-02-18 09:03:57,760 - modulus.sym.trainer - INFO - [step:       7300] loss:  2.890e-03, time/iteration:  6.573e+00 ms\n",
      "2024-02-18 09:03:58,419 - modulus.sym.trainer - INFO - [step:       7400] loss:  2.971e-03, time/iteration:  6.575e+00 ms\n",
      "2024-02-18 09:03:59,078 - modulus.sym.trainer - INFO - [step:       7500] loss:  2.241e-03, time/iteration:  6.579e+00 ms\n",
      "2024-02-18 09:03:59,737 - modulus.sym.trainer - INFO - [step:       7600] loss:  3.277e-03, time/iteration:  6.570e+00 ms\n",
      "2024-02-18 09:04:00,395 - modulus.sym.trainer - INFO - [step:       7700] loss:  2.745e-03, time/iteration:  6.569e+00 ms\n",
      "2024-02-18 09:04:01,053 - modulus.sym.trainer - INFO - [step:       7800] loss:  1.820e-03, time/iteration:  6.570e+00 ms\n",
      "2024-02-18 09:04:01,712 - modulus.sym.trainer - INFO - [step:       7900] loss:  2.551e-03, time/iteration:  6.575e+00 ms\n",
      "2024-02-18 09:04:02,464 - modulus.sym.trainer - INFO - [step:       8000] record constraint batch time:  4.334e-02s\n",
      "2024-02-18 09:04:02,506 - modulus.sym.trainer - INFO - [step:       8000] record validators time:  4.004e-02s\n",
      "2024-02-18 09:04:02,536 - modulus.sym.trainer - INFO - [step:       8000] saved checkpoint to /workspace/03_ODE_SpringMassSystem/outputs\n",
      "2024-02-18 09:04:02,537 - modulus.sym.trainer - INFO - [step:       8000] loss:  2.211e-03, time/iteration:  8.237e+00 ms\n",
      "2024-02-18 09:04:03,290 - modulus.sym.trainer - INFO - [step:       8100] loss:  1.525e-03, time/iteration:  7.516e+00 ms\n",
      "2024-02-18 09:04:04,047 - modulus.sym.trainer - INFO - [step:       8200] loss:  2.200e-03, time/iteration:  7.554e+00 ms\n",
      "2024-02-18 09:04:04,727 - modulus.sym.trainer - INFO - [step:       8300] loss:  1.459e-03, time/iteration:  6.785e+00 ms\n",
      "2024-02-18 09:04:05,383 - modulus.sym.trainer - INFO - [step:       8400] loss:  1.499e-03, time/iteration:  6.553e+00 ms\n",
      "2024-02-18 09:04:06,039 - modulus.sym.trainer - INFO - [step:       8500] loss:  1.146e-03, time/iteration:  6.548e+00 ms\n",
      "2024-02-18 09:04:06,696 - modulus.sym.trainer - INFO - [step:       8600] loss:  1.783e-03, time/iteration:  6.549e+00 ms\n",
      "2024-02-18 09:04:07,352 - modulus.sym.trainer - INFO - [step:       8700] loss:  9.423e-04, time/iteration:  6.552e+00 ms\n",
      "2024-02-18 09:04:08,009 - modulus.sym.trainer - INFO - [step:       8800] loss:  1.222e-03, time/iteration:  6.561e+00 ms\n",
      "2024-02-18 09:04:08,666 - modulus.sym.trainer - INFO - [step:       8900] loss:  1.166e-03, time/iteration:  6.554e+00 ms\n",
      "2024-02-18 09:04:09,414 - modulus.sym.trainer - INFO - [step:       9000] record constraint batch time:  4.430e-02s\n",
      "2024-02-18 09:04:09,455 - modulus.sym.trainer - INFO - [step:       9000] record validators time:  3.926e-02s\n",
      "2024-02-18 09:04:09,484 - modulus.sym.trainer - INFO - [step:       9000] saved checkpoint to /workspace/03_ODE_SpringMassSystem/outputs\n",
      "2024-02-18 09:04:09,486 - modulus.sym.trainer - INFO - [step:       9000] loss:  8.934e-04, time/iteration:  8.166e+00 ms\n",
      "2024-02-18 09:04:10,151 - modulus.sym.trainer - INFO - [step:       9100] loss:  1.171e-03, time/iteration:  6.646e+00 ms\n",
      "2024-02-18 09:04:10,810 - modulus.sym.trainer - INFO - [step:       9200] loss:  6.590e-04, time/iteration:  6.564e+00 ms\n",
      "2024-02-18 09:04:11,468 - modulus.sym.trainer - INFO - [step:       9300] loss:  1.416e-03, time/iteration:  6.565e+00 ms\n",
      "2024-02-18 09:04:12,125 - modulus.sym.trainer - INFO - [step:       9400] loss:  9.869e-04, time/iteration:  6.559e+00 ms\n",
      "2024-02-18 09:04:12,782 - modulus.sym.trainer - INFO - [step:       9500] loss:  7.843e-04, time/iteration:  6.559e+00 ms\n",
      "2024-02-18 09:04:13,440 - modulus.sym.trainer - INFO - [step:       9600] loss:  6.847e-04, time/iteration:  6.561e+00 ms\n",
      "2024-02-18 09:04:14,097 - modulus.sym.trainer - INFO - [step:       9700] loss:  4.840e-04, time/iteration:  6.561e+00 ms\n",
      "2024-02-18 09:04:14,754 - modulus.sym.trainer - INFO - [step:       9800] loss:  7.152e-04, time/iteration:  6.557e+00 ms\n",
      "2024-02-18 09:04:15,411 - modulus.sym.trainer - INFO - [step:       9900] loss:  9.841e-04, time/iteration:  6.553e+00 ms\n",
      "2024-02-18 09:04:16,158 - modulus.sym.trainer - INFO - [step:      10000] record constraint batch time:  4.509e-02s\n"
     ]
    },
    {
     "name": "stderr",
     "output_type": "stream",
     "text": [
      "2024-02-18 09:04:16,200 - modulus.sym.trainer - INFO - [step:      10000] record validators time:  4.016e-02s\n",
      "2024-02-18 09:04:16,228 - modulus.sym.trainer - INFO - [step:      10000] saved checkpoint to /workspace/03_ODE_SpringMassSystem/outputs\n",
      "2024-02-18 09:04:16,231 - modulus.sym.trainer - INFO - [step:      10000] loss:  6.549e-04, time/iteration:  8.180e+00 ms\n",
      "2024-02-18 09:04:16,231 - modulus.sym.trainer - INFO - [step:      10000] reached maximum training steps, finished training!\n"
     ]
    }
   ],
   "source": [
    "slv.solve()"
   ]
  },
  {
   "cell_type": "markdown",
   "id": "b1229838",
   "metadata": {},
   "source": [
    "### 后处理以及可视化\n",
    "\n",
    "对于jupyter，比较方便的方法是使用matplotlib\n",
    "\n",
    "此外，还可以使用tensorboard以及Paraview\n",
    "\n",
    "如果使用了PointwiseValidator则可以直接查看验证的结果"
   ]
  },
  {
   "cell_type": "code",
   "execution_count": 17,
   "id": "27c8fdf6",
   "metadata": {},
   "outputs": [
    {
     "data": {
      "image/png": "[encoded data removed]",
      "text/plain": [
       "<Figure size 640x480 with 1 Axes>"
      ]
     },
     "metadata": {},
     "output_type": "display_data"
    }
   ],
   "source": [
    "import numpy as np\n",
    "import matplotlib.pyplot as plt\n",
    "\n",
    "base_dir = \"outputs/validators/\"\n",
    "\n",
    "# plot in 1d\n",
    "data = np.load(base_dir + \"validator.npz\", allow_pickle=True)\n",
    "data = np.atleast_1d(data.f.arr_0)[0]\n",
    "\n",
    "plt.plot(data[\"t\"], data[\"true_x1\"], label=\"True x1\")\n",
    "plt.plot(data[\"t\"], data[\"true_x2\"], label=\"True x2\")\n",
    "plt.plot(data[\"t\"], data[\"true_x3\"], label=\"True x3\")\n",
    "plt.plot(data[\"t\"], data[\"pred_x1\"], label=\"Pred x1\")\n",
    "plt.plot(data[\"t\"], data[\"pred_x2\"], label=\"Pred x2\")\n",
    "plt.plot(data[\"t\"], data[\"pred_x3\"], label=\"Pred x3\")\n",
    "plt.legend()\n",
    "plt.show();"
   ]
  },
  {
   "cell_type": "markdown",
   "id": "33bcc5b8",
   "metadata": {},
   "source": [
    "预测结果和解析解匹配的很好"
   ]
  }
 ],
 "metadata": {
  "kernelspec": {
   "display_name": "Python 3 (ipykernel)",
   "language": "python",
   "name": "python3"
  },
  "language_info": {
   "codemirror_mode": {
    "name": "ipython",
    "version": 3
   },
   "file_extension": ".py",
   "mimetype": "text/x-python",
   "name": "python",
   "nbconvert_exporter": "python",
   "pygments_lexer": "ipython3",
   "version": "3.10.12"
  }
 },
 "nbformat": 4,
 "nbformat_minor": 5
}
