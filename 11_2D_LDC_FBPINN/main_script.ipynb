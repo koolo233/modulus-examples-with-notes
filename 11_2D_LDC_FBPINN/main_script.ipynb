{
 "cells": [
  {
   "cell_type": "markdown",
   "id": "d787cdb7",
   "metadata": {},
   "source": [
    "## 问题定义\n",
    "\n",
    "问题定义如下图，矩形求解区域，长宽为0.1m，上侧面为从左至右的1m/s的滑移边界，其他三个侧面为无滑移边界。雷诺数为10。\n",
    "![Problem](./resource/problem_define.png)\n",
    "\n",
    "对待求解问题的数学描述如下：\n",
    "![Equation](./resource/equation.png)\n",
    "\n",
    "其中，$u,v$分别为x方向速度，y方向速度，$p$为压强，$\\nu,\\rho$分别为运动粘度和密度。在本求解中定义$\\nu=0.01$，$\\rho=1.0$\n",
    "\n",
    "### 求解目标\n",
    "\n",
    "给定坐标$(x,y)$求解稳态结果（$u,v, p$）\n",
    "\n",
    "## FBPINN\n",
    "\n",
    "论文：Moseley, Ben, Andrew Markham, and Tarje Nissen-Meyer. \"Finite Basis Physics-Informed Neural Networks (FBPINNs): a scalable domain decomposition approach for solving differential equations.\" Advances in Computational Mathematics 49.4 (2023): 62.\n",
    "\n",
    "这个模型提出通过将PINN进行极细粒度的重叠分解从而解决全局PINN优化困难的问题\n"
   ]
  },
  {
   "cell_type": "markdown",
   "id": "77b4e6a5",
   "metadata": {},
   "source": [
    "## 求解"
   ]
  },
  {
   "cell_type": "code",
   "execution_count": 1,
   "id": "b1f223f4",
   "metadata": {},
   "outputs": [],
   "source": [
    "import os\n",
    "import warnings\n",
    "\n",
    "# optional\n",
    "# set appropriate GPU in case of multi-GPU machine\n",
    "os.environ[\"CUDA_DEVICE_ORDER\"]=\"PCI_BUS_ID\"\n",
    "os.environ[\"CUDA_VISIBLE_DEVICES\"]=\"2\""
   ]
  },
  {
   "cell_type": "code",
   "execution_count": 2,
   "id": "dd0cf1b9",
   "metadata": {},
   "outputs": [],
   "source": [
    "# 必要的符号运算\n",
    "from sympy import Symbol, Eq, Abs, tanh, lambdify\n",
    "\n",
    "import numpy as np\n",
    "\n",
    "import modulus.sym\n",
    "\n",
    "# 超参数\n",
    "from modulus.sym.hydra import to_yaml\n",
    "from modulus.sym.hydra import to_absolute_path, instantiate_arch, ModulusConfig\n",
    "from modulus.sym.hydra.utils import compose\n",
    "\n",
    "# 求解器\n",
    "from modulus.sym.solver import Solver\n",
    "\n",
    "# domain\n",
    "from modulus.sym.domain import Domain\n",
    "\n",
    "# 几何物体\n",
    "from modulus.sym.geometry.primitives_2d import Rectangle\n",
    "\n",
    "# 约束\n",
    "from modulus.sym.domain.constraint import (\n",
    "    PointwiseBoundaryConstraint,\n",
    "    PointwiseInteriorConstraint,\n",
    ")\n",
    "\n",
    "# validator\n",
    "from modulus.sym.domain.validator import PointwiseValidator\n",
    "\n",
    "# inferencer\n",
    "from modulus.sym.domain.inferencer import PointwiseInferencer\n",
    "from modulus.sym.key import Key\n",
    "\n",
    "# Equation\n",
    "from modulus.sym.eq.pdes.navier_stokes import NavierStokes\n",
    "\n",
    "# post process\n",
    "from modulus.sym.utils.io import (\n",
    "    csv_to_dict,\n",
    "    ValidatorPlotter,\n",
    "    InferencerPlotter,\n",
    ")\n",
    "import matplotlib.pyplot as plt\n",
    "\n",
    "from modulus.sym.node import Node"
   ]
  },
  {
   "cell_type": "code",
   "execution_count": 3,
   "id": "613f5d80",
   "metadata": {
    "scrolled": true
   },
   "outputs": [
    {
     "name": "stderr",
     "output_type": "stream",
     "text": [
      "/usr/local/lib/python3.10/dist-packages/modulus/sym/hydra/utils.py:148: UserWarning: \n",
      "The version_base parameter is not specified.\n",
      "Please specify a compatability version level, or None.\n",
      "Will assume defaults for version 1.1\n",
      "  hydra.initialize(\n"
     ]
    },
    {
     "name": "stdout",
     "output_type": "stream",
     "text": [
      "training:\n",
      "  max_steps: 10000\n",
      "  grad_agg_freq: 1\n",
      "  rec_results_freq: 1000\n",
      "  rec_validation_freq: 1000\n",
      "  rec_inference_freq: 2000\n",
      "  rec_monitor_freq: 1000\n",
      "  rec_constraint_freq: 2000\n",
      "  save_network_freq: 1000\n",
      "  print_stats_freq: 100\n",
      "  summary_freq: 1000\n",
      "  amp: false\n",
      "  amp_dtype: float16\n",
      "  ntk:\n",
      "    use_ntk: false\n",
      "    save_name: null\n",
      "    run_freq: 1000\n",
      "graph:\n",
      "  func_arch: true\n",
      "  func_arch_allow_partial_hessian: true\n",
      "stop_criterion:\n",
      "  metric: null\n",
      "  min_delta: null\n",
      "  patience: 50000\n",
      "  mode: min\n",
      "  freq: 1000\n",
      "  strict: false\n",
      "profiler:\n",
      "  profile: false\n",
      "  start_step: 0\n",
      "  end_step: 100\n",
      "  name: nvtx\n",
      "network_dir: outputs\n",
      "initialization_network_dir: ''\n",
      "save_filetypes: vtk,npz\n",
      "summary_histograms: false\n",
      "jit: true\n",
      "jit_use_nvfuser: true\n",
      "jit_arch_mode: only_activation\n",
      "jit_autograd_nodes: false\n",
      "cuda_graphs: true\n",
      "cuda_graph_warmup: 20\n",
      "find_unused_parameters: false\n",
      "broadcast_buffers: false\n",
      "device: ''\n",
      "debug: false\n",
      "run_mode: train\n",
      "arch:\n",
      "  fully_connected:\n",
      "    arch_type: fully_connected\n",
      "    input_keys: ???\n",
      "    output_keys: ???\n",
      "    detach_keys: ???\n",
      "    scaling: null\n",
      "    layer_size: 512\n",
      "    nr_layers: 6\n",
      "    skip_connections: false\n",
      "    activation_fn: silu\n",
      "    adaptive_activations: false\n",
      "    weight_norm: true\n",
      "models: ???\n",
      "loss:\n",
      "  _target_: modulus.sym.loss.aggregator.Sum\n",
      "  weights: null\n",
      "optimizer:\n",
      "  _params_:\n",
      "    compute_gradients: adam_compute_gradients\n",
      "    apply_gradients: adam_apply_gradients\n",
      "  _target_: torch.optim.Adam\n",
      "  lr: 0.001\n",
      "  betas:\n",
      "  - 0.9\n",
      "  - 0.999\n",
      "  eps: 1.0e-08\n",
      "  weight_decay: 0.0\n",
      "  amsgrad: false\n",
      "scheduler:\n",
      "  _target_: custom\n",
      "  _name_: tf.ExponentialLR\n",
      "  decay_rate: 0.95\n",
      "  decay_steps: 4000\n",
      "batch_size:\n",
      "  TopWall: 1000\n",
      "  NoSlip: 1000\n",
      "  Interior: 4000\n",
      "custom: ???\n",
      "\n"
     ]
    }
   ],
   "source": [
    "cfg = compose(config_path=\"conf\", config_name=\"config\")\n",
    "cfg.network_dir = 'outputs'    # Set the network directory for checkpoints\n",
    "print(to_yaml(cfg))"
   ]
  },
  {
   "cell_type": "markdown",
   "id": "14d70fc0",
   "metadata": {},
   "source": [
    "### 定义必要组件"
   ]
  },
  {
   "cell_type": "markdown",
   "id": "e575f4c2",
   "metadata": {},
   "source": [
    "#### PDE"
   ]
  },
  {
   "cell_type": "code",
   "execution_count": 4,
   "id": "e3ab702f",
   "metadata": {},
   "outputs": [],
   "source": [
    "ns = NavierStokes(nu=0.01, rho=1.0, dim=2, time=False)"
   ]
  },
  {
   "cell_type": "markdown",
   "id": "2ee27a28",
   "metadata": {},
   "source": [
    "#### Model"
   ]
  },
  {
   "cell_type": "code",
   "execution_count": 5,
   "id": "5a3af9d3",
   "metadata": {},
   "outputs": [],
   "source": [
    "\n",
    "# 定义简单的全连接网络\n",
    "# 输入为坐标x和y\n",
    "# 输出为两个方向的速度u,v以及压强p\n",
    "\n",
    "# 两个模型\n",
    "flow_net_1 = instantiate_arch(\n",
    "    input_keys=[Key(\"x\"), Key(\"y\")],\n",
    "    output_keys=[Key(\"u_1\"), Key(\"v_1\"), Key(\"p_1\")],\n",
    "    cfg=cfg.arch.fully_connected,\n",
    ")\n",
    "flow_net_2 = instantiate_arch(\n",
    "    input_keys=[Key(\"x\"), Key(\"y\")],\n",
    "    output_keys=[Key(\"u_2\"), Key(\"v_2\"), Key(\"p_2\")],\n",
    "    cfg=cfg.arch.fully_connected,\n",
    ")"
   ]
  },
  {
   "cell_type": "markdown",
   "id": "fd7eb39a",
   "metadata": {},
   "source": [
    "#### FBPINN必要组件\n",
    "\n",
    "叠加函数"
   ]
  },
  {
   "cell_type": "code",
   "execution_count": 6,
   "id": "db69d941",
   "metadata": {},
   "outputs": [],
   "source": [
    "x, y = Symbol(\"x\"), Symbol(\"y\")\n",
    "basis_function_1 = 0.5 * (tanh(25 * (0 - y)) + tanh(25 * (y + 1)))\n",
    "basis_function_2 = 0.5 * (tanh(25 * (1 - y)) + tanh(25 * (y + 0)))"
   ]
  },
  {
   "cell_type": "code",
   "execution_count": 7,
   "id": "936ae016",
   "metadata": {},
   "outputs": [
    {
     "data": {
      "image/png": "[encoded data removed]",
      "text/plain": [
       "<Figure size 640x480 with 1 Axes>"
      ]
     },
     "metadata": {},
     "output_type": "display_data"
    }
   ],
   "source": [
    "basis_function_1_lf = lambdify(y, basis_function_1, \"numpy\")\n",
    "basis_function_2_lf = lambdify(y, basis_function_2, \"numpy\")\n",
    "y_vals = np.linspace(-0.5, 0.5, 100)\n",
    "\n",
    "out_bf_1 = basis_function_1_lf(y_vals)\n",
    "out_bf_2 = basis_function_2_lf(y_vals)\n",
    "\n",
    "plt.figure()\n",
    "plt.plot(y_vals, out_bf_1, label=\"basis_function_1\", color=\"blue\")\n",
    "plt.plot(y_vals, out_bf_2, label=\"basis_function_2\", color=\"green\")\n",
    "\n",
    "plt.legend()\n",
    "plt.show()"
   ]
  },
  {
   "cell_type": "markdown",
   "id": "3e1baac1",
   "metadata": {},
   "source": [
    "#### 组合节点\n",
    "\n",
    "组合两个子模型的额外自定义节点"
   ]
  },
  {
   "cell_type": "code",
   "execution_count": 8,
   "id": "ebed82fb",
   "metadata": {},
   "outputs": [],
   "source": [
    "# nodes to merge the results of the two networks\n",
    "custom_nodes = [\n",
    "    Node.from_sympy(\n",
    "        Symbol(\"u_1\") * basis_function_1 + Symbol(\"u_2\") * basis_function_2,\n",
    "        \"u\",\n",
    "    )\n",
    "]\n",
    "custom_nodes += [\n",
    "    Node.from_sympy(\n",
    "        Symbol(\"v_1\") * basis_function_1 + Symbol(\"v_2\") * basis_function_2,\n",
    "        \"v\",\n",
    "    )\n",
    "]\n",
    "custom_nodes += [\n",
    "    Node.from_sympy(\n",
    "        Symbol(\"p_1\") * basis_function_1 + Symbol(\"p_2\") * basis_function_2,\n",
    "        \"p\",\n",
    "    )\n",
    "]"
   ]
  },
  {
   "cell_type": "code",
   "execution_count": 9,
   "id": "766ffb67",
   "metadata": {},
   "outputs": [],
   "source": [
    "nodes = (\n",
    "    ns.make_nodes()\n",
    "    + custom_nodes\n",
    "    + [flow_net_1.make_node(name=\"flow_network_1\")]\n",
    "    + [flow_net_2.make_node(name=\"flow_network_2\")]\n",
    ")"
   ]
  },
  {
   "cell_type": "markdown",
   "id": "a04c5f83",
   "metadata": {},
   "source": [
    "#### Geo"
   ]
  },
  {
   "cell_type": "code",
   "execution_count": 10,
   "id": "65384d3e",
   "metadata": {},
   "outputs": [],
   "source": [
    "# 长宽均为1的矩形\n",
    "height = 0.1\n",
    "width = 0.1\n",
    "x, y = Symbol(\"x\"), Symbol(\"y\")\n",
    "rec = Rectangle((-width / 2, -height / 2), (width / 2, height / 2))"
   ]
  },
  {
   "cell_type": "markdown",
   "id": "f52efd6c",
   "metadata": {},
   "source": [
    "#### Domain\n",
    "\n",
    "在Domain中定义约束以及训练所需的各种组件"
   ]
  },
  {
   "cell_type": "code",
   "execution_count": 11,
   "id": "2c7f0404",
   "metadata": {},
   "outputs": [],
   "source": [
    "# make ldc domain\n",
    "ldc_domain = Domain()"
   ]
  },
  {
   "cell_type": "markdown",
   "id": "84b59687",
   "metadata": {},
   "source": [
    "四个边界条件"
   ]
  },
  {
   "cell_type": "code",
   "execution_count": 12,
   "id": "b2dc4b9b",
   "metadata": {},
   "outputs": [],
   "source": [
    "# 顶部滑移边界\n",
    "# 水平速度为1.0，垂直速度为0\n",
    "# 注意lambda_weighting参数，这个参数定义了样本权重，在本示例中，约靠近边界，样本的权重越小\n",
    "# criteria定义了采样的位置\n",
    "# outvar定义了边界条件\n",
    "\n",
    "# 注意总点数\n",
    "# 这里的batch_size定义了每一个batch的采样数，\n",
    "# 此外还有一个参数是batch_per_epoch (default: 1000)\n",
    "# 实际的总采样数为batch_per_epoch * batch_size\n",
    "top_wall = PointwiseBoundaryConstraint(\n",
    "    nodes=nodes,\n",
    "    geometry=rec,\n",
    "    outvar={\"u\": 1.0, \"v\": 0},\n",
    "    batch_size=cfg.batch_size.TopWall,\n",
    "    lambda_weighting={\"u\": 1.0 - 20 * Abs(x), \"v\": 1.0},  # weight edges to be zero\n",
    "    criteria=Eq(y, height / 2),\n",
    ")\n",
    "ldc_domain.add_constraint(top_wall, \"top_wall\")\n",
    "\n",
    "# 左右以及下侧的无滑移边界\n",
    "no_slip = PointwiseBoundaryConstraint(\n",
    "    nodes=nodes,\n",
    "    geometry=rec,\n",
    "    outvar={\"u\": 0, \"v\": 0},\n",
    "    batch_size=cfg.batch_size.NoSlip,\n",
    "    criteria=y < height / 2,\n",
    ")\n",
    "ldc_domain.add_constraint(no_slip, \"no_slip\")"
   ]
  },
  {
   "cell_type": "markdown",
   "id": "687c086c",
   "metadata": {},
   "source": [
    "内部满足PDE约束"
   ]
  },
  {
   "cell_type": "code",
   "execution_count": 13,
   "id": "11798bcd",
   "metadata": {},
   "outputs": [],
   "source": [
    "# interior\n",
    "# 由于本求解中NS方程直接调用的模型，所以这里outvar直接使用了对应的key\n",
    "# 具体定义可参考modulus/eq/pdes/navier_stokes.py\n",
    "interior = PointwiseInteriorConstraint(\n",
    "    nodes=nodes,\n",
    "    geometry=rec,\n",
    "    outvar={\"continuity\": 0, \"momentum_x\": 0, \"momentum_y\": 0},\n",
    "    batch_size=cfg.batch_size.Interior,\n",
    "    lambda_weighting={\n",
    "        \"continuity\": Symbol(\"sdf\"),\n",
    "        \"momentum_x\": Symbol(\"sdf\"),\n",
    "        \"momentum_y\": Symbol(\"sdf\"),\n",
    "    },\n",
    ")\n",
    "ldc_domain.add_constraint(interior, \"interior\")"
   ]
  },
  {
   "cell_type": "markdown",
   "id": "33c0e57c",
   "metadata": {},
   "source": [
    "验证器以及其他必要组件"
   ]
  },
  {
   "cell_type": "code",
   "execution_count": 14,
   "id": "2a81d5dd",
   "metadata": {},
   "outputs": [],
   "source": [
    "# 数据目录\n",
    "file_path = \"openfoam/cavity_uniformVel0.csv\"\n",
    "if os.path.exists(to_absolute_path(file_path)):\n",
    "    mapping = {\"Points:0\": \"x\", \"Points:1\": \"y\", \"U:0\": \"u\", \"U:1\": \"v\", \"p\": \"p\"}\n",
    "    openfoam_var = csv_to_dict(to_absolute_path(file_path), mapping)\n",
    "    openfoam_var[\"x\"] += -width / 2  # center OpenFoam data\n",
    "    openfoam_var[\"y\"] += -height / 2  # center OpenFoam data\n",
    "    \n",
    "    # 输入数据\n",
    "    openfoam_invar_numpy = {\n",
    "        key: value for key, value in openfoam_var.items() if key in [\"x\", \"y\"]\n",
    "    }\n",
    "    # 输出数据\n",
    "    openfoam_outvar_numpy = {\n",
    "        key: value for key, value in openfoam_var.items() if key in [\"u\", \"v\"]\n",
    "    }\n",
    "    \n",
    "    # 创建validator\n",
    "    openfoam_validator = PointwiseValidator(\n",
    "        nodes=nodes,\n",
    "        invar=openfoam_invar_numpy,\n",
    "        true_outvar=openfoam_outvar_numpy,\n",
    "        batch_size=1024,\n",
    "        plotter=ValidatorPlotter(),\n",
    "    )\n",
    "    ldc_domain.add_validator(openfoam_validator)\n",
    "\n",
    "    # 创建inferencer\n",
    "    grid_inference = PointwiseInferencer(\n",
    "        nodes=nodes,\n",
    "        invar=openfoam_invar_numpy,\n",
    "        output_names=[\"u\", \"v\", \"p\"],\n",
    "        batch_size=1024,\n",
    "        plotter=InferencerPlotter(),\n",
    "    )\n",
    "    ldc_domain.add_inferencer(grid_inference, \"inf_data\")\n",
    "else:\n",
    "    warnings.warn(\n",
    "        f\"Directory {file_path} does not exist. Will skip adding validators. Please download the additional files from NGC https://catalog.ngc.nvidia.com/orgs/nvidia/teams/modulus/resources/modulus_sym_examples_supplemental_materials\"\n",
    "    )"
   ]
  },
  {
   "cell_type": "markdown",
   "id": "473c37fb",
   "metadata": {},
   "source": [
    "### 求解器以及求解"
   ]
  },
  {
   "cell_type": "code",
   "execution_count": 15,
   "id": "97b90486",
   "metadata": {},
   "outputs": [],
   "source": [
    "# 定义求解器\n",
    "slv = Solver(cfg, ldc_domain)"
   ]
  },
  {
   "cell_type": "markdown",
   "id": "ef9af551",
   "metadata": {},
   "source": [
    "手动加载日志系统"
   ]
  },
  {
   "cell_type": "code",
   "execution_count": 16,
   "id": "39932aa9",
   "metadata": {},
   "outputs": [],
   "source": [
    "import logging\n",
    "# logging.getLogger().addHandler(logging.StreamHandler())\n",
    "logger = logging.getLogger()\n",
    "logger.setLevel(logging.INFO)\n",
    "\n",
    "# create console handler and set level to debug\n",
    "ch = logging.StreamHandler()\n",
    "ch.setLevel(logging.INFO)\n",
    "\n",
    "# create formatter\n",
    "formatter = logging.Formatter('%(asctime)s - %(levelname)s - %(message)s')\n",
    "\n",
    "# add formatter to ch\n",
    "ch.setFormatter(formatter)\n",
    "\n",
    "# add ch to logger\n",
    "logger.addHandler(ch)"
   ]
  },
  {
   "cell_type": "markdown",
   "id": "bd8adfbd",
   "metadata": {},
   "source": [
    "启动求解"
   ]
  },
  {
   "cell_type": "code",
   "execution_count": 17,
   "id": "c9b2fdb2",
   "metadata": {
    "scrolled": true
   },
   "outputs": [
    {
     "name": "stderr",
     "output_type": "stream",
     "text": [
      "2024-02-27 09:45:01,427 - WARNING - Installed PyTorch version 2.2.0a0+81ea7a4 is not TorchScript supported in Modulus. Version 2.1.0a0+4136153 is officially supported.\n",
      "2024-02-27 09:45:01,436 - INFO - attempting to restore from: /workspace/11_2D_LDC_FBPINN/outputs\n",
      "2024-02-27 09:45:01,437 - WARNING - optimizer checkpoint not found\n",
      "2024-02-27 09:45:01,437 - WARNING - model flow_network_1.0.pth not found\n",
      "2024-02-27 09:45:01,437 - WARNING - model flow_network_2.0.pth not found\n",
      "2024-02-27 09:45:02,920 - INFO - [step:          0] record constraint batch time:  2.329e-01s\n",
      "2024-02-27 09:45:10,262 - INFO - [step:          0] record validators time:  7.340e+00s\n",
      "2024-02-27 09:45:15,326 - INFO - [step:          0] record inferencers time:  5.037e+00s\n",
      "2024-02-27 09:45:15,392 - INFO - [step:          0] saved checkpoint to /workspace/11_2D_LDC_FBPINN/outputs\n",
      "2024-02-27 09:45:15,393 - INFO - [step:          0] loss:  5.039e-02\n",
      "2024-02-27 09:45:18,402 - INFO - Attempting cuda graph building, this may take a bit...\n",
      "2024-02-27 09:45:35,040 - INFO - [step:        100] loss:  9.272e-03, time/iteration:  1.965e+02 ms\n",
      "2024-02-27 09:45:41,929 - INFO - [step:        200] loss:  5.528e-03, time/iteration:  6.887e+01 ms\n",
      "2024-02-27 09:45:48,730 - INFO - [step:        300] loss:  4.885e-03, time/iteration:  6.799e+01 ms\n",
      "2024-02-27 09:45:55,642 - INFO - [step:        400] loss:  3.470e-03, time/iteration:  6.909e+01 ms\n",
      "2024-02-27 09:46:02,448 - INFO - [step:        500] loss:  2.588e-03, time/iteration:  6.800e+01 ms\n",
      "2024-02-27 09:46:09,210 - INFO - [step:        600] loss:  2.450e-03, time/iteration:  6.759e+01 ms\n",
      "2024-02-27 09:46:15,944 - INFO - [step:        700] loss:  2.446e-03, time/iteration:  6.731e+01 ms\n",
      "2024-02-27 09:46:22,670 - INFO - [step:        800] loss:  2.078e-03, time/iteration:  6.724e+01 ms\n",
      "2024-02-27 09:46:29,448 - INFO - [step:        900] loss:  1.842e-03, time/iteration:  6.774e+01 ms\n",
      "2024-02-27 09:46:43,957 - INFO - [step:       1000] record validators time:  6.919e+00s\n",
      "2024-02-27 09:46:44,062 - INFO - [step:       1000] saved checkpoint to /workspace/11_2D_LDC_FBPINN/outputs\n",
      "2024-02-27 09:46:44,065 - INFO - [step:       1000] loss:  1.810e-03, time/iteration:  1.461e+02 ms\n",
      "2024-02-27 09:46:50,827 - INFO - [step:       1100] loss:  1.677e-03, time/iteration:  6.761e+01 ms\n",
      "2024-02-27 09:46:57,597 - INFO - [step:       1200] loss:  1.418e-03, time/iteration:  6.766e+01 ms\n",
      "2024-02-27 09:47:04,386 - INFO - [step:       1300] loss:  3.496e-03, time/iteration:  6.788e+01 ms\n",
      "2024-02-27 09:47:11,124 - INFO - [step:       1400] loss:  1.253e-03, time/iteration:  6.736e+01 ms\n",
      "2024-02-27 09:47:17,884 - INFO - [step:       1500] loss:  1.078e-03, time/iteration:  6.758e+01 ms\n",
      "2024-02-27 09:47:24,642 - INFO - [step:       1600] loss:  1.056e-03, time/iteration:  6.756e+01 ms\n",
      "2024-02-27 09:47:31,406 - INFO - [step:       1700] loss:  7.831e-04, time/iteration:  6.762e+01 ms\n",
      "2024-02-27 09:47:38,217 - INFO - [step:       1800] loss:  6.578e-04, time/iteration:  6.807e+01 ms\n",
      "2024-02-27 09:47:44,915 - INFO - [step:       1900] loss:  1.143e-03, time/iteration:  6.696e+01 ms\n",
      "2024-02-27 09:47:52,520 - INFO - [step:       2000] record constraint batch time:  2.028e-01s\n",
      "2024-02-27 09:47:59,390 - INFO - [step:       2000] record validators time:  6.866e+00s\n",
      "2024-02-27 09:48:04,166 - INFO - [step:       2000] record inferencers time:  4.744e+00s\n",
      "2024-02-27 09:48:04,235 - INFO - [step:       2000] saved checkpoint to /workspace/11_2D_LDC_FBPINN/outputs\n",
      "2024-02-27 09:48:04,237 - INFO - [step:       2000] loss:  4.862e-04, time/iteration:  1.932e+02 ms\n",
      "2024-02-27 09:48:10,849 - INFO - [step:       2100] loss:  5.347e-04, time/iteration:  6.611e+01 ms\n",
      "2024-02-27 09:48:17,509 - INFO - [step:       2200] loss:  9.259e-04, time/iteration:  6.658e+01 ms\n",
      "2024-02-27 09:48:24,164 - INFO - [step:       2300] loss:  3.842e-04, time/iteration:  6.654e+01 ms\n",
      "2024-02-27 09:48:30,828 - INFO - [step:       2400] loss:  4.959e-04, time/iteration:  6.663e+01 ms\n",
      "2024-02-27 09:48:37,536 - INFO - [step:       2500] loss:  4.359e-04, time/iteration:  6.706e+01 ms\n",
      "2024-02-27 09:48:44,154 - INFO - [step:       2600] loss:  8.717e-04, time/iteration:  6.616e+01 ms\n",
      "2024-02-27 09:48:50,767 - INFO - [step:       2700] loss:  4.421e-04, time/iteration:  6.610e+01 ms\n",
      "2024-02-27 09:48:57,374 - INFO - [step:       2800] loss:  4.241e-04, time/iteration:  6.605e+01 ms\n",
      "2024-02-27 09:49:03,993 - INFO - [step:       2900] loss:  3.159e-04, time/iteration:  6.618e+01 ms\n",
      "2024-02-27 09:49:18,258 - INFO - [step:       3000] record validators time:  6.853e+00s\n",
      "2024-02-27 09:49:18,313 - INFO - [step:       3000] saved checkpoint to /workspace/11_2D_LDC_FBPINN/outputs\n",
      "2024-02-27 09:49:18,315 - INFO - [step:       3000] loss:  3.875e-04, time/iteration:  1.432e+02 ms\n",
      "2024-02-27 09:49:24,921 - INFO - [step:       3100] loss:  7.640e-04, time/iteration:  6.604e+01 ms\n",
      "2024-02-27 09:49:31,600 - INFO - [step:       3200] loss:  5.096e-04, time/iteration:  6.677e+01 ms\n",
      "2024-02-27 09:49:38,226 - INFO - [step:       3300] loss:  2.592e-04, time/iteration:  6.624e+01 ms\n",
      "2024-02-27 09:49:44,829 - INFO - [step:       3400] loss:  4.398e-04, time/iteration:  6.602e+01 ms\n",
      "2024-02-27 09:49:51,435 - INFO - [step:       3500] loss:  2.646e-04, time/iteration:  6.604e+01 ms\n",
      "2024-02-27 09:49:58,044 - INFO - [step:       3600] loss:  2.418e-04, time/iteration:  6.607e+01 ms\n",
      "2024-02-27 09:50:04,645 - INFO - [step:       3700] loss:  3.819e-04, time/iteration:  6.600e+01 ms\n",
      "2024-02-27 09:50:11,282 - INFO - [step:       3800] loss:  6.798e-04, time/iteration:  6.635e+01 ms\n",
      "2024-02-27 09:50:17,893 - INFO - [step:       3900] loss:  2.756e-04, time/iteration:  6.610e+01 ms\n",
      "2024-02-27 09:50:25,388 - INFO - [step:       4000] record constraint batch time:  1.013e-01s\n",
      "2024-02-27 09:50:32,266 - INFO - [step:       4000] record validators time:  6.876e+00s\n",
      "2024-02-27 09:50:37,350 - INFO - [step:       4000] record inferencers time:  5.082e+00s\n",
      "2024-02-27 09:50:37,408 - INFO - [step:       4000] saved checkpoint to /workspace/11_2D_LDC_FBPINN/outputs\n",
      "2024-02-27 09:50:37,410 - INFO - [step:       4000] loss:  2.624e-04, time/iteration:  1.952e+02 ms\n",
      "2024-02-27 09:50:44,058 - INFO - [step:       4100] loss:  5.975e-04, time/iteration:  6.647e+01 ms\n",
      "2024-02-27 09:50:50,778 - INFO - [step:       4200] loss:  5.274e-04, time/iteration:  6.718e+01 ms\n",
      "2024-02-27 09:50:57,435 - INFO - [step:       4300] loss:  4.836e-04, time/iteration:  6.656e+01 ms\n",
      "2024-02-27 09:51:04,089 - INFO - [step:       4400] loss:  3.441e-04, time/iteration:  6.652e+01 ms\n",
      "2024-02-27 09:51:10,741 - INFO - [step:       4500] loss:  3.807e-04, time/iteration:  6.650e+01 ms\n",
      "2024-02-27 09:51:17,395 - INFO - [step:       4600] loss:  3.946e-04, time/iteration:  6.652e+01 ms\n",
      "2024-02-27 09:51:24,067 - INFO - [step:       4700] loss:  2.279e-04, time/iteration:  6.670e+01 ms\n",
      "2024-02-27 09:51:30,739 - INFO - [step:       4800] loss:  2.899e-04, time/iteration:  6.668e+01 ms\n",
      "2024-02-27 09:51:37,426 - INFO - [step:       4900] loss:  3.336e-04, time/iteration:  6.683e+01 ms\n",
      "2024-02-27 09:51:51,661 - INFO - [step:       5000] record validators time:  6.802e+00s\n",
      "2024-02-27 09:51:51,752 - INFO - [step:       5000] saved checkpoint to /workspace/11_2D_LDC_FBPINN/outputs\n",
      "2024-02-27 09:51:51,754 - INFO - [step:       5000] loss:  1.699e-04, time/iteration:  1.433e+02 ms\n",
      "2024-02-27 09:51:58,408 - INFO - [step:       5100] loss:  2.234e-04, time/iteration:  6.652e+01 ms\n",
      "2024-02-27 09:52:05,062 - INFO - [step:       5200] loss:  2.308e-04, time/iteration:  6.652e+01 ms\n",
      "2024-02-27 09:52:11,712 - INFO - [step:       5300] loss:  9.352e-04, time/iteration:  6.649e+01 ms\n",
      "2024-02-27 09:52:18,362 - INFO - [step:       5400] loss:  2.136e-04, time/iteration:  6.648e+01 ms\n",
      "2024-02-27 09:52:25,011 - INFO - [step:       5500] loss:  2.052e-04, time/iteration:  6.647e+01 ms\n",
      "2024-02-27 09:52:31,665 - INFO - [step:       5600] loss:  2.720e-04, time/iteration:  6.652e+01 ms\n",
      "2024-02-27 09:52:38,320 - INFO - [step:       5700] loss:  1.997e-04, time/iteration:  6.654e+01 ms\n",
      "2024-02-27 09:52:44,979 - INFO - [step:       5800] loss:  3.698e-04, time/iteration:  6.656e+01 ms\n",
      "2024-02-27 09:52:51,644 - INFO - [step:       5900] loss:  4.419e-04, time/iteration:  6.662e+01 ms\n"
     ]
    },
    {
     "name": "stderr",
     "output_type": "stream",
     "text": [
      "2024-02-27 09:52:59,183 - INFO - [step:       6000] record constraint batch time:  9.974e-02s\n",
      "2024-02-27 09:53:06,062 - INFO - [step:       6000] record validators time:  6.877e+00s\n",
      "2024-02-27 09:53:10,859 - INFO - [step:       6000] record inferencers time:  4.779e+00s\n",
      "2024-02-27 09:53:10,925 - INFO - [step:       6000] saved checkpoint to /workspace/11_2D_LDC_FBPINN/outputs\n",
      "2024-02-27 09:53:10,927 - INFO - [step:       6000] loss:  2.593e-04, time/iteration:  1.928e+02 ms\n",
      "2024-02-27 09:53:17,577 - INFO - [step:       6100] loss:  2.268e-04, time/iteration:  6.649e+01 ms\n",
      "2024-02-27 09:53:24,229 - INFO - [step:       6200] loss:  2.582e-04, time/iteration:  6.650e+01 ms\n",
      "2024-02-27 09:53:30,882 - INFO - [step:       6300] loss:  2.276e-04, time/iteration:  6.651e+01 ms\n",
      "2024-02-27 09:53:37,533 - INFO - [step:       6400] loss:  3.415e-04, time/iteration:  6.649e+01 ms\n",
      "2024-02-27 09:53:44,190 - INFO - [step:       6500] loss:  1.685e-04, time/iteration:  6.655e+01 ms\n",
      "2024-02-27 09:53:50,843 - INFO - [step:       6600] loss:  1.899e-04, time/iteration:  6.651e+01 ms\n",
      "2024-02-27 09:53:57,547 - INFO - [step:       6700] loss:  1.316e-04, time/iteration:  6.701e+01 ms\n",
      "2024-02-27 09:54:04,206 - INFO - [step:       6800] loss:  3.066e-04, time/iteration:  6.656e+01 ms\n",
      "2024-02-27 09:54:10,864 - INFO - [step:       6900] loss:  2.248e-04, time/iteration:  6.655e+01 ms\n",
      "2024-02-27 09:54:25,050 - INFO - [step:       7000] record validators time:  6.806e+00s\n",
      "2024-02-27 09:54:25,106 - INFO - [step:       7000] saved checkpoint to /workspace/11_2D_LDC_FBPINN/outputs\n",
      "2024-02-27 09:54:25,108 - INFO - [step:       7000] loss:  1.708e-04, time/iteration:  1.424e+02 ms\n",
      "2024-02-27 09:54:31,720 - INFO - [step:       7100] loss:  3.029e-04, time/iteration:  6.611e+01 ms\n",
      "2024-02-27 09:54:38,372 - INFO - [step:       7200] loss:  1.476e-04, time/iteration:  6.650e+01 ms\n",
      "2024-02-27 09:54:45,218 - INFO - [step:       7300] loss:  1.987e-04, time/iteration:  6.844e+01 ms\n",
      "2024-02-27 09:54:51,979 - INFO - [step:       7400] loss:  2.331e-04, time/iteration:  6.758e+01 ms\n",
      "2024-02-27 09:54:58,804 - INFO - [step:       7500] loss:  4.370e-04, time/iteration:  6.821e+01 ms\n",
      "2024-02-27 09:55:05,613 - INFO - [step:       7600] loss:  3.220e-04, time/iteration:  6.807e+01 ms\n",
      "2024-02-27 09:55:12,425 - INFO - [step:       7700] loss:  1.916e-04, time/iteration:  6.810e+01 ms\n",
      "2024-02-27 09:55:19,381 - INFO - [step:       7800] loss:  3.125e-04, time/iteration:  6.952e+01 ms\n",
      "2024-02-27 09:55:26,194 - INFO - [step:       7900] loss:  2.525e-04, time/iteration:  6.810e+01 ms\n",
      "2024-02-27 09:55:33,874 - INFO - [step:       8000] record constraint batch time:  9.657e-02s\n",
      "2024-02-27 09:55:40,856 - INFO - [step:       8000] record validators time:  6.980e+00s\n",
      "2024-02-27 09:55:45,698 - INFO - [step:       8000] record inferencers time:  4.830e+00s\n",
      "2024-02-27 09:55:45,770 - INFO - [step:       8000] saved checkpoint to /workspace/11_2D_LDC_FBPINN/outputs\n",
      "2024-02-27 09:55:45,772 - INFO - [step:       8000] loss:  1.062e-04, time/iteration:  1.958e+02 ms\n",
      "2024-02-27 09:55:52,561 - INFO - [step:       8100] loss:  1.847e-04, time/iteration:  6.786e+01 ms\n",
      "2024-02-27 09:55:59,289 - INFO - [step:       8200] loss:  1.275e-04, time/iteration:  6.727e+01 ms\n",
      "2024-02-27 09:56:06,063 - INFO - [step:       8300] loss:  5.482e-04, time/iteration:  6.772e+01 ms\n",
      "2024-02-27 09:56:12,791 - INFO - [step:       8400] loss:  1.447e-04, time/iteration:  6.723e+01 ms\n",
      "2024-02-27 09:56:19,515 - INFO - [step:       8500] loss:  1.666e-04, time/iteration:  6.722e+01 ms\n",
      "2024-02-27 09:56:26,238 - INFO - [step:       8600] loss:  1.811e-04, time/iteration:  6.721e+01 ms\n",
      "2024-02-27 09:56:32,961 - INFO - [step:       8700] loss:  2.734e-04, time/iteration:  6.722e+01 ms\n",
      "2024-02-27 09:56:39,685 - INFO - [step:       8800] loss:  9.006e-04, time/iteration:  6.722e+01 ms\n",
      "2024-02-27 09:56:46,410 - INFO - [step:       8900] loss:  2.691e-04, time/iteration:  6.722e+01 ms\n",
      "2024-02-27 09:57:01,066 - INFO - [step:       9000] record validators time:  7.177e+00s\n",
      "2024-02-27 09:57:01,122 - INFO - [step:       9000] saved checkpoint to /workspace/11_2D_LDC_FBPINN/outputs\n",
      "2024-02-27 09:57:01,125 - INFO - [step:       9000] loss:  1.726e-04, time/iteration:  1.471e+02 ms\n",
      "2024-02-27 09:57:07,855 - INFO - [step:       9100] loss:  1.209e-04, time/iteration:  6.728e+01 ms\n",
      "2024-02-27 09:57:14,613 - INFO - [step:       9200] loss:  1.834e-04, time/iteration:  6.755e+01 ms\n",
      "2024-02-27 09:57:21,328 - INFO - [step:       9300] loss:  1.752e-04, time/iteration:  6.713e+01 ms\n",
      "2024-02-27 09:57:28,053 - INFO - [step:       9400] loss:  1.411e-04, time/iteration:  6.723e+01 ms\n",
      "2024-02-27 09:57:34,781 - INFO - [step:       9500] loss:  1.090e-04, time/iteration:  6.726e+01 ms\n",
      "2024-02-27 09:57:41,498 - INFO - [step:       9600] loss:  2.174e-04, time/iteration:  6.715e+01 ms\n",
      "2024-02-27 09:57:48,213 - INFO - [step:       9700] loss:  1.417e-04, time/iteration:  6.714e+01 ms\n",
      "2024-02-27 09:57:54,925 - INFO - [step:       9800] loss:  2.030e-04, time/iteration:  6.710e+01 ms\n",
      "2024-02-27 09:58:01,639 - INFO - [step:       9900] loss:  1.681e-04, time/iteration:  6.712e+01 ms\n",
      "2024-02-27 09:58:09,226 - INFO - [step:      10000] record constraint batch time:  1.213e-01s\n",
      "2024-02-27 09:58:16,021 - INFO - [step:      10000] record validators time:  6.793e+00s\n",
      "2024-02-27 09:58:20,724 - INFO - [step:      10000] record inferencers time:  4.700e+00s\n",
      "2024-02-27 09:58:20,784 - INFO - [step:      10000] saved checkpoint to /workspace/11_2D_LDC_FBPINN/outputs\n",
      "2024-02-27 09:58:20,786 - INFO - [step:      10000] loss:  1.581e-04, time/iteration:  1.914e+02 ms\n",
      "2024-02-27 09:58:20,787 - INFO - [step:      10000] reached maximum training steps, finished training!\n"
     ]
    }
   ],
   "source": [
    "slv.solve()"
   ]
  },
  {
   "cell_type": "markdown",
   "id": "556674b9",
   "metadata": {},
   "source": [
    "### 后处理以及可视化\n",
    "\n",
    "对于jupyter，比较方便的方法是使用matplotlib\n",
    "\n",
    "此外，还可以使用tensorboard以及Paraview\n",
    "\n",
    "如果使用了PointwiseValidator则可以直接查看验证的结果：\n",
    "\n",
    "![u](./outputs/validators/validator_u.png)\n",
    "![v](./outputs/validators/validator_v.png)"
   ]
  }
 ],
 "metadata": {
  "kernelspec": {
   "display_name": "Python 3 (ipykernel)",
   "language": "python",
   "name": "python3"
  },
  "language_info": {
   "codemirror_mode": {
    "name": "ipython",
    "version": 3
   },
   "file_extension": ".py",
   "mimetype": "text/x-python",
   "name": "python",
   "nbconvert_exporter": "python",
   "pygments_lexer": "ipython3",
   "version": "3.10.12"
  }
 },
 "nbformat": 4,
 "nbformat_minor": 5
}
