{
 "cells": [
  {
   "cell_type": "markdown",
   "id": "d787cdb7",
   "metadata": {},
   "source": [
    "## 问题定义\n",
    "\n",
    "问题定义如下图，矩形求解区域，长宽为0.1m，上侧面为从左至右的1m/s的滑移边界，其他三个侧面为无滑移边界。雷诺数为10。\n",
    "![Problem](./resource/problem_define.png)\n",
    "\n",
    "对待求解问题的数学描述如下：\n",
    "![Equation](./resource/equation.png)\n",
    "\n",
    "其中，$u,v$分别为x方向速度，y方向速度，$p$为压强，$\\nu,\\rho$分别为运动粘度和密度。在本求解中定义$\\nu=0.01$，$\\rho=1.0$\n",
    "\n",
    "### 求解目标\n",
    "\n",
    "给定坐标$(x,y)$求解稳态结果（$u,v, p$）\n"
   ]
  },
  {
   "cell_type": "markdown",
   "id": "77b4e6a5",
   "metadata": {},
   "source": [
    "## 求解"
   ]
  },
  {
   "cell_type": "code",
   "execution_count": 9,
   "id": "b1f223f4",
   "metadata": {},
   "outputs": [],
   "source": [
    "import os\n",
    "import warnings\n",
    "\n",
    "# optional\n",
    "# set appropriate GPU in case of multi-GPU machine\n",
    "# os.environ[\"CUDA_DEVICE_ORDER\"]=\"PCI_BUS_ID\"\n",
    "# os.environ[\"CUDA_VISIBLE_DEVICES\"]=\"2\"\n",
    "\n",
    "# 必要的符号运算\n",
    "from sympy import Symbol, Eq, Abs\n",
    "\n",
    "import modulus.sym\n",
    "\n",
    "# 超参数\n",
    "from modulus.sym.hydra import to_yaml\n",
    "from modulus.sym.hydra import to_absolute_path, instantiate_arch, ModulusConfig\n",
    "from modulus.sym.hydra.utils import compose\n",
    "\n",
    "# 求解器\n",
    "from modulus.sym.solver import Solver\n",
    "\n",
    "# domain\n",
    "from modulus.sym.domain import Domain\n",
    "\n",
    "# 几何物体\n",
    "from modulus.sym.geometry.primitives_2d import Rectangle\n",
    "\n",
    "# 约束\n",
    "from modulus.sym.domain.constraint import (\n",
    "    PointwiseBoundaryConstraint,\n",
    "    PointwiseInteriorConstraint,\n",
    ")\n",
    "\n",
    "# validator\n",
    "from modulus.sym.domain.validator import PointwiseValidator\n",
    "\n",
    "# inferencer\n",
    "from modulus.sym.domain.inferencer import PointwiseInferencer\n",
    "from modulus.sym.key import Key\n",
    "\n",
    "# Equation\n",
    "from modulus.sym.eq.pdes.navier_stokes import NavierStokes\n",
    "\n",
    "# post process\n",
    "from modulus.sym.utils.io import (\n",
    "    csv_to_dict,\n",
    "    ValidatorPlotter,\n",
    "    InferencerPlotter,\n",
    ")\n",
    "import matplotlib.pyplot as plt"
   ]
  },
  {
   "cell_type": "markdown",
   "id": "edcd8b7a",
   "metadata": {},
   "source": [
    "### ModulusConfig or compose\n",
    "\n",
    "在一般的python script中，通常会使用ModulusConfig解析参数并具有如下的基本框架\n",
    "\n",
    "```python\n",
    "import modulus.sym\n",
    "from modulus.sym.hydra import to_yaml\n",
    "from modulus.sym.hydra.config import ModulusConfig\n",
    "\n",
    "@modulus.main(config_path=\"conf\", config_name=\"config\")\n",
    "def run(cfg: ModulusConfig) -> None:\n",
    "    print(to_yaml(cfg))\n",
    "\n",
    "if __name__ == \"__main__\":\n",
    "   run()\n",
    "\n",
    "```\n",
    "\n",
    "但是这一框架不大适合jupyter模式，原因在于上述框架对参数的解析以及传递是包裹形式的，不适合交互式编程。因此，在jupyter中更常用compose进行参数解析：\n",
    "\n",
    "```python\n",
    "import modulus.sym\n",
    "from modulus.sym.hydra import to_yaml\n",
    "from modulus.sym.hydra.utils import compose\n",
    "from modulus.sym.hydra.config import ModulusConfig\n",
    "\n",
    "cfg = compose(config_path=\"conf\", config_name=\"config\")\n",
    "cfg.network_dir = 'outputs'    # Set the network directory for checkpoints\n",
    "print(to_yaml(cfg))\n",
    "\n",
    "```\n",
    "即直接解析参数，不使用一般的hydra运行模式"
   ]
  },
  {
   "cell_type": "code",
   "execution_count": 4,
   "id": "613f5d80",
   "metadata": {
    "scrolled": true
   },
   "outputs": [
    {
     "name": "stderr",
     "output_type": "stream",
     "text": [
      "/usr/local/lib/python3.10/dist-packages/modulus/sym/hydra/utils.py:148: UserWarning: \n",
      "The version_base parameter is not specified.\n",
      "Please specify a compatability version level, or None.\n",
      "Will assume defaults for version 1.1\n",
      "  hydra.initialize(\n"
     ]
    },
    {
     "name": "stdout",
     "output_type": "stream",
     "text": [
      "training:\n",
      "  max_steps: 10000\n",
      "  grad_agg_freq: 1\n",
      "  rec_results_freq: 1000\n",
      "  rec_validation_freq: 1000\n",
      "  rec_inference_freq: 2000\n",
      "  rec_monitor_freq: 1000\n",
      "  rec_constraint_freq: 2000\n",
      "  save_network_freq: 1000\n",
      "  print_stats_freq: 100\n",
      "  summary_freq: 1000\n",
      "  amp: false\n",
      "  amp_dtype: float16\n",
      "  ntk:\n",
      "    use_ntk: false\n",
      "    save_name: null\n",
      "    run_freq: 1000\n",
      "graph:\n",
      "  func_arch: true\n",
      "  func_arch_allow_partial_hessian: true\n",
      "stop_criterion:\n",
      "  metric: null\n",
      "  min_delta: null\n",
      "  patience: 50000\n",
      "  mode: min\n",
      "  freq: 1000\n",
      "  strict: false\n",
      "profiler:\n",
      "  profile: false\n",
      "  start_step: 0\n",
      "  end_step: 100\n",
      "  name: nvtx\n",
      "network_dir: outputs\n",
      "initialization_network_dir: ''\n",
      "save_filetypes: vtk\n",
      "summary_histograms: false\n",
      "jit: true\n",
      "jit_use_nvfuser: true\n",
      "jit_arch_mode: only_activation\n",
      "jit_autograd_nodes: false\n",
      "cuda_graphs: true\n",
      "cuda_graph_warmup: 20\n",
      "find_unused_parameters: false\n",
      "broadcast_buffers: false\n",
      "device: ''\n",
      "debug: false\n",
      "run_mode: train\n",
      "arch:\n",
      "  fully_connected:\n",
      "    arch_type: fully_connected\n",
      "    input_keys: ???\n",
      "    output_keys: ???\n",
      "    detach_keys: ???\n",
      "    scaling: null\n",
      "    layer_size: 512\n",
      "    nr_layers: 6\n",
      "    skip_connections: false\n",
      "    activation_fn: silu\n",
      "    adaptive_activations: false\n",
      "    weight_norm: true\n",
      "models: ???\n",
      "loss:\n",
      "  _target_: modulus.sym.loss.aggregator.Sum\n",
      "  weights: null\n",
      "optimizer:\n",
      "  _params_:\n",
      "    compute_gradients: adam_compute_gradients\n",
      "    apply_gradients: adam_apply_gradients\n",
      "  _target_: torch.optim.Adam\n",
      "  lr: 0.001\n",
      "  betas:\n",
      "  - 0.9\n",
      "  - 0.999\n",
      "  eps: 1.0e-08\n",
      "  weight_decay: 0.0\n",
      "  amsgrad: false\n",
      "scheduler:\n",
      "  _target_: custom\n",
      "  _name_: tf.ExponentialLR\n",
      "  decay_rate: 0.95\n",
      "  decay_steps: 4000\n",
      "batch_size:\n",
      "  TopWall: 1000\n",
      "  NoSlip: 1000\n",
      "  Interior: 4000\n",
      "custom: ???\n",
      "\n"
     ]
    }
   ],
   "source": [
    "cfg = compose(config_path=\"conf\", config_name=\"config\")\n",
    "cfg.network_dir = 'outputs'    # Set the network directory for checkpoints\n",
    "print(to_yaml(cfg))"
   ]
  },
  {
   "cell_type": "markdown",
   "id": "14d70fc0",
   "metadata": {},
   "source": [
    "### 定义必要组件"
   ]
  },
  {
   "cell_type": "markdown",
   "id": "e575f4c2",
   "metadata": {},
   "source": [
    "#### PDE"
   ]
  },
  {
   "cell_type": "code",
   "execution_count": 5,
   "id": "e3ab702f",
   "metadata": {},
   "outputs": [],
   "source": [
    "ns = NavierStokes(nu=0.01, rho=1.0, dim=2, time=False)"
   ]
  },
  {
   "cell_type": "markdown",
   "id": "2ee27a28",
   "metadata": {},
   "source": [
    "#### Model"
   ]
  },
  {
   "cell_type": "code",
   "execution_count": 7,
   "id": "5a3af9d3",
   "metadata": {},
   "outputs": [
    {
     "name": "stdout",
     "output_type": "stream",
     "text": [
      "FullyConnectedArch(\n",
      "  (_impl): FullyConnectedArchCore(\n",
      "    (layers): ModuleList(\n",
      "      (0): FCLayer(\n",
      "        (linear): WeightNormLinear(in_features=2, out_features=512, bias=True)\n",
      "      )\n",
      "      (1-5): 5 x FCLayer(\n",
      "        (linear): WeightNormLinear(in_features=512, out_features=512, bias=True)\n",
      "      )\n",
      "    )\n",
      "    (final_layer): FCLayer(\n",
      "      (activation_fn): Identity()\n",
      "      (linear): Linear(in_features=512, out_features=3, bias=True)\n",
      "    )\n",
      "  )\n",
      ")\n"
     ]
    }
   ],
   "source": [
    "\n",
    "# 定义简单的全连接网络\n",
    "# 输入为坐标x和y\n",
    "# 输出为两个方向的速度u,v以及压强p\n",
    "flow_net = instantiate_arch(\n",
    "        input_keys=[Key(\"x\"), Key(\"y\")],\n",
    "        output_keys=[Key(\"u\"), Key(\"v\"), Key(\"p\")],\n",
    "        cfg=cfg.arch.fully_connected,\n",
    "    )\n",
    "print(flow_net)\n",
    "\n",
    "# 创建node集合\n",
    "nodes = ns.make_nodes() + [flow_net.make_node(name=\"flow_network\")]"
   ]
  },
  {
   "cell_type": "markdown",
   "id": "a04c5f83",
   "metadata": {},
   "source": [
    "#### Geo"
   ]
  },
  {
   "cell_type": "code",
   "execution_count": 8,
   "id": "65384d3e",
   "metadata": {},
   "outputs": [],
   "source": [
    "# 长宽均为1的矩形\n",
    "height = 0.1\n",
    "width = 0.1\n",
    "x, y = Symbol(\"x\"), Symbol(\"y\")\n",
    "rec = Rectangle((-width / 2, -height / 2), (width / 2, height / 2))"
   ]
  },
  {
   "cell_type": "code",
   "execution_count": 11,
   "id": "ec6d6edf",
   "metadata": {},
   "outputs": [
    {
     "data": {
      "image/png": "[encoded data removed]",
      "text/plain": [
       "<Figure size 640x480 with 1 Axes>"
      ]
     },
     "metadata": {},
     "output_type": "display_data"
    }
   ],
   "source": [
    "# 通过采样样本点能够可视化求解域的边界\n",
    "\n",
    "boundary_samples = rec.sample_boundary(1000)\n",
    "interior_samples = rec.sample_interior(1000)\n",
    "\n",
    "plt.figure()\n",
    "plt.scatter(boundary_samples['x'], boundary_samples['y'], label='Boundary')\n",
    "plt.scatter(interior_samples['x'], interior_samples['y'], label='Interior')\n",
    "plt.legend()\n",
    "plt.show()"
   ]
  },
  {
   "cell_type": "markdown",
   "id": "f52efd6c",
   "metadata": {},
   "source": [
    "#### Domain\n",
    "\n",
    "在Domain中定义约束以及训练所需的各种组件"
   ]
  },
  {
   "cell_type": "code",
   "execution_count": 12,
   "id": "2c7f0404",
   "metadata": {},
   "outputs": [],
   "source": [
    "# make ldc domain\n",
    "ldc_domain = Domain()"
   ]
  },
  {
   "cell_type": "markdown",
   "id": "84b59687",
   "metadata": {},
   "source": [
    "四个边界条件"
   ]
  },
  {
   "cell_type": "code",
   "execution_count": 13,
   "id": "b2dc4b9b",
   "metadata": {},
   "outputs": [],
   "source": [
    "# 顶部滑移边界\n",
    "# 水平速度为1.0，垂直速度为0\n",
    "# 注意lambda_weighting参数，这个参数定义了样本权重，在本示例中，约靠近边界，样本的权重越小\n",
    "# criteria定义了采样的位置\n",
    "# outvar定义了边界条件\n",
    "\n",
    "# 注意总点数\n",
    "# 这里的batch_size定义了每一个batch的采样数，\n",
    "# 此外还有一个参数是batch_per_epoch (default: 1000)\n",
    "# 实际的总采样数为batch_per_epoch * batch_size\n",
    "top_wall = PointwiseBoundaryConstraint(\n",
    "    nodes=nodes,\n",
    "    geometry=rec,\n",
    "    outvar={\"u\": 1.0, \"v\": 0},\n",
    "    batch_size=cfg.batch_size.TopWall,\n",
    "    lambda_weighting={\"u\": 1.0 - 20 * Abs(x), \"v\": 1.0},  # weight edges to be zero\n",
    "    criteria=Eq(y, height / 2),\n",
    ")\n",
    "ldc_domain.add_constraint(top_wall, \"top_wall\")\n",
    "\n",
    "# 左右以及下侧的无滑移边界\n",
    "no_slip = PointwiseBoundaryConstraint(\n",
    "    nodes=nodes,\n",
    "    geometry=rec,\n",
    "    outvar={\"u\": 0, \"v\": 0},\n",
    "    batch_size=cfg.batch_size.NoSlip,\n",
    "    criteria=y < height / 2,\n",
    ")\n",
    "ldc_domain.add_constraint(no_slip, \"no_slip\")"
   ]
  },
  {
   "cell_type": "markdown",
   "id": "687c086c",
   "metadata": {},
   "source": [
    "内部满足PDE约束"
   ]
  },
  {
   "cell_type": "code",
   "execution_count": 14,
   "id": "11798bcd",
   "metadata": {},
   "outputs": [],
   "source": [
    "# interior\n",
    "# 由于本求解中NS方程直接调用的模型，所以这里outvar直接使用了对应的key\n",
    "# 具体定义可参考modulus/eq/pdes/navier_stokes.py\n",
    "interior = PointwiseInteriorConstraint(\n",
    "    nodes=nodes,\n",
    "    geometry=rec,\n",
    "    outvar={\"continuity\": 0, \"momentum_x\": 0, \"momentum_y\": 0},\n",
    "    batch_size=cfg.batch_size.Interior,\n",
    "    lambda_weighting={\n",
    "        \"continuity\": Symbol(\"sdf\"),\n",
    "        \"momentum_x\": Symbol(\"sdf\"),\n",
    "        \"momentum_y\": Symbol(\"sdf\"),\n",
    "    },\n",
    ")\n",
    "ldc_domain.add_constraint(interior, \"interior\")"
   ]
  },
  {
   "cell_type": "markdown",
   "id": "33c0e57c",
   "metadata": {},
   "source": [
    "验证器以及其他必要组件"
   ]
  },
  {
   "cell_type": "code",
   "execution_count": null,
   "id": "2a81d5dd",
   "metadata": {},
   "outputs": [],
   "source": [
    "# 数据目录\n",
    "file_path = \"openfoam/cavity_uniformVel0.csv\"\n",
    "if os.path.exists(to_absolute_path(file_path)):\n",
    "    mapping = {\"Points:0\": \"x\", \"Points:1\": \"y\", \"U:0\": \"u\", \"U:1\": \"v\", \"p\": \"p\"}\n",
    "    openfoam_var = csv_to_dict(to_absolute_path(file_path), mapping)\n",
    "    openfoam_var[\"x\"] += -width / 2  # center OpenFoam data\n",
    "    openfoam_var[\"y\"] += -height / 2  # center OpenFoam data\n",
    "    \n",
    "    # 输入数据\n",
    "    openfoam_invar_numpy = {\n",
    "        key: value for key, value in openfoam_var.items() if key in [\"x\", \"y\"]\n",
    "    }\n",
    "    # 输出数据\n",
    "    openfoam_outvar_numpy = {\n",
    "        key: value for key, value in openfoam_var.items() if key in [\"u\", \"v\"]\n",
    "    }\n",
    "    \n",
    "    # 创建validator\n",
    "    openfoam_validator = PointwiseValidator(\n",
    "        nodes=nodes,\n",
    "        invar=openfoam_invar_numpy,\n",
    "        true_outvar=openfoam_outvar_numpy,\n",
    "        batch_size=1024,\n",
    "        plotter=ValidatorPlotter(),\n",
    "    )\n",
    "    ldc_domain.add_validator(openfoam_validator)\n",
    "\n",
    "    # 创建inferencer\n",
    "    grid_inference = PointwiseInferencer(\n",
    "        nodes=nodes,\n",
    "        invar=openfoam_invar_numpy,\n",
    "        output_names=[\"u\", \"v\", \"p\"],\n",
    "        batch_size=1024,\n",
    "        plotter=InferencerPlotter(),\n",
    "    )\n",
    "    ldc_domain.add_inferencer(grid_inference, \"inf_data\")\n",
    "else:\n",
    "    warnings.warn(\n",
    "        f\"Directory {file_path} does not exist. Will skip adding validators. Please download the additional files from NGC https://catalog.ngc.nvidia.com/orgs/nvidia/teams/modulus/resources/modulus_sym_examples_supplemental_materials\"\n",
    "    )"
   ]
  },
  {
   "cell_type": "markdown",
   "id": "473c37fb",
   "metadata": {},
   "source": [
    "### 求解器以及求解"
   ]
  },
  {
   "cell_type": "code",
   "execution_count": null,
   "id": "97b90486",
   "metadata": {},
   "outputs": [],
   "source": [
    "# 定义求解器\n",
    "slv = Solver(cfg, ldc_domain)"
   ]
  },
  {
   "cell_type": "markdown",
   "id": "ef9af551",
   "metadata": {},
   "source": [
    "手动加载日志系统"
   ]
  },
  {
   "cell_type": "code",
   "execution_count": null,
   "id": "39932aa9",
   "metadata": {},
   "outputs": [],
   "source": [
    "import logging\n",
    "logging.getLogger().addHandler(logging.StreamHandler())"
   ]
  },
  {
   "cell_type": "markdown",
   "id": "bd8adfbd",
   "metadata": {},
   "source": [
    "启动求解"
   ]
  },
  {
   "cell_type": "code",
   "execution_count": null,
   "id": "c9b2fdb2",
   "metadata": {},
   "outputs": [],
   "source": [
    "slv.solve()"
   ]
  },
  {
   "cell_type": "markdown",
   "id": "556674b9",
   "metadata": {},
   "source": [
    "### 后处理以及可视化\n",
    "\n",
    "对于jupyter，比较方便的方法是使用matplotlib\n",
    "\n",
    "此外，还可以使用tensorboard以及Paraview"
   ]
  },
  {
   "cell_type": "code",
   "execution_count": null,
   "id": "6a8fa400",
   "metadata": {},
   "outputs": [],
   "source": []
  }
 ],
 "metadata": {
  "kernelspec": {
   "display_name": "Python 3 (ipykernel)",
   "language": "python",
   "name": "python3"
  },
  "language_info": {
   "codemirror_mode": {
    "name": "ipython",
    "version": 3
   },
   "file_extension": ".py",
   "mimetype": "text/x-python",
   "name": "python",
   "nbconvert_exporter": "python",
   "pygments_lexer": "ipython3",
   "version": "3.10.12"
  }
 },
 "nbformat": 4,
 "nbformat_minor": 5
}
