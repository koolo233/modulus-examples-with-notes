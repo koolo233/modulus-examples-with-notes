{
 "cells": [
  {
   "cell_type": "markdown",
   "id": "d787cdb7",
   "metadata": {},
   "source": [
    "## 问题定义\n",
    "\n",
    "问题定义如下图，矩形求解区域，长宽为0.1m，上侧面为从左至右的1m/s的滑移边界，其他三个侧面为无滑移边界。雷诺数为10。\n",
    "![Problem](./resource/problem_define.png)\n",
    "\n",
    "对待求解问题的数学描述如下：\n",
    "![Equation](./resource/equation.png)\n",
    "\n",
    "其中，$u,v$分别为x方向速度，y方向速度，$p$为压强，$\\nu,\\rho$分别为运动粘度和密度。在本求解中定义$\\nu=0.01$，$\\rho=1.0$\n",
    "\n",
    "### 求解目标\n",
    "\n",
    "给定坐标$(x,y)$求解稳态结果（$u,v, p$）\n",
    "\n",
    "## Importance Sampling\n",
    "\n",
    "本例将引入重要性采样，从而实现加速\n"
   ]
  },
  {
   "cell_type": "markdown",
   "id": "77b4e6a5",
   "metadata": {},
   "source": [
    "## 求解"
   ]
  },
  {
   "cell_type": "code",
   "execution_count": 1,
   "id": "b1f223f4",
   "metadata": {},
   "outputs": [],
   "source": [
    "import os\n",
    "import warnings\n",
    "\n",
    "# optional\n",
    "# set appropriate GPU in case of multi-GPU machine\n",
    "os.environ[\"CUDA_DEVICE_ORDER\"]=\"PCI_BUS_ID\"\n",
    "os.environ[\"CUDA_VISIBLE_DEVICES\"]=\"2\""
   ]
  },
  {
   "cell_type": "code",
   "execution_count": 2,
   "id": "dd0cf1b9",
   "metadata": {},
   "outputs": [],
   "source": [
    "# 必要的符号运算\n",
    "from sympy import Symbol, Eq, Abs\n",
    "\n",
    "import modulus.sym\n",
    "\n",
    "# 超参数\n",
    "from modulus.sym.hydra import to_yaml\n",
    "from modulus.sym.hydra import to_absolute_path, instantiate_arch, ModulusConfig\n",
    "from modulus.sym.hydra.utils import compose\n",
    "\n",
    "# 求解器\n",
    "from modulus.sym.solver import Solver\n",
    "\n",
    "# domain\n",
    "from modulus.sym.domain import Domain\n",
    "\n",
    "# 几何物体\n",
    "from modulus.sym.geometry.primitives_2d import Rectangle\n",
    "\n",
    "# 约束\n",
    "from modulus.sym.domain.constraint import (\n",
    "    PointwiseBoundaryConstraint,\n",
    "    PointwiseInteriorConstraint,\n",
    ")\n",
    "\n",
    "# validator\n",
    "from modulus.sym.domain.validator import PointwiseValidator\n",
    "\n",
    "# inferencer\n",
    "from modulus.sym.domain.inferencer import PointwiseInferencer\n",
    "from modulus.sym.key import Key\n",
    "\n",
    "# Equation\n",
    "from modulus.sym.eq.pdes.navier_stokes import NavierStokes\n",
    "\n",
    "# 构建IS的必要组件\n",
    "from modulus.sym.graph import Graph\n",
    "from modulus.sym.domain.constraint import Constraint\n",
    "\n",
    "# post process\n",
    "from modulus.sym.utils.io import (\n",
    "    csv_to_dict,\n",
    "    ValidatorPlotter,\n",
    "    InferencerPlotter,\n",
    ")\n",
    "import matplotlib.pyplot as plt"
   ]
  },
  {
   "cell_type": "code",
   "execution_count": 3,
   "id": "613f5d80",
   "metadata": {
    "scrolled": true
   },
   "outputs": [
    {
     "name": "stderr",
     "output_type": "stream",
     "text": [
      "/usr/local/lib/python3.10/dist-packages/modulus/sym/hydra/utils.py:148: UserWarning: \n",
      "The version_base parameter is not specified.\n",
      "Please specify a compatability version level, or None.\n",
      "Will assume defaults for version 1.1\n",
      "  hydra.initialize(\n"
     ]
    },
    {
     "name": "stdout",
     "output_type": "stream",
     "text": [
      "training:\n",
      "  max_steps: 10000\n",
      "  grad_agg_freq: 1\n",
      "  rec_results_freq: 1000\n",
      "  rec_validation_freq: 1000\n",
      "  rec_inference_freq: 2000\n",
      "  rec_monitor_freq: 1000\n",
      "  rec_constraint_freq: 2000\n",
      "  save_network_freq: 1000\n",
      "  print_stats_freq: 100\n",
      "  summary_freq: 1000\n",
      "  amp: false\n",
      "  amp_dtype: float16\n",
      "  ntk:\n",
      "    use_ntk: false\n",
      "    save_name: null\n",
      "    run_freq: 1000\n",
      "graph:\n",
      "  func_arch: true\n",
      "  func_arch_allow_partial_hessian: true\n",
      "stop_criterion:\n",
      "  metric: null\n",
      "  min_delta: null\n",
      "  patience: 50000\n",
      "  mode: min\n",
      "  freq: 1000\n",
      "  strict: false\n",
      "profiler:\n",
      "  profile: false\n",
      "  start_step: 0\n",
      "  end_step: 100\n",
      "  name: nvtx\n",
      "network_dir: outputs\n",
      "initialization_network_dir: ''\n",
      "save_filetypes: vtk,npz\n",
      "summary_histograms: false\n",
      "jit: true\n",
      "jit_use_nvfuser: true\n",
      "jit_arch_mode: only_activation\n",
      "jit_autograd_nodes: false\n",
      "cuda_graphs: true\n",
      "cuda_graph_warmup: 20\n",
      "find_unused_parameters: false\n",
      "broadcast_buffers: false\n",
      "device: ''\n",
      "debug: false\n",
      "run_mode: train\n",
      "arch:\n",
      "  fully_connected:\n",
      "    arch_type: fully_connected\n",
      "    input_keys: ???\n",
      "    output_keys: ???\n",
      "    detach_keys: ???\n",
      "    scaling: null\n",
      "    layer_size: 512\n",
      "    nr_layers: 6\n",
      "    skip_connections: false\n",
      "    activation_fn: silu\n",
      "    adaptive_activations: false\n",
      "    weight_norm: true\n",
      "models: ???\n",
      "loss:\n",
      "  _target_: modulus.sym.loss.aggregator.Sum\n",
      "  weights: null\n",
      "optimizer:\n",
      "  _params_:\n",
      "    compute_gradients: adam_compute_gradients\n",
      "    apply_gradients: adam_apply_gradients\n",
      "  _target_: torch.optim.Adam\n",
      "  lr: 0.001\n",
      "  betas:\n",
      "  - 0.9\n",
      "  - 0.999\n",
      "  eps: 1.0e-08\n",
      "  weight_decay: 0.0\n",
      "  amsgrad: false\n",
      "scheduler:\n",
      "  _target_: custom\n",
      "  _name_: tf.ExponentialLR\n",
      "  decay_rate: 0.95\n",
      "  decay_steps: 4000\n",
      "batch_size:\n",
      "  TopWall: 1000\n",
      "  NoSlip: 1000\n",
      "  Interior: 4000\n",
      "custom: ???\n",
      "\n"
     ]
    }
   ],
   "source": [
    "cfg = compose(config_path=\"conf\", config_name=\"config\")\n",
    "cfg.network_dir = 'outputs'    # Set the network directory for checkpoints\n",
    "print(to_yaml(cfg))"
   ]
  },
  {
   "cell_type": "markdown",
   "id": "14d70fc0",
   "metadata": {},
   "source": [
    "### 定义必要组件"
   ]
  },
  {
   "cell_type": "markdown",
   "id": "e575f4c2",
   "metadata": {},
   "source": [
    "#### PDE"
   ]
  },
  {
   "cell_type": "code",
   "execution_count": 4,
   "id": "e3ab702f",
   "metadata": {},
   "outputs": [],
   "source": [
    "ns = NavierStokes(nu=0.01, rho=1.0, dim=2, time=False)"
   ]
  },
  {
   "cell_type": "markdown",
   "id": "2ee27a28",
   "metadata": {},
   "source": [
    "#### Model"
   ]
  },
  {
   "cell_type": "code",
   "execution_count": 5,
   "id": "5a3af9d3",
   "metadata": {},
   "outputs": [
    {
     "name": "stdout",
     "output_type": "stream",
     "text": [
      "FullyConnectedArch(\n",
      "  (_impl): FullyConnectedArchCore(\n",
      "    (layers): ModuleList(\n",
      "      (0): FCLayer(\n",
      "        (linear): WeightNormLinear(in_features=2, out_features=512, bias=True)\n",
      "      )\n",
      "      (1-5): 5 x FCLayer(\n",
      "        (linear): WeightNormLinear(in_features=512, out_features=512, bias=True)\n",
      "      )\n",
      "    )\n",
      "    (final_layer): FCLayer(\n",
      "      (activation_fn): Identity()\n",
      "      (linear): Linear(in_features=512, out_features=3, bias=True)\n",
      "    )\n",
      "  )\n",
      ")\n"
     ]
    }
   ],
   "source": [
    "\n",
    "# 定义简单的全连接网络\n",
    "# 输入为坐标x和y\n",
    "# 输出为两个方向的速度u,v以及压强p\n",
    "flow_net = instantiate_arch(\n",
    "        input_keys=[Key(\"x\"), Key(\"y\")],\n",
    "        output_keys=[Key(\"u\"), Key(\"v\"), Key(\"p\")],\n",
    "        cfg=cfg.arch.fully_connected,\n",
    "    )\n",
    "print(flow_net)\n",
    "\n",
    "# 创建node集合\n",
    "nodes = ns.make_nodes() + [flow_net.make_node(name=\"flow_network\")]"
   ]
  },
  {
   "cell_type": "markdown",
   "id": "10f82f59",
   "metadata": {},
   "source": [
    "#### Importance Sampling Graph\n",
    "\n",
    "在Modulus中使用IS需要定义对应的计算图和度量方法"
   ]
  },
  {
   "cell_type": "code",
   "execution_count": 6,
   "id": "27f91278",
   "metadata": {},
   "outputs": [],
   "source": [
    "# 定义计算图\n",
    "# 用于计算进行重要性度量的必要参数\n",
    "importance_model_graph = Graph(\n",
    "        nodes,\n",
    "        invar=[Key(\"x\"), Key(\"y\")],\n",
    "        req_names=[\n",
    "            Key(\"u\", derivatives=[Key(\"x\")]),\n",
    "            Key(\"u\", derivatives=[Key(\"y\")]),\n",
    "            Key(\"v\", derivatives=[Key(\"x\")]),\n",
    "            Key(\"v\", derivatives=[Key(\"y\")]),\n",
    "        ],\n",
    "    ).to('cuda')"
   ]
  },
  {
   "cell_type": "code",
   "execution_count": 7,
   "id": "66c0ab79",
   "metadata": {},
   "outputs": [],
   "source": [
    "# 定义重要性度量方法\n",
    "def importance_measure(invar):\n",
    "        outvar = importance_model_graph(\n",
    "            Constraint._set_device(invar, device='cuda', requires_grad=True)\n",
    "        )\n",
    "        importance = (\n",
    "            outvar[\"u__x\"] ** 2\n",
    "            + outvar[\"u__y\"] ** 2\n",
    "            + outvar[\"v__x\"] ** 2\n",
    "            + outvar[\"v__y\"] ** 2\n",
    "        ) ** 0.5 + 10\n",
    "        return importance.cpu().detach().numpy()"
   ]
  },
  {
   "cell_type": "markdown",
   "id": "a04c5f83",
   "metadata": {},
   "source": [
    "#### Geo"
   ]
  },
  {
   "cell_type": "code",
   "execution_count": 8,
   "id": "65384d3e",
   "metadata": {},
   "outputs": [],
   "source": [
    "# 长宽均为1的矩形\n",
    "height = 0.1\n",
    "width = 0.1\n",
    "x, y = Symbol(\"x\"), Symbol(\"y\")\n",
    "rec = Rectangle((-width / 2, -height / 2), (width / 2, height / 2))"
   ]
  },
  {
   "cell_type": "markdown",
   "id": "f52efd6c",
   "metadata": {},
   "source": [
    "#### Domain\n",
    "\n",
    "在Domain中定义约束以及训练所需的各种组件"
   ]
  },
  {
   "cell_type": "code",
   "execution_count": 9,
   "id": "2c7f0404",
   "metadata": {},
   "outputs": [],
   "source": [
    "# make ldc domain\n",
    "ldc_domain = Domain()"
   ]
  },
  {
   "cell_type": "markdown",
   "id": "84b59687",
   "metadata": {},
   "source": [
    "#### 边界条件\n",
    "\n",
    "四个边界条件"
   ]
  },
  {
   "cell_type": "code",
   "execution_count": 10,
   "id": "b2dc4b9b",
   "metadata": {},
   "outputs": [],
   "source": [
    "# 顶部滑移边界\n",
    "# 水平速度为1.0，垂直速度为0\n",
    "# 注意lambda_weighting参数，这个参数定义了样本权重，在本示例中，约靠近边界，样本的权重越小\n",
    "# criteria定义了采样的位置\n",
    "# outvar定义了边界条件\n",
    "top_wall = PointwiseBoundaryConstraint(\n",
    "    nodes=nodes,\n",
    "    geometry=rec,\n",
    "    outvar={\"u\": 1.0, \"v\": 0},\n",
    "    batch_size=cfg.batch_size.TopWall,\n",
    "    lambda_weighting={\"u\": 1.0 - 20 * Abs(x), \"v\": 1.0},  # weight edges to be zero\n",
    "    criteria=Eq(y, height / 2),\n",
    "    importance_measure=importance_measure,  # 引入重要性度量模块\n",
    ")\n",
    "ldc_domain.add_constraint(top_wall, \"top_wall\")\n",
    "\n",
    "# 左右以及下侧的无滑移边界\n",
    "no_slip = PointwiseBoundaryConstraint(\n",
    "    nodes=nodes,\n",
    "    geometry=rec,\n",
    "    outvar={\"u\": 0, \"v\": 0},\n",
    "    batch_size=cfg.batch_size.NoSlip,\n",
    "    criteria=y < height / 2,\n",
    "    importance_measure=importance_measure,  # 引入重要性度量模块\n",
    ")\n",
    "ldc_domain.add_constraint(no_slip, \"no_slip\")"
   ]
  },
  {
   "cell_type": "markdown",
   "id": "687c086c",
   "metadata": {},
   "source": [
    "#### PDE约束\n",
    "\n",
    "内部满足PDE约束"
   ]
  },
  {
   "cell_type": "code",
   "execution_count": 11,
   "id": "11798bcd",
   "metadata": {},
   "outputs": [],
   "source": [
    "# interior\n",
    "# 由于本求解中NS方程直接调用的模型，所以这里outvar直接使用了对应的key\n",
    "# 具体定义可参考modulus/eq/pdes/navier_stokes.py\n",
    "interior = PointwiseInteriorConstraint(\n",
    "    nodes=nodes,\n",
    "    geometry=rec,\n",
    "    outvar={\"continuity\": 0, \"momentum_x\": 0, \"momentum_y\": 0},\n",
    "    batch_size=cfg.batch_size.Interior,\n",
    "    lambda_weighting={\n",
    "        \"continuity\": Symbol(\"sdf\"),\n",
    "        \"momentum_x\": Symbol(\"sdf\"),\n",
    "        \"momentum_y\": Symbol(\"sdf\"),\n",
    "    },\n",
    "    importance_measure=importance_measure,  # 引入重要性度量模块\n",
    ")\n",
    "ldc_domain.add_constraint(interior, \"interior\")"
   ]
  },
  {
   "cell_type": "markdown",
   "id": "33c0e57c",
   "metadata": {},
   "source": [
    "#### Validator & Inferencer\n",
    "\n",
    "验证器以及其他必要组件"
   ]
  },
  {
   "cell_type": "code",
   "execution_count": 12,
   "id": "2a81d5dd",
   "metadata": {},
   "outputs": [],
   "source": [
    "# 数据目录\n",
    "file_path = \"openfoam/cavity_uniformVel0.csv\"\n",
    "if os.path.exists(to_absolute_path(file_path)):\n",
    "    mapping = {\"Points:0\": \"x\", \"Points:1\": \"y\", \"U:0\": \"u\", \"U:1\": \"v\", \"p\": \"p\"}\n",
    "    openfoam_var = csv_to_dict(to_absolute_path(file_path), mapping)\n",
    "    openfoam_var[\"x\"] += -width / 2  # center OpenFoam data\n",
    "    openfoam_var[\"y\"] += -height / 2  # center OpenFoam data\n",
    "    \n",
    "    # 输入数据\n",
    "    openfoam_invar_numpy = {\n",
    "        key: value for key, value in openfoam_var.items() if key in [\"x\", \"y\"]\n",
    "    }\n",
    "    # 输出数据\n",
    "    openfoam_outvar_numpy = {\n",
    "        key: value for key, value in openfoam_var.items() if key in [\"u\", \"v\"]\n",
    "    }\n",
    "    \n",
    "    # 创建validator\n",
    "    openfoam_validator = PointwiseValidator(\n",
    "        nodes=nodes,\n",
    "        invar=openfoam_invar_numpy,\n",
    "        true_outvar=openfoam_outvar_numpy,\n",
    "        batch_size=1024,\n",
    "        plotter=ValidatorPlotter(),\n",
    "    )\n",
    "    ldc_domain.add_validator(openfoam_validator)\n",
    "\n",
    "    # 创建inferencer\n",
    "    grid_inference = PointwiseInferencer(\n",
    "        nodes=nodes,\n",
    "        invar=openfoam_invar_numpy,\n",
    "        output_names=[\"u\", \"v\", \"p\"],\n",
    "        batch_size=1024,\n",
    "        plotter=InferencerPlotter(),\n",
    "    )\n",
    "    ldc_domain.add_inferencer(grid_inference, \"inf_data\")\n",
    "else:\n",
    "    warnings.warn(\n",
    "        f\"Directory {file_path} does not exist. Will skip adding validators. Please download the additional files from NGC https://catalog.ngc.nvidia.com/orgs/nvidia/teams/modulus/resources/modulus_sym_examples_supplemental_materials\"\n",
    "    )"
   ]
  },
  {
   "cell_type": "markdown",
   "id": "473c37fb",
   "metadata": {},
   "source": [
    "### 求解器以及求解"
   ]
  },
  {
   "cell_type": "code",
   "execution_count": 13,
   "id": "97b90486",
   "metadata": {},
   "outputs": [],
   "source": [
    "# 定义求解器\n",
    "slv = Solver(cfg, ldc_domain)"
   ]
  },
  {
   "cell_type": "markdown",
   "id": "ef9af551",
   "metadata": {},
   "source": [
    "手动加载日志系统"
   ]
  },
  {
   "cell_type": "code",
   "execution_count": 14,
   "id": "39932aa9",
   "metadata": {},
   "outputs": [],
   "source": [
    "import logging\n",
    "# logging.getLogger().addHandler(logging.StreamHandler())\n",
    "logger = logging.getLogger()\n",
    "logger.setLevel(logging.INFO)\n",
    "\n",
    "# create console handler and set level to debug\n",
    "ch = logging.StreamHandler()\n",
    "ch.setLevel(logging.INFO)\n",
    "\n",
    "# create formatter\n",
    "formatter = logging.Formatter('%(asctime)s - %(name)s - %(levelname)s - %(message)s')\n",
    "\n",
    "# add formatter to ch\n",
    "ch.setFormatter(formatter)\n",
    "\n",
    "# add ch to logger\n",
    "logger.addHandler(ch)"
   ]
  },
  {
   "cell_type": "markdown",
   "id": "bd8adfbd",
   "metadata": {},
   "source": [
    "启动求解"
   ]
  },
  {
   "cell_type": "code",
   "execution_count": 15,
   "id": "abca1a68",
   "metadata": {
    "scrolled": true
   },
   "outputs": [
    {
     "name": "stderr",
     "output_type": "stream",
     "text": [
      "2024-02-27 08:37:46,738 - modulus.sym.trainer - WARNING - Installed PyTorch version 2.2.0a0+81ea7a4 is not TorchScript supported in Modulus. Version 2.1.0a0+4136153 is officially supported.\n",
      "2024-02-27 08:37:46,748 - modulus.sym.trainer - INFO - attempting to restore from: /workspace/09_2D_LDC_Importance_Sampling/outputs\n",
      "2024-02-27 08:37:46,749 - modulus.sym.trainer - WARNING - optimizer checkpoint not found\n",
      "2024-02-27 08:37:46,750 - modulus.sym.trainer - WARNING - model flow_network.0.pth not found\n",
      "2024-02-27 08:38:12,814 - modulus.sym.trainer - INFO - [step:          0] record constraint batch time:  1.370e-01s\n",
      "2024-02-27 08:38:21,207 - modulus.sym.trainer - INFO - [step:          0] record validators time:  8.392e+00s\n",
      "2024-02-27 08:38:26,427 - modulus.sym.trainer - INFO - [step:          0] record inferencers time:  5.217e+00s\n",
      "2024-02-27 08:38:26,461 - modulus.sym.trainer - INFO - [step:          0] saved checkpoint to /workspace/09_2D_LDC_Importance_Sampling/outputs\n",
      "2024-02-27 08:38:26,463 - modulus.sym.trainer - INFO - [step:          0] loss:  4.905e-02\n",
      "2024-02-27 08:38:27,894 - modulus.sym.trainer - INFO - Attempting cuda graph building, this may take a bit...\n",
      "2024-02-27 08:38:41,135 - modulus.sym.trainer - INFO - [step:        100] loss:  6.561e-03, time/iteration:  1.467e+02 ms\n",
      "2024-02-27 08:38:44,632 - modulus.sym.trainer - INFO - [step:        200] loss:  4.973e-03, time/iteration:  3.496e+01 ms\n",
      "2024-02-27 08:38:48,150 - modulus.sym.trainer - INFO - [step:        300] loss:  3.429e-03, time/iteration:  3.513e+01 ms\n",
      "2024-02-27 08:38:51,695 - modulus.sym.trainer - INFO - [step:        400] loss:  2.423e-03, time/iteration:  3.542e+01 ms\n",
      "2024-02-27 08:38:55,275 - modulus.sym.trainer - INFO - [step:        500] loss:  2.089e-03, time/iteration:  3.579e+01 ms\n",
      "2024-02-27 08:38:59,234 - modulus.sym.trainer - INFO - [step:        600] loss:  1.635e-03, time/iteration:  3.956e+01 ms\n",
      "2024-02-27 08:39:02,862 - modulus.sym.trainer - INFO - [step:        700] loss:  1.578e-03, time/iteration:  3.625e+01 ms\n",
      "2024-02-27 08:39:06,281 - modulus.sym.trainer - INFO - [step:        800] loss:  1.577e-03, time/iteration:  3.417e+01 ms\n",
      "2024-02-27 08:39:09,715 - modulus.sym.trainer - INFO - [step:        900] loss:  9.799e-04, time/iteration:  3.433e+01 ms\n",
      "2024-02-27 08:39:49,427 - modulus.sym.trainer - INFO - [step:       1000] record validators time:  8.023e+00s\n",
      "2024-02-27 08:39:49,462 - modulus.sym.trainer - INFO - [step:       1000] saved checkpoint to /workspace/09_2D_LDC_Importance_Sampling/outputs\n",
      "2024-02-27 08:39:49,463 - modulus.sym.trainer - INFO - [step:       1000] loss:  1.047e-03, time/iteration:  3.975e+02 ms\n",
      "2024-02-27 08:39:54,886 - modulus.sym.trainer - INFO - [step:       1100] loss:  7.694e-04, time/iteration:  5.422e+01 ms\n",
      "2024-02-27 08:39:59,122 - modulus.sym.trainer - INFO - [step:       1200] loss:  6.164e-04, time/iteration:  4.233e+01 ms\n",
      "2024-02-27 08:40:03,253 - modulus.sym.trainer - INFO - [step:       1300] loss:  8.148e-04, time/iteration:  4.128e+01 ms\n",
      "2024-02-27 08:40:07,801 - modulus.sym.trainer - INFO - [step:       1400] loss:  4.789e-04, time/iteration:  4.548e+01 ms\n",
      "2024-02-27 08:40:13,162 - modulus.sym.trainer - INFO - [step:       1500] loss:  5.199e-04, time/iteration:  5.359e+01 ms\n",
      "2024-02-27 08:40:18,432 - modulus.sym.trainer - INFO - [step:       1600] loss:  6.754e-04, time/iteration:  5.268e+01 ms\n",
      "2024-02-27 08:40:24,369 - modulus.sym.trainer - INFO - [step:       1700] loss:  5.936e-04, time/iteration:  5.934e+01 ms\n",
      "2024-02-27 08:40:29,640 - modulus.sym.trainer - INFO - [step:       1800] loss:  4.111e-04, time/iteration:  5.269e+01 ms\n",
      "2024-02-27 08:40:34,644 - modulus.sym.trainer - INFO - [step:       1900] loss:  5.638e-04, time/iteration:  5.002e+01 ms\n",
      "2024-02-27 08:41:08,804 - modulus.sym.trainer - INFO - [step:       2000] record constraint batch time:  1.391e-01s\n",
      "2024-02-27 08:41:16,575 - modulus.sym.trainer - INFO - [step:       2000] record validators time:  7.768e+00s\n",
      "2024-02-27 08:41:21,838 - modulus.sym.trainer - INFO - [step:       2000] record inferencers time:  5.253e+00s\n",
      "2024-02-27 08:41:21,877 - modulus.sym.trainer - INFO - [step:       2000] saved checkpoint to /workspace/09_2D_LDC_Importance_Sampling/outputs\n",
      "2024-02-27 08:41:21,878 - modulus.sym.trainer - INFO - [step:       2000] loss:  4.906e-04, time/iteration:  4.723e+02 ms\n",
      "2024-02-27 08:41:28,531 - modulus.sym.trainer - INFO - [step:       2100] loss:  3.810e-04, time/iteration:  6.652e+01 ms\n",
      "2024-02-27 08:41:35,414 - modulus.sym.trainer - INFO - [step:       2200] loss:  4.495e-04, time/iteration:  6.881e+01 ms\n",
      "2024-02-27 08:41:40,011 - modulus.sym.trainer - INFO - [step:       2300] loss:  3.486e-04, time/iteration:  4.594e+01 ms\n",
      "2024-02-27 08:41:44,580 - modulus.sym.trainer - INFO - [step:       2400] loss:  2.699e-04, time/iteration:  4.565e+01 ms\n",
      "2024-02-27 08:41:50,670 - modulus.sym.trainer - INFO - [step:       2500] loss:  2.453e-04, time/iteration:  6.088e+01 ms\n",
      "2024-02-27 08:41:57,599 - modulus.sym.trainer - INFO - [step:       2600] loss:  2.648e-04, time/iteration:  6.927e+01 ms\n",
      "2024-02-27 08:42:04,315 - modulus.sym.trainer - INFO - [step:       2700] loss:  2.072e-04, time/iteration:  6.714e+01 ms\n",
      "2024-02-27 08:42:10,663 - modulus.sym.trainer - INFO - [step:       2800] loss:  2.969e-04, time/iteration:  6.346e+01 ms\n",
      "2024-02-27 08:42:17,472 - modulus.sym.trainer - INFO - [step:       2900] loss:  2.358e-04, time/iteration:  6.806e+01 ms\n",
      "2024-02-27 08:43:01,762 - modulus.sym.trainer - INFO - [step:       3000] record validators time:  7.873e+00s\n",
      "2024-02-27 08:43:01,792 - modulus.sym.trainer - INFO - [step:       3000] saved checkpoint to /workspace/09_2D_LDC_Importance_Sampling/outputs\n",
      "2024-02-27 08:43:01,794 - modulus.sym.trainer - INFO - [step:       3000] loss:  3.247e-04, time/iteration:  4.432e+02 ms\n",
      "2024-02-27 08:43:08,957 - modulus.sym.trainer - INFO - [step:       3100] loss:  3.284e-04, time/iteration:  7.163e+01 ms\n",
      "2024-02-27 08:43:16,065 - modulus.sym.trainer - INFO - [step:       3200] loss:  3.611e-04, time/iteration:  7.107e+01 ms\n",
      "2024-02-27 08:43:21,492 - modulus.sym.trainer - INFO - [step:       3300] loss:  3.715e-04, time/iteration:  5.424e+01 ms\n",
      "2024-02-27 08:43:26,347 - modulus.sym.trainer - INFO - [step:       3400] loss:  2.528e-04, time/iteration:  4.853e+01 ms\n",
      "2024-02-27 08:43:32,391 - modulus.sym.trainer - INFO - [step:       3500] loss:  1.788e-04, time/iteration:  6.042e+01 ms\n",
      "2024-02-27 08:43:39,187 - modulus.sym.trainer - INFO - [step:       3600] loss:  2.098e-04, time/iteration:  6.794e+01 ms\n",
      "2024-02-27 08:43:46,351 - modulus.sym.trainer - INFO - [step:       3700] loss:  2.523e-04, time/iteration:  7.161e+01 ms\n",
      "2024-02-27 08:43:53,420 - modulus.sym.trainer - INFO - [step:       3800] loss:  1.808e-04, time/iteration:  7.066e+01 ms\n",
      "2024-02-27 08:44:00,098 - modulus.sym.trainer - INFO - [step:       3900] loss:  1.933e-04, time/iteration:  6.674e+01 ms\n",
      "2024-02-27 08:44:36,039 - modulus.sym.trainer - INFO - [step:       4000] record constraint batch time:  9.614e-02s\n",
      "2024-02-27 08:44:43,010 - modulus.sym.trainer - INFO - [step:       4000] record validators time:  6.967e+00s\n",
      "2024-02-27 08:44:47,794 - modulus.sym.trainer - INFO - [step:       4000] record inferencers time:  4.781e+00s\n",
      "2024-02-27 08:44:47,836 - modulus.sym.trainer - INFO - [step:       4000] saved checkpoint to /workspace/09_2D_LDC_Importance_Sampling/outputs\n",
      "2024-02-27 08:44:47,838 - modulus.sym.trainer - INFO - [step:       4000] loss:  3.230e-04, time/iteration:  4.774e+02 ms\n",
      "2024-02-27 08:44:54,845 - modulus.sym.trainer - INFO - [step:       4100] loss:  3.603e-04, time/iteration:  7.005e+01 ms\n",
      "2024-02-27 08:45:01,236 - modulus.sym.trainer - INFO - [step:       4200] loss:  1.419e-04, time/iteration:  6.388e+01 ms\n",
      "2024-02-27 08:45:06,078 - modulus.sym.trainer - INFO - [step:       4300] loss:  1.906e-04, time/iteration:  4.840e+01 ms\n",
      "2024-02-27 08:45:11,777 - modulus.sym.trainer - INFO - [step:       4400] loss:  1.786e-04, time/iteration:  5.698e+01 ms\n",
      "2024-02-27 08:45:18,628 - modulus.sym.trainer - INFO - [step:       4500] loss:  3.939e-04, time/iteration:  6.849e+01 ms\n",
      "2024-02-27 08:45:25,750 - modulus.sym.trainer - INFO - [step:       4600] loss:  1.691e-04, time/iteration:  7.120e+01 ms\n"
     ]
    },
    {
     "name": "stderr",
     "output_type": "stream",
     "text": [
      "2024-02-27 08:45:32,703 - modulus.sym.trainer - INFO - [step:       4700] loss:  2.244e-04, time/iteration:  6.950e+01 ms\n",
      "2024-02-27 08:45:39,776 - modulus.sym.trainer - INFO - [step:       4800] loss:  1.948e-04, time/iteration:  7.071e+01 ms\n",
      "2024-02-27 08:45:46,597 - modulus.sym.trainer - INFO - [step:       4900] loss:  1.623e-04, time/iteration:  6.819e+01 ms\n",
      "2024-02-27 08:46:30,365 - modulus.sym.trainer - INFO - [step:       5000] record validators time:  7.681e+00s\n",
      "2024-02-27 08:46:30,396 - modulus.sym.trainer - INFO - [step:       5000] saved checkpoint to /workspace/09_2D_LDC_Importance_Sampling/outputs\n",
      "2024-02-27 08:46:30,398 - modulus.sym.trainer - INFO - [step:       5000] loss:  2.061e-04, time/iteration:  4.380e+02 ms\n",
      "2024-02-27 08:46:37,714 - modulus.sym.trainer - INFO - [step:       5100] loss:  1.562e-04, time/iteration:  7.315e+01 ms\n",
      "2024-02-27 08:46:44,271 - modulus.sym.trainer - INFO - [step:       5200] loss:  1.749e-04, time/iteration:  6.554e+01 ms\n",
      "2024-02-27 08:46:50,385 - modulus.sym.trainer - INFO - [step:       5300] loss:  2.950e-04, time/iteration:  6.110e+01 ms\n",
      "2024-02-27 08:46:57,390 - modulus.sym.trainer - INFO - [step:       5400] loss:  5.569e-04, time/iteration:  7.002e+01 ms\n",
      "2024-02-27 08:47:04,852 - modulus.sym.trainer - INFO - [step:       5500] loss:  1.321e-04, time/iteration:  7.460e+01 ms\n",
      "2024-02-27 08:47:12,280 - modulus.sym.trainer - INFO - [step:       5600] loss:  1.537e-04, time/iteration:  7.425e+01 ms\n",
      "2024-02-27 08:47:19,752 - modulus.sym.trainer - INFO - [step:       5700] loss:  4.524e-04, time/iteration:  7.470e+01 ms\n",
      "2024-02-27 08:47:27,116 - modulus.sym.trainer - INFO - [step:       5800] loss:  1.490e-04, time/iteration:  7.362e+01 ms\n",
      "2024-02-27 08:47:34,546 - modulus.sym.trainer - INFO - [step:       5900] loss:  1.542e-04, time/iteration:  7.428e+01 ms\n",
      "2024-02-27 08:48:07,973 - modulus.sym.trainer - INFO - [step:       6000] record constraint batch time:  8.679e-02s\n",
      "2024-02-27 08:48:16,299 - modulus.sym.trainer - INFO - [step:       6000] record validators time:  8.322e+00s\n",
      "2024-02-27 08:48:21,890 - modulus.sym.trainer - INFO - [step:       6000] record inferencers time:  5.587e+00s\n",
      "2024-02-27 08:48:21,936 - modulus.sym.trainer - INFO - [step:       6000] saved checkpoint to /workspace/09_2D_LDC_Importance_Sampling/outputs\n",
      "2024-02-27 08:48:21,937 - modulus.sym.trainer - INFO - [step:       6000] loss:  2.175e-04, time/iteration:  4.739e+02 ms\n",
      "2024-02-27 08:48:27,276 - modulus.sym.trainer - INFO - [step:       6100] loss:  1.795e-04, time/iteration:  5.338e+01 ms\n",
      "2024-02-27 08:48:33,883 - modulus.sym.trainer - INFO - [step:       6200] loss:  2.594e-04, time/iteration:  6.606e+01 ms\n",
      "2024-02-27 08:48:41,355 - modulus.sym.trainer - INFO - [step:       6300] loss:  1.264e-04, time/iteration:  7.469e+01 ms\n",
      "2024-02-27 08:48:48,746 - modulus.sym.trainer - INFO - [step:       6400] loss:  2.358e-04, time/iteration:  7.389e+01 ms\n",
      "2024-02-27 08:48:56,169 - modulus.sym.trainer - INFO - [step:       6500] loss:  1.443e-04, time/iteration:  7.420e+01 ms\n",
      "2024-02-27 08:49:03,436 - modulus.sym.trainer - INFO - [step:       6600] loss:  1.565e-04, time/iteration:  7.265e+01 ms\n",
      "2024-02-27 08:49:10,972 - modulus.sym.trainer - INFO - [step:       6700] loss:  1.817e-04, time/iteration:  7.534e+01 ms\n",
      "2024-02-27 08:49:16,379 - modulus.sym.trainer - INFO - [step:       6800] loss:  1.939e-04, time/iteration:  5.404e+01 ms\n",
      "2024-02-27 08:49:21,479 - modulus.sym.trainer - INFO - [step:       6900] loss:  1.146e-04, time/iteration:  5.099e+01 ms\n",
      "2024-02-27 08:50:00,647 - modulus.sym.trainer - INFO - [step:       7000] record validators time:  7.611e+00s\n",
      "2024-02-27 08:50:00,706 - modulus.sym.trainer - INFO - [step:       7000] saved checkpoint to /workspace/09_2D_LDC_Importance_Sampling/outputs\n",
      "2024-02-27 08:50:00,708 - modulus.sym.trainer - INFO - [step:       7000] loss:  1.571e-04, time/iteration:  3.923e+02 ms\n",
      "2024-02-27 08:50:05,935 - modulus.sym.trainer - INFO - [step:       7100] loss:  2.469e-04, time/iteration:  5.226e+01 ms\n",
      "2024-02-27 08:50:12,048 - modulus.sym.trainer - INFO - [step:       7200] loss:  9.381e-05, time/iteration:  6.110e+01 ms\n",
      "2024-02-27 08:50:19,281 - modulus.sym.trainer - INFO - [step:       7300] loss:  1.751e-04, time/iteration:  7.232e+01 ms\n",
      "2024-02-27 08:50:26,789 - modulus.sym.trainer - INFO - [step:       7400] loss:  1.243e-04, time/iteration:  7.506e+01 ms\n",
      "2024-02-27 08:50:33,962 - modulus.sym.trainer - INFO - [step:       7500] loss:  1.947e-04, time/iteration:  7.171e+01 ms\n",
      "2024-02-27 08:50:41,358 - modulus.sym.trainer - INFO - [step:       7600] loss:  2.002e-04, time/iteration:  7.393e+01 ms\n",
      "2024-02-27 08:50:48,872 - modulus.sym.trainer - INFO - [step:       7700] loss:  1.431e-04, time/iteration:  7.509e+01 ms\n",
      "2024-02-27 08:50:54,563 - modulus.sym.trainer - INFO - [step:       7800] loss:  1.819e-04, time/iteration:  5.690e+01 ms\n",
      "2024-02-27 08:50:59,762 - modulus.sym.trainer - INFO - [step:       7900] loss:  2.168e-04, time/iteration:  5.195e+01 ms\n",
      "2024-02-27 08:51:32,437 - modulus.sym.trainer - INFO - [step:       8000] record constraint batch time:  8.905e-02s\n",
      "2024-02-27 08:51:39,842 - modulus.sym.trainer - INFO - [step:       8000] record validators time:  7.402e+00s\n",
      "2024-02-27 08:51:44,802 - modulus.sym.trainer - INFO - [step:       8000] record inferencers time:  4.933e+00s\n",
      "2024-02-27 08:51:44,845 - modulus.sym.trainer - INFO - [step:       8000] saved checkpoint to /workspace/09_2D_LDC_Importance_Sampling/outputs\n",
      "2024-02-27 08:51:44,847 - modulus.sym.trainer - INFO - [step:       8000] loss:  1.247e-04, time/iteration:  4.508e+02 ms\n",
      "2024-02-27 08:51:51,428 - modulus.sym.trainer - INFO - [step:       8100] loss:  1.070e-04, time/iteration:  6.580e+01 ms\n",
      "2024-02-27 08:51:58,774 - modulus.sym.trainer - INFO - [step:       8200] loss:  1.002e-04, time/iteration:  7.343e+01 ms\n",
      "2024-02-27 08:52:06,427 - modulus.sym.trainer - INFO - [step:       8300] loss:  1.609e-04, time/iteration:  7.650e+01 ms\n",
      "2024-02-27 08:52:13,634 - modulus.sym.trainer - INFO - [step:       8400] loss:  1.119e-04, time/iteration:  7.205e+01 ms\n",
      "2024-02-27 08:52:20,881 - modulus.sym.trainer - INFO - [step:       8500] loss:  1.755e-04, time/iteration:  7.244e+01 ms\n",
      "2024-02-27 08:52:27,606 - modulus.sym.trainer - INFO - [step:       8600] loss:  2.366e-04, time/iteration:  6.723e+01 ms\n",
      "2024-02-27 08:52:33,027 - modulus.sym.trainer - INFO - [step:       8700] loss:  3.060e-04, time/iteration:  5.418e+01 ms\n",
      "2024-02-27 08:52:38,963 - modulus.sym.trainer - INFO - [step:       8800] loss:  1.425e-04, time/iteration:  5.934e+01 ms\n",
      "2024-02-27 08:52:46,541 - modulus.sym.trainer - INFO - [step:       8900] loss:  2.624e-04, time/iteration:  7.575e+01 ms\n",
      "2024-02-27 08:53:30,733 - modulus.sym.trainer - INFO - [step:       9000] record validators time:  7.930e+00s\n",
      "2024-02-27 08:53:30,770 - modulus.sym.trainer - INFO - [step:       9000] saved checkpoint to /workspace/09_2D_LDC_Importance_Sampling/outputs\n",
      "2024-02-27 08:53:30,772 - modulus.sym.trainer - INFO - [step:       9000] loss:  2.033e-04, time/iteration:  4.423e+02 ms\n",
      "2024-02-27 08:53:37,771 - modulus.sym.trainer - INFO - [step:       9100] loss:  1.110e-04, time/iteration:  6.998e+01 ms\n",
      "2024-02-27 08:53:44,734 - modulus.sym.trainer - INFO - [step:       9200] loss:  2.113e-04, time/iteration:  6.961e+01 ms\n",
      "2024-02-27 08:53:51,731 - modulus.sym.trainer - INFO - [step:       9300] loss:  9.182e-05, time/iteration:  6.993e+01 ms\n",
      "2024-02-27 08:53:58,768 - modulus.sym.trainer - INFO - [step:       9400] loss:  1.080e-04, time/iteration:  7.035e+01 ms\n",
      "2024-02-27 08:54:04,512 - modulus.sym.trainer - INFO - [step:       9500] loss:  1.857e-04, time/iteration:  5.740e+01 ms\n",
      "2024-02-27 08:54:10,246 - modulus.sym.trainer - INFO - [step:       9600] loss:  2.413e-04, time/iteration:  5.732e+01 ms\n",
      "2024-02-27 08:54:17,562 - modulus.sym.trainer - INFO - [step:       9700] loss:  8.660e-05, time/iteration:  7.313e+01 ms\n",
      "2024-02-27 08:54:25,159 - modulus.sym.trainer - INFO - [step:       9800] loss:  2.201e-04, time/iteration:  7.594e+01 ms\n",
      "2024-02-27 08:54:32,597 - modulus.sym.trainer - INFO - [step:       9900] loss:  1.880e-04, time/iteration:  7.436e+01 ms\n",
      "2024-02-27 08:55:13,003 - modulus.sym.trainer - INFO - [step:      10000] record constraint batch time:  9.058e-02s\n"
     ]
    },
    {
     "name": "stderr",
     "output_type": "stream",
     "text": [
      "2024-02-27 08:55:20,592 - modulus.sym.trainer - INFO - [step:      10000] record validators time:  7.587e+00s\n",
      "2024-02-27 08:55:25,275 - modulus.sym.trainer - INFO - [step:      10000] record inferencers time:  4.680e+00s\n",
      "2024-02-27 08:55:25,306 - modulus.sym.trainer - INFO - [step:      10000] saved checkpoint to /workspace/09_2D_LDC_Importance_Sampling/outputs\n",
      "2024-02-27 08:55:25,307 - modulus.sym.trainer - INFO - [step:      10000] loss:  1.251e-04, time/iteration:  5.271e+02 ms\n",
      "2024-02-27 08:55:25,308 - modulus.sym.trainer - INFO - [step:      10000] reached maximum training steps, finished training!\n"
     ]
    }
   ],
   "source": [
    "slv.solve()"
   ]
  },
  {
   "cell_type": "markdown",
   "id": "556674b9",
   "metadata": {},
   "source": [
    "### 后处理以及可视化\n",
    "\n",
    "对于jupyter，比较方便的方法是使用matplotlib\n",
    "\n",
    "此外，还可以使用tensorboard以及Paraview\n",
    "\n",
    "如果使用了PointwiseValidator则可以直接查看验证的结果：\n",
    "\n",
    "![u](./outputs/validators/validator_u.png)\n",
    "![v](./outputs/validators/validator_v.png)"
   ]
  }
 ],
 "metadata": {
  "kernelspec": {
   "display_name": "Python 3 (ipykernel)",
   "language": "python",
   "name": "python3"
  },
  "language_info": {
   "codemirror_mode": {
    "name": "ipython",
    "version": 3
   },
   "file_extension": ".py",
   "mimetype": "text/x-python",
   "name": "python",
   "nbconvert_exporter": "python",
   "pygments_lexer": "ipython3",
   "version": "3.10.12"
  }
 },
 "nbformat": 4,
 "nbformat_minor": 5
}
